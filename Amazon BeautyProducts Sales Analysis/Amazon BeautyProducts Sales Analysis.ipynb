{
 "cells": [
  {
   "cell_type": "markdown",
   "metadata": {},
   "source": [
    "<table style=\"float:left\">\n",
    "    <tr>\n",
    "        <td>\n",
    "            <img src=\"emlyon.png\" style=\"height:60px; float:left; padding-right:10px; margin-top:5px\" />\n",
    "        </td>\n",
    "        <td style=\"padding-bottom:10px; text-align:left;\">\n",
    "            <h1 style=\"border-bottom: 1px solid #eeeeee;\"> Python BootCamp </h1><br/>\n",
    "            <span style=\"display:inline-block; margin-top:-15px;\">\n",
    "            <a href=\"https://masters.em-lyon.com/en/msc-in-digital-marketing-data-science\">[Emlyon]</a> MSc in Digital Marketing & Data Science (DMDS)    \n",
    "            <br/>\n",
    "            Sep 2024, Paris | © Saeed VARASTEH [RP] | Jean SAVINIEN\n",
    "            </span>\n",
    "        </td>\n",
    "    </tr>\n",
    "</table>"
   ]
  },
  {
   "cell_type": "markdown",
   "metadata": {},
   "source": [
    "<div class=\"alert-info\" style=\"border-bottom: solid 1px lightgray; background-color:#fff4e3;\">\n",
    "    <img src=\"homework.png\" style=\"height:60px; float:left; padding-right:10px;\" />\n",
    "    <span style=\"font-weight:bold; color:#db9425\">\n",
    "        <h4 style=\"padding-top:25px;\"> HOMEWORK 05 </h4>\n",
    "    </span>\n",
    "</div>"
   ]
  },
  {
   "cell_type": "code",
   "execution_count": 3,
   "metadata": {},
   "outputs": [],
   "source": [
    "Name = \"\""
   ]
  },
  {
   "cell_type": "markdown",
   "metadata": {},
   "source": [
    "### Homework 05 - Beauty Products\n",
    "\n",
    "The aim of this exercise is to assess your ability to apply your newly acquired coding skills to a __practical/real-world__ project.\n",
    "\n",
    "Our goal is __data exploration__, not modeling.\n",
    "\n",
    "---"
   ]
  },
  {
   "cell_type": "markdown",
   "metadata": {},
   "source": [
    "<div style=\"color:gray; background-color:#eeeeee\">\n",
    "    Dataset description\n",
    "</div>\n",
    "<br/>\n",
    "\n",
    "The __beautyproducts.csv__ file contains information on beauty products sold in more than thirty thousand Amazon stores over the past 23 years. It includes the following features for each product:\n",
    "\n",
    "- __title__: Name of the product.\n",
    "- __average_rating__: Rating of the product shown on the product page.\n",
    "- __rating_number__: Number of ratings in the product.\n",
    "- __features__: Features of the product.\n",
    "- __description__: Description of the product.\n",
    "- __images__: Images of the product. Each image has different sizes (thumb, large, hi_res).\n",
    "- __store__: Store name of the product.\n",
    "- __details__: Product details, including materials, brand, sizes, etc.\n",
    "\n",
    "Lets read the file into a Pandas DataFrame to get a first impression."
   ]
  },
  {
   "cell_type": "code",
   "execution_count": 1,
   "metadata": {},
   "outputs": [],
   "source": [
    "# libraries\n",
    "import numpy as np\n",
    "import pandas as pd\n",
    "import matplotlib.pyplot as plt\n",
    "import seaborn as sns\n",
    "\n",
    "# Pandas Options\n",
    "pd.set_option(\"display.max_rows\", 50)"
   ]
  },
  {
   "cell_type": "code",
   "execution_count": 3,
   "metadata": {},
   "outputs": [
    {
     "name": "stdout",
     "output_type": "stream",
     "text": [
      "(112590, 8)\n"
     ]
    },
    {
     "data": {
      "text/html": [
       "<div>\n",
       "<style scoped>\n",
       "    .dataframe tbody tr th:only-of-type {\n",
       "        vertical-align: middle;\n",
       "    }\n",
       "\n",
       "    .dataframe tbody tr th {\n",
       "        vertical-align: top;\n",
       "    }\n",
       "\n",
       "    .dataframe thead th {\n",
       "        text-align: right;\n",
       "    }\n",
       "</style>\n",
       "<table border=\"1\" class=\"dataframe\">\n",
       "  <thead>\n",
       "    <tr style=\"text-align: right;\">\n",
       "      <th></th>\n",
       "      <th>title</th>\n",
       "      <th>average_rating</th>\n",
       "      <th>rating_number</th>\n",
       "      <th>features</th>\n",
       "      <th>description</th>\n",
       "      <th>images</th>\n",
       "      <th>store</th>\n",
       "      <th>details</th>\n",
       "    </tr>\n",
       "  </thead>\n",
       "  <tbody>\n",
       "    <tr>\n",
       "      <th>0</th>\n",
       "      <td>Howard LC0008 Leather Conditioner, 8-Ounce (4-...</td>\n",
       "      <td>4.8</td>\n",
       "      <td>10</td>\n",
       "      <td>[]</td>\n",
       "      <td>[]</td>\n",
       "      <td>[{'thumb': 'https://m.media-amazon.com/images/...</td>\n",
       "      <td>Howard Products</td>\n",
       "      <td>{'Package Dimensions': '7.1 x 5.5 x 3 inches; ...</td>\n",
       "    </tr>\n",
       "    <tr>\n",
       "      <th>1</th>\n",
       "      <td>Yes to Tomatoes Detoxifying Charcoal Cleanser ...</td>\n",
       "      <td>4.5</td>\n",
       "      <td>3</td>\n",
       "      <td>[]</td>\n",
       "      <td>[]</td>\n",
       "      <td>[{'thumb': 'https://m.media-amazon.com/images/...</td>\n",
       "      <td>Yes To</td>\n",
       "      <td>{'Item Form': 'Powder', 'Skin Type': 'Acne Pro...</td>\n",
       "    </tr>\n",
       "    <tr>\n",
       "      <th>2</th>\n",
       "      <td>Eye Patch Black Adult with Tie Band (6 Per Pack)</td>\n",
       "      <td>4.4</td>\n",
       "      <td>26</td>\n",
       "      <td>[]</td>\n",
       "      <td>[]</td>\n",
       "      <td>[{'thumb': 'https://m.media-amazon.com/images/...</td>\n",
       "      <td>Levine Health Products</td>\n",
       "      <td>{'Manufacturer': 'Levine Health Products'}</td>\n",
       "    </tr>\n",
       "    <tr>\n",
       "      <th>3</th>\n",
       "      <td>Tattoo Eyebrow Stickers, Waterproof Eyebrow, 4...</td>\n",
       "      <td>3.1</td>\n",
       "      <td>102</td>\n",
       "      <td>[]</td>\n",
       "      <td>[]</td>\n",
       "      <td>[{'thumb': 'https://m.media-amazon.com/images/...</td>\n",
       "      <td>Cherioll</td>\n",
       "      <td>{'Brand': 'Cherioll', 'Item Form': 'Powder', '...</td>\n",
       "    </tr>\n",
       "    <tr>\n",
       "      <th>4</th>\n",
       "      <td>Precision Plunger Bars for Cartridge Grips – 9...</td>\n",
       "      <td>4.3</td>\n",
       "      <td>7</td>\n",
       "      <td>['Material: 304 Stainless Steel; Brass tip', '...</td>\n",
       "      <td>['The Precision Plunger Bars are designed to w...</td>\n",
       "      <td>[{'thumb': 'https://m.media-amazon.com/images/...</td>\n",
       "      <td>Precision</td>\n",
       "      <td>{'UPC': '644287689178'}</td>\n",
       "    </tr>\n",
       "  </tbody>\n",
       "</table>\n",
       "</div>"
      ],
      "text/plain": [
       "                                               title  average_rating  \\\n",
       "0  Howard LC0008 Leather Conditioner, 8-Ounce (4-...             4.8   \n",
       "1  Yes to Tomatoes Detoxifying Charcoal Cleanser ...             4.5   \n",
       "2   Eye Patch Black Adult with Tie Band (6 Per Pack)             4.4   \n",
       "3  Tattoo Eyebrow Stickers, Waterproof Eyebrow, 4...             3.1   \n",
       "4  Precision Plunger Bars for Cartridge Grips – 9...             4.3   \n",
       "\n",
       "   rating_number                                           features  \\\n",
       "0             10                                                 []   \n",
       "1              3                                                 []   \n",
       "2             26                                                 []   \n",
       "3            102                                                 []   \n",
       "4              7  ['Material: 304 Stainless Steel; Brass tip', '...   \n",
       "\n",
       "                                         description  \\\n",
       "0                                                 []   \n",
       "1                                                 []   \n",
       "2                                                 []   \n",
       "3                                                 []   \n",
       "4  ['The Precision Plunger Bars are designed to w...   \n",
       "\n",
       "                                              images                   store  \\\n",
       "0  [{'thumb': 'https://m.media-amazon.com/images/...         Howard Products   \n",
       "1  [{'thumb': 'https://m.media-amazon.com/images/...                  Yes To   \n",
       "2  [{'thumb': 'https://m.media-amazon.com/images/...  Levine Health Products   \n",
       "3  [{'thumb': 'https://m.media-amazon.com/images/...                Cherioll   \n",
       "4  [{'thumb': 'https://m.media-amazon.com/images/...               Precision   \n",
       "\n",
       "                                             details  \n",
       "0  {'Package Dimensions': '7.1 x 5.5 x 3 inches; ...  \n",
       "1  {'Item Form': 'Powder', 'Skin Type': 'Acne Pro...  \n",
       "2         {'Manufacturer': 'Levine Health Products'}  \n",
       "3  {'Brand': 'Cherioll', 'Item Form': 'Powder', '...  \n",
       "4                            {'UPC': '644287689178'}  "
      ]
     },
     "execution_count": 3,
     "metadata": {},
     "output_type": "execute_result"
    }
   ],
   "source": [
    "df = pd.read_csv('beautyproducts.csv')\n",
    "print(df.shape)\n",
    "df.head()"
   ]
  },
  {
   "cell_type": "markdown",
   "metadata": {},
   "source": [
    "You need to know that working with real-world data is not as straightforward as it was in the classroom with mostly synthetic/clean data sets. \n",
    "\n",
    "Most of the time you will be working with large datasets like this one. Or you will be dealing with columns such as __features__, __description__, __images__, and __details__ that contain multiple values as a list or dictionary, which will add another layer of data processing as we work with these columns. \n",
    "\n",
    "For example, let us select a product from the \"Estee Lauder\" store and see what we have on it. e.g. index 4249."
   ]
  },
  {
   "cell_type": "code",
   "execution_count": 8,
   "metadata": {},
   "outputs": [
    {
     "data": {
      "text/plain": [
       "title             Bronze Goddess Summer Glow Lip & Cheek Color 0...\n",
       "average_rating                                                  4.7\n",
       "rating_number                                                    12\n",
       "features          ['Bronze Goddess Summer Glow Lip & Cheek Color...\n",
       "description       ['Estee Lauder Bronze Goddess Summer Glow Lip ...\n",
       "images            [{'thumb': 'https://m.media-amazon.com/images/...\n",
       "store                                                  Estee Lauder\n",
       "details           {'Brand': 'Estee Lauder', 'Color': 'Bronze', '...\n",
       "Name: 4249, dtype: object"
      ]
     },
     "execution_count": 8,
     "metadata": {},
     "output_type": "execute_result"
    }
   ],
   "source": [
    "idx = 4249\n",
    "df.iloc[idx]"
   ]
  },
  {
   "cell_type": "code",
   "execution_count": 10,
   "metadata": {},
   "outputs": [
    {
     "data": {
      "text/plain": [
       "'Bronze Goddess Summer Glow Lip & Cheek Color 03 Sunburst'"
      ]
     },
     "execution_count": 10,
     "metadata": {},
     "output_type": "execute_result"
    }
   ],
   "source": [
    "# title\n",
    "df.iloc[idx].title"
   ]
  },
  {
   "cell_type": "markdown",
   "metadata": {},
   "source": [
    "Titles are stored as __text__ exactly as we can find them on the Amazon webpage."
   ]
  },
  {
   "cell_type": "code",
   "execution_count": 13,
   "metadata": {},
   "outputs": [
    {
     "data": {
      "text/plain": [
       "(4.7, 12)"
      ]
     },
     "execution_count": 13,
     "metadata": {},
     "output_type": "execute_result"
    }
   ],
   "source": [
    "# average_rating and rating_number\n",
    "df.iloc[idx].average_rating, df.iloc[idx].rating_number"
   ]
  },
  {
   "cell_type": "markdown",
   "metadata": {},
   "source": [
    "The average rating and rating number columns have __numeric__ values."
   ]
  },
  {
   "cell_type": "code",
   "execution_count": 16,
   "metadata": {},
   "outputs": [
    {
     "data": {
      "text/plain": [
       "\"['Bronze Goddess Summer Glow Lip & Cheek Color 03 Sunburst', 'Estee Lauder', 'Full Size', 'Unboxed']\""
      ]
     },
     "execution_count": 16,
     "metadata": {},
     "output_type": "execute_result"
    }
   ],
   "source": [
    "# features\n",
    "df.iloc[idx].features"
   ]
  },
  {
   "cell_type": "markdown",
   "metadata": {},
   "source": [
    "Features should be stored as a __list of strings__. But if you look closely, the output is also quoted. That means the type is string. We need to fix this because we want the output to be a list so that we can select an element from it.\n",
    "\n",
    "<span style=\"color:crimson\">Note:</span> This problem is common in real-world data sets.\n",
    "\n",
    "To convert these strings into actual Python lists, you can use `ast.literal_eval()` from the `ast` module, which safely evaluates strings containing Python expressions and converts them to the corresponding data type. Here's how you can apply it:"
   ]
  },
  {
   "cell_type": "code",
   "execution_count": 19,
   "metadata": {},
   "outputs": [
    {
     "data": {
      "text/plain": [
       "['Bronze Goddess Summer Glow Lip & Cheek Color 03 Sunburst',\n",
       " 'Estee Lauder',\n",
       " 'Full Size',\n",
       " 'Unboxed']"
      ]
     },
     "execution_count": 19,
     "metadata": {},
     "output_type": "execute_result"
    }
   ],
   "source": [
    "import ast\n",
    "ast.literal_eval( df.iloc[idx].features )"
   ]
  },
  {
   "cell_type": "markdown",
   "metadata": {},
   "source": [
    "Good! You can simply apply this function to the entire column to convert the values from strings (objects) to lists."
   ]
  },
  {
   "cell_type": "code",
   "execution_count": 22,
   "metadata": {},
   "outputs": [],
   "source": [
    "df[\"features\"] = df[\"features\"].apply(ast.literal_eval)"
   ]
  },
  {
   "cell_type": "markdown",
   "metadata": {},
   "source": [
    "Let us check our previous code again:"
   ]
  },
  {
   "cell_type": "code",
   "execution_count": 25,
   "metadata": {},
   "outputs": [
    {
     "data": {
      "text/plain": [
       "['Bronze Goddess Summer Glow Lip & Cheek Color 03 Sunburst',\n",
       " 'Estee Lauder',\n",
       " 'Full Size',\n",
       " 'Unboxed']"
      ]
     },
     "execution_count": 25,
     "metadata": {},
     "output_type": "execute_result"
    }
   ],
   "source": [
    "# features\n",
    "df.iloc[idx].features"
   ]
  },
  {
   "cell_type": "markdown",
   "metadata": {},
   "source": [
    "Voila! Lets do this for __description__, __images__ and __details__ columns as well."
   ]
  },
  {
   "cell_type": "code",
   "execution_count": 28,
   "metadata": {},
   "outputs": [],
   "source": [
    "df[\"description\"] = df[\"description\"].apply(ast.literal_eval)\n",
    "df[\"images\"] = df[\"images\"].apply(ast.literal_eval)\n",
    "df[\"details\"] = df[\"details\"].apply(ast.literal_eval)"
   ]
  },
  {
   "cell_type": "code",
   "execution_count": 29,
   "metadata": {},
   "outputs": [
    {
     "data": {
      "text/plain": [
       "['Estee Lauder Bronze Goddess Summer Glow Lip & Cheek Color 03 Sunburst Full Size Unboxed']"
      ]
     },
     "execution_count": 29,
     "metadata": {},
     "output_type": "execute_result"
    }
   ],
   "source": [
    "# description\n",
    "df.iloc[idx].description"
   ]
  },
  {
   "cell_type": "code",
   "execution_count": 30,
   "metadata": {},
   "outputs": [
    {
     "data": {
      "text/plain": [
       "[{'thumb': 'https://m.media-amazon.com/images/I/31fgVZj+6LL._SS40_.jpg',\n",
       "  'large': 'https://m.media-amazon.com/images/I/31fgVZj+6LL.jpg',\n",
       "  'variant': 'MAIN',\n",
       "  'hi_res': 'https://m.media-amazon.com/images/I/51D9GvPsw5L._SL1399_.jpg'},\n",
       " {'thumb': 'https://m.media-amazon.com/images/I/31fgVZj+6LL._SS40_.jpg',\n",
       "  'large': 'https://m.media-amazon.com/images/I/31fgVZj+6LL.jpg',\n",
       "  'variant': 'PT01',\n",
       "  'hi_res': 'https://m.media-amazon.com/images/I/51D9GvPsw5L._SL1399_.jpg'},\n",
       " {'thumb': 'https://m.media-amazon.com/images/I/31fgVZj+6LL._SS40_.jpg',\n",
       "  'large': 'https://m.media-amazon.com/images/I/31fgVZj+6LL.jpg',\n",
       "  'variant': 'PT02',\n",
       "  'hi_res': 'https://m.media-amazon.com/images/I/51D9GvPsw5L._SL1399_.jpg'}]"
      ]
     },
     "execution_count": 30,
     "metadata": {},
     "output_type": "execute_result"
    }
   ],
   "source": [
    "# images\n",
    "df.iloc[idx].images"
   ]
  },
  {
   "cell_type": "markdown",
   "metadata": {},
   "source": [
    "Image information is stored as a __list of dictionaries__. For each image we have four features (thumb, large, variant, hi_res) in a dictionary-style format. For example, to get the high resolution version of the first image, we can write:"
   ]
  },
  {
   "cell_type": "code",
   "execution_count": 35,
   "metadata": {},
   "outputs": [
    {
     "data": {
      "text/plain": [
       "'https://m.media-amazon.com/images/I/51D9GvPsw5L._SL1399_.jpg'"
      ]
     },
     "execution_count": 35,
     "metadata": {},
     "output_type": "execute_result"
    }
   ],
   "source": [
    "df.iloc[idx].images[0][\"hi_res\"]"
   ]
  },
  {
   "cell_type": "markdown",
   "metadata": {},
   "source": [
    "Click the link to see how reliable the links are in this dataset."
   ]
  },
  {
   "cell_type": "code",
   "execution_count": 38,
   "metadata": {},
   "outputs": [
    {
     "data": {
      "text/plain": [
       "{'Brand': 'Estee Lauder',\n",
       " 'Color': 'Bronze',\n",
       " 'Skin Type': 'All',\n",
       " 'Item Form': 'Cream',\n",
       " 'Age Range (Description)': 'Adult',\n",
       " 'Is Discontinued By Manufacturer': 'No',\n",
       " 'Product Dimensions': '1 x 1 x 5 inches; 4.96 Ounces',\n",
       " 'UPC': '887167219793'}"
      ]
     },
     "execution_count": 38,
     "metadata": {},
     "output_type": "execute_result"
    }
   ],
   "source": [
    "# details\n",
    "df.iloc[idx].details"
   ]
  },
  {
   "cell_type": "markdown",
   "metadata": {},
   "source": [
    "The data in this column is stored as a __dictionary__. \n",
    "\n",
    "This column stores many details about the product and it is different from one product to another! change the __idx__ to see for yourself."
   ]
  },
  {
   "cell_type": "markdown",
   "metadata": {},
   "source": [
    "---"
   ]
  },
  {
   "cell_type": "markdown",
   "metadata": {},
   "source": [
    "<div style=\"color:gray; background-color:#eeeeee\">\n",
    "    Your Task\n",
    "</div>"
   ]
  },
  {
   "cell_type": "markdown",
   "metadata": {},
   "source": [
    "You are a data analyst in a startup company targeting the beauty market. You are not given a specific task to do! Your job is to extract as much information as you can from this dataset to help your company's marketing strategies.\n",
    "\n",
    "Here are some questions you can answer.\n",
    "\n",
    "- How many stores are in the dataset? \n",
    "- Which stores sell the most number of items?\n",
    "- How many brands are selling items in the dataset?\n",
    "- Which brands have the highest ratings? \n",
    "- Which products have the highest average rating? List the top 50. Use products with number of rating greater than 1000.\n",
    "- Do these top-rated products share common characteristics?\n",
    "- Display images and print details of the top 10 highest-rated products.\n",
    "- What will be a good marketing strategy when your company launches its first product?\n",
    "\n",
    "Add at least __7__ more questions of your choice to this list and try to answer them.\n",
    "\n",
    "Comment/document everything."
   ]
  },
  {
   "cell_type": "markdown",
   "metadata": {},
   "source": [
    "## How many stores are in the dataset?\n"
   ]
  },
  {
   "cell_type": "code",
   "execution_count": 41,
   "metadata": {},
   "outputs": [],
   "source": [
    "dff = df.dropna()"
   ]
  },
  {
   "cell_type": "code",
   "execution_count": 43,
   "metadata": {},
   "outputs": [
    {
     "data": {
      "text/plain": [
       "store\n",
       "Bath & Body Works    481\n",
       "WILLBOND             388\n",
       "Hairro               381\n",
       "Generic              369\n",
       "S-noilite            340\n",
       "                    ... \n",
       "ASSOS Cycling          1\n",
       "LA Bodies              1\n",
       "Lingon                 1\n",
       "STAUB                  1\n",
       "DVIO                   1\n",
       "Name: count, Length: 30759, dtype: int64"
      ]
     },
     "execution_count": 43,
     "metadata": {},
     "output_type": "execute_result"
    }
   ],
   "source": [
    "dff['store'].value_counts() #count the values in column store (each value is a store)"
   ]
  },
  {
   "cell_type": "code",
   "execution_count": 45,
   "metadata": {},
   "outputs": [
    {
     "data": {
      "text/plain": [
       "30759"
      ]
     },
     "execution_count": 45,
     "metadata": {},
     "output_type": "execute_result"
    }
   ],
   "source": [
    "len(dff[\"store\"].unique()) #unique() includes NaN values by default"
   ]
  },
  {
   "cell_type": "code",
   "execution_count": 47,
   "metadata": {},
   "outputs": [
    {
     "data": {
      "text/plain": [
       "30759"
      ]
     },
     "execution_count": 47,
     "metadata": {},
     "output_type": "execute_result"
    }
   ],
   "source": [
    "dff[\"store\"].nunique() #nunique() ignores NaN values by default"
   ]
  },
  {
   "cell_type": "markdown",
   "metadata": {
    "jp-MarkdownHeadingCollapsed": true
   },
   "source": [
    "## Which stores sell the most number of items?\n",
    "\n",
    "Because Bath & Body Works is the store that appears the most in the dataframe, we can say that it is the store that sell the msot number of items, given that beautyproducts.csv file contains information on beauty products sold. So each time that a company appears, it means a sold item by them. "
   ]
  },
  {
   "cell_type": "code",
   "execution_count": 113,
   "metadata": {},
   "outputs": [
    {
     "data": {
      "text/plain": [
       "store\n",
       "Bath & Body Works    481\n",
       "WILLBOND             388\n",
       "Hairro               381\n",
       "Generic              369\n",
       "S-noilite            340\n",
       "                    ... \n",
       "STAUB                  1\n",
       "YUATCYA                1\n",
       "starbuzz               1\n",
       "Heladerm               1\n",
       "DVIO                   1\n",
       "Name: count, Length: 30761, dtype: int64"
      ]
     },
     "execution_count": 113,
     "metadata": {},
     "output_type": "execute_result"
    }
   ],
   "source": [
    "df['store'].value_counts() #counts the occurrences of each value in the store column "
   ]
  },
  {
   "cell_type": "markdown",
   "metadata": {},
   "source": [
    "## How many brands are selling items in the dataset?\n",
    "\n",
    "To see \"Brand\" in \"details\" would be a way to count how many brands are in the df. However, given the lack of information in some of these variables, it can be assumed that a store would be the equivalent to a brand. "
   ]
  },
  {
   "cell_type": "code",
   "execution_count": 115,
   "metadata": {},
   "outputs": [
    {
     "data": {
      "text/plain": [
       "store\n",
       "Bath & Body Works    481\n",
       "WILLBOND             388\n",
       "Hairro               381\n",
       "Generic              369\n",
       "S-noilite            340\n",
       "                    ... \n",
       "STAUB                  1\n",
       "YUATCYA                1\n",
       "starbuzz               1\n",
       "Heladerm               1\n",
       "DVIO                   1\n",
       "Name: count, Length: 30761, dtype: int64"
      ]
     },
     "execution_count": 115,
     "metadata": {},
     "output_type": "execute_result"
    }
   ],
   "source": [
    "df['store'].value_counts()"
   ]
  },
  {
   "cell_type": "code",
   "execution_count": 117,
   "metadata": {},
   "outputs": [
    {
     "data": {
      "text/plain": [
       "{'UPC': '644287689178'}"
      ]
     },
     "execution_count": 117,
     "metadata": {},
     "output_type": "execute_result"
    }
   ],
   "source": [
    "#has no brand in details  \n",
    "df['details'][4]"
   ]
  },
  {
   "cell_type": "code",
   "execution_count": 119,
   "metadata": {},
   "outputs": [
    {
     "data": {
      "text/plain": [
       "{'Item Form': 'Powder',\n",
       " 'Skin Type': 'Acne Prone',\n",
       " 'Brand': 'Yes To',\n",
       " 'Age Range (Description)': 'Adult',\n",
       " 'Unit Count': '10 Fl Oz',\n",
       " 'Is Discontinued By Manufacturer': 'No',\n",
       " 'Item model number': 'SG_B076WQZGPM_US',\n",
       " 'UPC': '653801351125',\n",
       " 'Manufacturer': 'Yes to Tomatoes'}"
      ]
     },
     "execution_count": 119,
     "metadata": {},
     "output_type": "execute_result"
    }
   ],
   "source": [
    "#has a brand \n",
    "df['details'][1]"
   ]
  },
  {
   "cell_type": "markdown",
   "metadata": {},
   "source": [
    "If we try to get the brands in the details column we can do this:"
   ]
  },
  {
   "cell_type": "code",
   "execution_count": 41,
   "metadata": {},
   "outputs": [],
   "source": [
    "#source https://stackoverflow.com/questions/25231989/how-to-check-if-a-variable-is-a-dictionary-in-python\n",
    "from typing import Dict"
   ]
  },
  {
   "cell_type": "code",
   "execution_count": 43,
   "metadata": {},
   "outputs": [],
   "source": [
    "#function to get the key and value of the dictionary where the key is brand\n",
    "def branded(x):\n",
    "    if isinstance(x, Dict): #need to check if it is a dictionary because if it is not it won't run and this makes sure the iteration goes to all keys \n",
    "        for key, value in x.items():\n",
    "            if key == 'Brand':\n",
    "                return value\n",
    "    else:\n",
    "        return None"
   ]
  },
  {
   "cell_type": "code",
   "execution_count": 45,
   "metadata": {},
   "outputs": [
    {
     "data": {
      "text/plain": [
       "0               None\n",
       "1             Yes To\n",
       "2               None\n",
       "3           Cherioll\n",
       "4               None\n",
       "             ...    \n",
       "112585          None\n",
       "112586          None\n",
       "112587    RainMakers\n",
       "112588          None\n",
       "112589          None\n",
       "Name: brand, Length: 112590, dtype: object"
      ]
     },
     "execution_count": 45,
     "metadata": {},
     "output_type": "execute_result"
    }
   ],
   "source": [
    "df[\"brand\"] = df[\"details\"].apply(branded) #apply function to df and create column brand \n",
    "df[\"brand\"]"
   ]
  },
  {
   "cell_type": "code",
   "execution_count": 47,
   "metadata": {},
   "outputs": [
    {
     "data": {
      "text/plain": [
       "brand\n",
       "Bath & Body Works    380\n",
       "WILLBOND             318\n",
       "Hairro               290\n",
       "S-noilite            286\n",
       "Generic              254\n",
       "                    ... \n",
       "Stuvz                  1\n",
       "Hooin                  1\n",
       "SIYAN                  1\n",
       "Flameer                1\n",
       "KAIQIKAIXI             1\n",
       "Name: count, Length: 22961, dtype: int64"
      ]
     },
     "execution_count": 47,
     "metadata": {},
     "output_type": "execute_result"
    }
   ],
   "source": [
    "df[\"brand\"].value_counts()"
   ]
  },
  {
   "cell_type": "code",
   "execution_count": 49,
   "metadata": {},
   "outputs": [
    {
     "data": {
      "text/plain": [
       "22961"
      ]
     },
     "execution_count": 49,
     "metadata": {},
     "output_type": "execute_result"
    }
   ],
   "source": [
    "df[\"brand\"].nunique()"
   ]
  },
  {
   "cell_type": "code",
   "execution_count": 51,
   "metadata": {},
   "outputs": [
    {
     "data": {
      "text/html": [
       "<div>\n",
       "<style scoped>\n",
       "    .dataframe tbody tr th:only-of-type {\n",
       "        vertical-align: middle;\n",
       "    }\n",
       "\n",
       "    .dataframe tbody tr th {\n",
       "        vertical-align: top;\n",
       "    }\n",
       "\n",
       "    .dataframe thead th {\n",
       "        text-align: right;\n",
       "    }\n",
       "</style>\n",
       "<table border=\"1\" class=\"dataframe\">\n",
       "  <thead>\n",
       "    <tr style=\"text-align: right;\">\n",
       "      <th></th>\n",
       "      <th>title</th>\n",
       "      <th>average_rating</th>\n",
       "      <th>rating_number</th>\n",
       "      <th>features</th>\n",
       "      <th>description</th>\n",
       "      <th>images</th>\n",
       "      <th>store</th>\n",
       "      <th>details</th>\n",
       "      <th>brand</th>\n",
       "    </tr>\n",
       "  </thead>\n",
       "  <tbody>\n",
       "    <tr>\n",
       "      <th>0</th>\n",
       "      <td>Howard LC0008 Leather Conditioner, 8-Ounce (4-...</td>\n",
       "      <td>4.8</td>\n",
       "      <td>10</td>\n",
       "      <td>[]</td>\n",
       "      <td>[]</td>\n",
       "      <td>[{'thumb': 'https://m.media-amazon.com/images/...</td>\n",
       "      <td>Howard Products</td>\n",
       "      <td>{'Package Dimensions': '7.1 x 5.5 x 3 inches; ...</td>\n",
       "      <td>None</td>\n",
       "    </tr>\n",
       "    <tr>\n",
       "      <th>1</th>\n",
       "      <td>Yes to Tomatoes Detoxifying Charcoal Cleanser ...</td>\n",
       "      <td>4.5</td>\n",
       "      <td>3</td>\n",
       "      <td>[]</td>\n",
       "      <td>[]</td>\n",
       "      <td>[{'thumb': 'https://m.media-amazon.com/images/...</td>\n",
       "      <td>Yes To</td>\n",
       "      <td>{'Item Form': 'Powder', 'Skin Type': 'Acne Pro...</td>\n",
       "      <td>Yes To</td>\n",
       "    </tr>\n",
       "    <tr>\n",
       "      <th>2</th>\n",
       "      <td>Eye Patch Black Adult with Tie Band (6 Per Pack)</td>\n",
       "      <td>4.4</td>\n",
       "      <td>26</td>\n",
       "      <td>[]</td>\n",
       "      <td>[]</td>\n",
       "      <td>[{'thumb': 'https://m.media-amazon.com/images/...</td>\n",
       "      <td>Levine Health Products</td>\n",
       "      <td>{'Manufacturer': 'Levine Health Products'}</td>\n",
       "      <td>None</td>\n",
       "    </tr>\n",
       "    <tr>\n",
       "      <th>3</th>\n",
       "      <td>Tattoo Eyebrow Stickers, Waterproof Eyebrow, 4...</td>\n",
       "      <td>3.1</td>\n",
       "      <td>102</td>\n",
       "      <td>[]</td>\n",
       "      <td>[]</td>\n",
       "      <td>[{'thumb': 'https://m.media-amazon.com/images/...</td>\n",
       "      <td>Cherioll</td>\n",
       "      <td>{'Brand': 'Cherioll', 'Item Form': 'Powder', '...</td>\n",
       "      <td>Cherioll</td>\n",
       "    </tr>\n",
       "    <tr>\n",
       "      <th>4</th>\n",
       "      <td>Precision Plunger Bars for Cartridge Grips – 9...</td>\n",
       "      <td>4.3</td>\n",
       "      <td>7</td>\n",
       "      <td>[Material: 304 Stainless Steel; Brass tip, Len...</td>\n",
       "      <td>[The Precision Plunger Bars are designed to wo...</td>\n",
       "      <td>[{'thumb': 'https://m.media-amazon.com/images/...</td>\n",
       "      <td>Precision</td>\n",
       "      <td>{'UPC': '644287689178'}</td>\n",
       "      <td>None</td>\n",
       "    </tr>\n",
       "    <tr>\n",
       "      <th>...</th>\n",
       "      <td>...</td>\n",
       "      <td>...</td>\n",
       "      <td>...</td>\n",
       "      <td>...</td>\n",
       "      <td>...</td>\n",
       "      <td>...</td>\n",
       "      <td>...</td>\n",
       "      <td>...</td>\n",
       "      <td>...</td>\n",
       "    </tr>\n",
       "    <tr>\n",
       "      <th>112585</th>\n",
       "      <td>TOPREETY 24\"120gr 3/4 Full Head clip in hair e...</td>\n",
       "      <td>5.0</td>\n",
       "      <td>3</td>\n",
       "      <td>[]</td>\n",
       "      <td>[]</td>\n",
       "      <td>[{'thumb': 'https://m.media-amazon.com/images/...</td>\n",
       "      <td>TOPREETY</td>\n",
       "      <td>{'Is Discontinued By Manufacturer': 'No', 'Pac...</td>\n",
       "      <td>None</td>\n",
       "    </tr>\n",
       "    <tr>\n",
       "      <th>112586</th>\n",
       "      <td>Pets Playmate Pet Grooming Glove,Gentle Deshed...</td>\n",
       "      <td>5.0</td>\n",
       "      <td>1</td>\n",
       "      <td>[]</td>\n",
       "      <td>[]</td>\n",
       "      <td>[{'thumb': 'https://m.media-amazon.com/images/...</td>\n",
       "      <td>Pets Playmate</td>\n",
       "      <td>{'Is Discontinued By Manufacturer': 'No', 'Pac...</td>\n",
       "      <td>None</td>\n",
       "    </tr>\n",
       "    <tr>\n",
       "      <th>112587</th>\n",
       "      <td>[10Pack] Makeup Brushes Set Cosmetics Tools Ki...</td>\n",
       "      <td>4.3</td>\n",
       "      <td>5</td>\n",
       "      <td>[]</td>\n",
       "      <td>[]</td>\n",
       "      <td>[{'thumb': 'https://m.media-amazon.com/images/...</td>\n",
       "      <td>RainMakers</td>\n",
       "      <td>{'Brand': 'RainMakers', 'Recommended Uses For ...</td>\n",
       "      <td>RainMakers</td>\n",
       "    </tr>\n",
       "    <tr>\n",
       "      <th>112588</th>\n",
       "      <td>Xcoser Pretty Party Anna Wig Hair Tails Hair S...</td>\n",
       "      <td>4.0</td>\n",
       "      <td>9</td>\n",
       "      <td>[]</td>\n",
       "      <td>[]</td>\n",
       "      <td>[{'thumb': 'https://m.media-amazon.com/images/...</td>\n",
       "      <td>Xcoser</td>\n",
       "      <td>{'Is Discontinued By Manufacturer': 'No', 'Pac...</td>\n",
       "      <td>None</td>\n",
       "    </tr>\n",
       "    <tr>\n",
       "      <th>112589</th>\n",
       "      <td>DVIO Men's Voyage Perfume, Spicy woody fragran...</td>\n",
       "      <td>1.8</td>\n",
       "      <td>2</td>\n",
       "      <td>[Features: Spicy woody notes, pure sandalwood ...</td>\n",
       "      <td>[]</td>\n",
       "      <td>[{'thumb': 'https://m.media-amazon.com/images/...</td>\n",
       "      <td>DVIO</td>\n",
       "      <td>{'UPC': '736238729337', 'Manufacturer': 'DVIO'}</td>\n",
       "      <td>None</td>\n",
       "    </tr>\n",
       "  </tbody>\n",
       "</table>\n",
       "<p>112590 rows × 9 columns</p>\n",
       "</div>"
      ],
      "text/plain": [
       "                                                    title  average_rating  \\\n",
       "0       Howard LC0008 Leather Conditioner, 8-Ounce (4-...             4.8   \n",
       "1       Yes to Tomatoes Detoxifying Charcoal Cleanser ...             4.5   \n",
       "2        Eye Patch Black Adult with Tie Band (6 Per Pack)             4.4   \n",
       "3       Tattoo Eyebrow Stickers, Waterproof Eyebrow, 4...             3.1   \n",
       "4       Precision Plunger Bars for Cartridge Grips – 9...             4.3   \n",
       "...                                                   ...             ...   \n",
       "112585  TOPREETY 24\"120gr 3/4 Full Head clip in hair e...             5.0   \n",
       "112586  Pets Playmate Pet Grooming Glove,Gentle Deshed...             5.0   \n",
       "112587  [10Pack] Makeup Brushes Set Cosmetics Tools Ki...             4.3   \n",
       "112588  Xcoser Pretty Party Anna Wig Hair Tails Hair S...             4.0   \n",
       "112589  DVIO Men's Voyage Perfume, Spicy woody fragran...             1.8   \n",
       "\n",
       "        rating_number                                           features  \\\n",
       "0                  10                                                 []   \n",
       "1                   3                                                 []   \n",
       "2                  26                                                 []   \n",
       "3                 102                                                 []   \n",
       "4                   7  [Material: 304 Stainless Steel; Brass tip, Len...   \n",
       "...               ...                                                ...   \n",
       "112585              3                                                 []   \n",
       "112586              1                                                 []   \n",
       "112587              5                                                 []   \n",
       "112588              9                                                 []   \n",
       "112589              2  [Features: Spicy woody notes, pure sandalwood ...   \n",
       "\n",
       "                                              description  \\\n",
       "0                                                      []   \n",
       "1                                                      []   \n",
       "2                                                      []   \n",
       "3                                                      []   \n",
       "4       [The Precision Plunger Bars are designed to wo...   \n",
       "...                                                   ...   \n",
       "112585                                                 []   \n",
       "112586                                                 []   \n",
       "112587                                                 []   \n",
       "112588                                                 []   \n",
       "112589                                                 []   \n",
       "\n",
       "                                                   images  \\\n",
       "0       [{'thumb': 'https://m.media-amazon.com/images/...   \n",
       "1       [{'thumb': 'https://m.media-amazon.com/images/...   \n",
       "2       [{'thumb': 'https://m.media-amazon.com/images/...   \n",
       "3       [{'thumb': 'https://m.media-amazon.com/images/...   \n",
       "4       [{'thumb': 'https://m.media-amazon.com/images/...   \n",
       "...                                                   ...   \n",
       "112585  [{'thumb': 'https://m.media-amazon.com/images/...   \n",
       "112586  [{'thumb': 'https://m.media-amazon.com/images/...   \n",
       "112587  [{'thumb': 'https://m.media-amazon.com/images/...   \n",
       "112588  [{'thumb': 'https://m.media-amazon.com/images/...   \n",
       "112589  [{'thumb': 'https://m.media-amazon.com/images/...   \n",
       "\n",
       "                         store  \\\n",
       "0              Howard Products   \n",
       "1                       Yes To   \n",
       "2       Levine Health Products   \n",
       "3                     Cherioll   \n",
       "4                    Precision   \n",
       "...                        ...   \n",
       "112585                TOPREETY   \n",
       "112586           Pets Playmate   \n",
       "112587              RainMakers   \n",
       "112588                  Xcoser   \n",
       "112589                    DVIO   \n",
       "\n",
       "                                                  details       brand  \n",
       "0       {'Package Dimensions': '7.1 x 5.5 x 3 inches; ...        None  \n",
       "1       {'Item Form': 'Powder', 'Skin Type': 'Acne Pro...      Yes To  \n",
       "2              {'Manufacturer': 'Levine Health Products'}        None  \n",
       "3       {'Brand': 'Cherioll', 'Item Form': 'Powder', '...    Cherioll  \n",
       "4                                 {'UPC': '644287689178'}        None  \n",
       "...                                                   ...         ...  \n",
       "112585  {'Is Discontinued By Manufacturer': 'No', 'Pac...        None  \n",
       "112586  {'Is Discontinued By Manufacturer': 'No', 'Pac...        None  \n",
       "112587  {'Brand': 'RainMakers', 'Recommended Uses For ...  RainMakers  \n",
       "112588  {'Is Discontinued By Manufacturer': 'No', 'Pac...        None  \n",
       "112589    {'UPC': '736238729337', 'Manufacturer': 'DVIO'}        None  \n",
       "\n",
       "[112590 rows x 9 columns]"
      ]
     },
     "execution_count": 51,
     "metadata": {},
     "output_type": "execute_result"
    }
   ],
   "source": [
    "df"
   ]
  },
  {
   "cell_type": "markdown",
   "metadata": {},
   "source": [
    "So, if we count only \"brands\" that appear in the \"details\" field, we have less brands than stores, so we have 22961 brands. "
   ]
  },
  {
   "cell_type": "markdown",
   "metadata": {},
   "source": [
    "## Which brands have the highest ratings?"
   ]
  },
  {
   "cell_type": "markdown",
   "metadata": {},
   "source": [
    "If we consider having highest ratining as having hte highest average_rating, then we must collect all the brands that have average_rating = 5.0\n",
    "\n",
    "We have two scenarios: if stores are counted as brands OR if only those rows that contains a brand in brand column are counted as brands"
   ]
  },
  {
   "cell_type": "code",
   "execution_count": 147,
   "metadata": {},
   "outputs": [],
   "source": [
    "#first case scenario: if stores are counted as brands "
   ]
  },
  {
   "cell_type": "code",
   "execution_count": 89,
   "metadata": {},
   "outputs": [
    {
     "data": {
      "text/plain": [
       "store\n",
       "ESP                      5.0\n",
       "kaBOOM! / Nelvana        5.0\n",
       "TKB Trading, LLC         5.0\n",
       "Find All                 5.0\n",
       "FinchBerry               5.0\n",
       "                        ... \n",
       "Aokin                    1.0\n",
       "Herchuse                 1.0\n",
       "oufenli                  1.0\n",
       "Netual                   1.0\n",
       "First Class Beauty Co    1.0\n",
       "Name: average_rating, Length: 30761, dtype: float64"
      ]
     },
     "execution_count": 89,
     "metadata": {},
     "output_type": "execute_result"
    }
   ],
   "source": [
    "df.groupby(\"store\")[\"average_rating\"].mean().sort_values(ascending=False) #we want the average, so we use the mean \n",
    "#with the groupby "
   ]
  },
  {
   "cell_type": "code",
   "execution_count": 91,
   "metadata": {},
   "outputs": [
    {
     "data": {
      "text/html": [
       "<div>\n",
       "<style scoped>\n",
       "    .dataframe tbody tr th:only-of-type {\n",
       "        vertical-align: middle;\n",
       "    }\n",
       "\n",
       "    .dataframe tbody tr th {\n",
       "        vertical-align: top;\n",
       "    }\n",
       "\n",
       "    .dataframe thead th {\n",
       "        text-align: right;\n",
       "    }\n",
       "</style>\n",
       "<table border=\"1\" class=\"dataframe\">\n",
       "  <thead>\n",
       "    <tr style=\"text-align: right;\">\n",
       "      <th></th>\n",
       "      <th>store</th>\n",
       "      <th>mean_rating</th>\n",
       "    </tr>\n",
       "  </thead>\n",
       "  <tbody>\n",
       "    <tr>\n",
       "      <th>0</th>\n",
       "      <td>ESP</td>\n",
       "      <td>5.0</td>\n",
       "    </tr>\n",
       "    <tr>\n",
       "      <th>1</th>\n",
       "      <td>kaBOOM! / Nelvana</td>\n",
       "      <td>5.0</td>\n",
       "    </tr>\n",
       "    <tr>\n",
       "      <th>2</th>\n",
       "      <td>TKB Trading, LLC</td>\n",
       "      <td>5.0</td>\n",
       "    </tr>\n",
       "    <tr>\n",
       "      <th>3</th>\n",
       "      <td>Find All</td>\n",
       "      <td>5.0</td>\n",
       "    </tr>\n",
       "    <tr>\n",
       "      <th>4</th>\n",
       "      <td>FinchBerry</td>\n",
       "      <td>5.0</td>\n",
       "    </tr>\n",
       "  </tbody>\n",
       "</table>\n",
       "</div>"
      ],
      "text/plain": [
       "               store  mean_rating\n",
       "0                ESP          5.0\n",
       "1  kaBOOM! / Nelvana          5.0\n",
       "2   TKB Trading, LLC          5.0\n",
       "3           Find All          5.0\n",
       "4         FinchBerry          5.0"
      ]
     },
     "execution_count": 91,
     "metadata": {},
     "output_type": "execute_result"
    }
   ],
   "source": [
    "df_rate = df.groupby(\"store\")[\"average_rating\"].mean().sort_values(ascending=False).reset_index(name='mean_rating')\n",
    "#groupby to see the average score given to each store combined \n",
    "df_rate.head()"
   ]
  },
  {
   "cell_type": "code",
   "execution_count": 93,
   "metadata": {},
   "outputs": [
    {
     "data": {
      "text/html": [
       "<div>\n",
       "<style scoped>\n",
       "    .dataframe tbody tr th:only-of-type {\n",
       "        vertical-align: middle;\n",
       "    }\n",
       "\n",
       "    .dataframe tbody tr th {\n",
       "        vertical-align: top;\n",
       "    }\n",
       "\n",
       "    .dataframe thead th {\n",
       "        text-align: right;\n",
       "    }\n",
       "</style>\n",
       "<table border=\"1\" class=\"dataframe\">\n",
       "  <thead>\n",
       "    <tr style=\"text-align: right;\">\n",
       "      <th></th>\n",
       "      <th>store</th>\n",
       "      <th>mean_rating</th>\n",
       "    </tr>\n",
       "  </thead>\n",
       "  <tbody>\n",
       "    <tr>\n",
       "      <th>0</th>\n",
       "      <td>ESP</td>\n",
       "      <td>5.0</td>\n",
       "    </tr>\n",
       "    <tr>\n",
       "      <th>1</th>\n",
       "      <td>kaBOOM! / Nelvana</td>\n",
       "      <td>5.0</td>\n",
       "    </tr>\n",
       "    <tr>\n",
       "      <th>2</th>\n",
       "      <td>TKB Trading, LLC</td>\n",
       "      <td>5.0</td>\n",
       "    </tr>\n",
       "    <tr>\n",
       "      <th>3</th>\n",
       "      <td>Find All</td>\n",
       "      <td>5.0</td>\n",
       "    </tr>\n",
       "    <tr>\n",
       "      <th>4</th>\n",
       "      <td>FinchBerry</td>\n",
       "      <td>5.0</td>\n",
       "    </tr>\n",
       "    <tr>\n",
       "      <th>...</th>\n",
       "      <td>...</td>\n",
       "      <td>...</td>\n",
       "    </tr>\n",
       "    <tr>\n",
       "      <th>3058</th>\n",
       "      <td>MTJJ</td>\n",
       "      <td>5.0</td>\n",
       "    </tr>\n",
       "    <tr>\n",
       "      <th>3059</th>\n",
       "      <td>InKach</td>\n",
       "      <td>5.0</td>\n",
       "    </tr>\n",
       "    <tr>\n",
       "      <th>3060</th>\n",
       "      <td>Alpha Tools</td>\n",
       "      <td>5.0</td>\n",
       "    </tr>\n",
       "    <tr>\n",
       "      <th>3061</th>\n",
       "      <td>A.T. Cross</td>\n",
       "      <td>5.0</td>\n",
       "    </tr>\n",
       "    <tr>\n",
       "      <th>3062</th>\n",
       "      <td>Ingenue</td>\n",
       "      <td>5.0</td>\n",
       "    </tr>\n",
       "  </tbody>\n",
       "</table>\n",
       "<p>3063 rows × 2 columns</p>\n",
       "</div>"
      ],
      "text/plain": [
       "                  store  mean_rating\n",
       "0                   ESP          5.0\n",
       "1     kaBOOM! / Nelvana          5.0\n",
       "2      TKB Trading, LLC          5.0\n",
       "3              Find All          5.0\n",
       "4            FinchBerry          5.0\n",
       "...                 ...          ...\n",
       "3058               MTJJ          5.0\n",
       "3059             InKach          5.0\n",
       "3060        Alpha Tools          5.0\n",
       "3061         A.T. Cross          5.0\n",
       "3062            Ingenue          5.0\n",
       "\n",
       "[3063 rows x 2 columns]"
      ]
     },
     "execution_count": 93,
     "metadata": {},
     "output_type": "execute_result"
    }
   ],
   "source": [
    "df_rate5 = df_rate[df_rate['mean_rating'] == 5.0] #only take the ones with the highest mean_rating of 5.0\n",
    "df_rate5"
   ]
  },
  {
   "cell_type": "code",
   "execution_count": 222,
   "metadata": {},
   "outputs": [
    {
     "name": "stdout",
     "output_type": "stream",
     "text": [
      "['ESP', 'kaBOOM! / Nelvana', 'TKB Trading, LLC', 'Find All', 'FinchBerry', 'Organic Age Defense', 'Fijian Noni Soap', 'Organic Colour Systems', 'Organic Complexion', 'Fiddleestickks', 'Ficcare', 'BURBERRY', 'Fibevon', 'Feyuan', 'MLB', 'kameleon t-shirts', 'Organic Health', 'Organic Island', 'k-SHION', 'Ferskov', 'juvia', 'justneem', 'Ferrari', 'Organic Ocean', 'Organic Traditions', 'Orglamix', 'Oriamour', 'Fekey&JF', 'Xawy', 'Xanthys & CoCLOL', 'Optimum Advanced', 'FirsTime', 'Optimum MadayFormula', 'Optique De Lobo', 'Special-Shop', 'Trend StarterNUATE', 'XStar', 'MARUKKAN', 'Five Star Fragrances', 'XUYI', 'Fit & Fresh', 'BROSWJUN', 'Orajel', 'BRS', 'Fireball Fragrances', 'BTBGYP', 'Fire Beauty', 'Firbon', 'FingerMates, Inc', \"Finger's\", 'kaniers', 'Finger Angel', 'BSN', 'Orbitol', 'Ordenado', 'FineVine', 'FinePure', 'FineMusez', 'Xinblue baby', 'Oriental Trading Company', 'Orientica', 'Baisida', 'Badan Body', 'Faith Hill True', 'Fairytale Bridal Tiara', 'Faconnable', 'Y. S. PARK', 'Fabulous Fashions', 'Toysmith', 'OvationIearaTTA', 'FYLuoke', 'FXWerkryt', 'FVLFIL Ecco Bella Beauty', 'Baishitop', 'TIAODENG', 'Feebeezod', 'SAOR', 'FURgenie', 'FURIOUS', 'FUNORNAM', 'Oya Costumes', 'FUNFLOWERS', 'YANAGIYA', 'FUJI ENVIROMAXRunahaa', 'Bald Head Mafia', 'TI Style', 'P&g Health & Beauty', 'Bali Secret Hair Vitamin', 'Faith in Face', 'Back to Basics', 'Back Country Naturals', 'Y Et Beauté', 'Original Moxie', 'Feather ACR-DWPG', 'Original Publications Spiritual Books and Supplies', 'Fatally Fab', 'Xiuguai', 'Fashey', 'Osec', 'Osia Osia by ZEZE', 'Baby Chomsi', 'Oster Pro', 'Xqumoi', 'Osulloc', 'Fantastic World Foods', 'XtremeAmazing', 'Fanme', 'Other', 'Fandango', 'joystar', 'Fancyin', 'Fancy That Loved', 'Our Generation', 'XunYee', 'Our Tour', 'Famous Outlaws', 'Bach', 'BRAZILIAN SUN', 'Fleshlight', 'FRANCK OLIVIER SUN JAVA PRESTIGE', 'kpopshop', 'Fun Express:Co-t', 'BIZAR', 'Spaghetti Headz', 'Full Circle Home', 'Oh! Organics', 'Fruitful Vine LLC Clean Fresh Ideal Products', 'Froveo', 'Frontier', 'Frola', 'TOOCHUNAG', 'Oilily', 'MASETO SHAVING', 'BLILI', 'FunSponsor', 'Oils From India 9.5ml', 'XGEN', 'Old World Brushes', 'French Nerds', 'French Kiss Cosmetics', 'French Girl Organics', 'BLONDBERRY', 'Fremont Die', 'XIAOCAI', 'BLUE LIZARD', 'Oliva', 'FreeNFond', 'FunDiscount shop_Jewelry', 'BISHENGYF', 'Fleur de Paris', 'lacsian', 'BICO AUSTRALIA', 'Spacloth', 'GA-DE', 'Luminance Skincare', 'G.S Other', 'Twisted Sista', 'G-Hair', 'G-EASY', 'Für Boy', 'Féret Parfumeur', 'Lumini', 'laiyiyuan', 'labs', 'Funck', 'Fxxxli', 'Oberto', 'Luminira', 'Future Call', 'Ocean Blue Co', 'Luminous Rx', 'Furuian', 'BIOLOGIQUE RECHERCHE', 'X-OU', 'TOOVREN', 'Funnytoday365', 'BIOTICS', 'FreF', 'SHAINDEE WIGS', 'Spark Create Imagine', 'Flow.month', 'SEVENHOPE', 'Foot Works', 'On Trend', 'BONNIE', 'Foil It', 'SEUAOPS', 'One Love Organics', 'Focus', 'One Over One', 'Foamee', 'Flymind', 'Fluf', 'XONOR', 'Franzus', 'XOXO', 'SERENUS', 'BOTANICAE MATIN A MOGADOR', 'Florestas Organic Botanical', 'TNSO', 'Special Moments LLC', 'Floral Breeze', 'Opalescence Smilebrush', 'Flight mode', 'Flexall', 'Flex-I-File', \"Fleur's by Hemani\", 'Omorovicza', 'Omonic', 'XINSHI', 'Foraco', 'BMKKOT', 'Franks Deals', 'XICA', 'Franck Boclet', 'Fragrance House', 'BNG Enterprises', 'OliviaGarden', 'Olixm', 'BOBOS Remi', 'BODE products', 'TOMENGBEI l', 'BODY', 'Formula 409', 'Omall OdiySurveil', 'BODYHOLIC', 'Toynbee', 'TOKYOMILK', 'TOKYO-T', 'BOLASEN', 'SEXUAL FEMME', 'Omega', 'Sparta The Power of Beauty', 'Omi Menturm', 'Lungwell', 'Omodofo', 'FRIME', 'Balight', 'Arbutin Soap', 'Beauty & Care', 'PRODCAA', 'Esme Rene', 'Beautiful Home', 'Esie', 'Sruples', 'Eseres', 'Escential Essences', 'PRONTOINDIA SEEK IT GET IT', 'Erzuli', 'PROSANA', 'St IvesCLOL', 'Luxo Banho', 'YOUDO', 'Essence Of Jerusalem', 'PS', 'St Justin', 'Equal', 'Epxee', 'YOUFA', 'Epsom', 'PSODEX', 'Episencial', 'Luxor Professional', 'Beauty Brags ARBrend', 'PUCCINI PARIS', 'Envy', 'Runahaa', 'Essensa', 'Luxe by Mr. Bubble', 'Ethocyn Skin Care By Chantal', 'POSTQUAM', 'Evanee', 'PPC-Life', 'Beard Society', 'PQDAYSUN', 'PRECIS', 'Eukivi Products', 'PREP', 'Etre Natural Beauty', 'Bearington', 'Etiquette view', 'Etino', 'Beaty Renew', 'PRO Base', 'Etat Pur', \"Ruth's\", 'Estée Edit', 'Estyle Fashion', 'Estenna', 'Est Lau Cosmetics', 'Beauskin', 'Essentials', 'impact your life. your world.', 'Beaute de Maman', 'PRMIT Beauty', 'PRO', 'Entity', 'PUMA', 'Beauty Empire Boutique', \"Pad's\", 'Beauty on Line', 'Pacific Piercing Supply', 'Beauty4U', 'MAOFAED', 'Pacific Sun', 'Rozeny', 'YOZJONGNGG', 'BeautyFit', 'Ellgy', 'Ellas', 'Elizabeth Grant Night Cream Plus', 'iLory', 'Elitzia', 'Enter The Arena', 'EliteBond', 'ElisabehLamFun', 'Beautypros', 'Paijoe', 'Pain Relief', 'Paisley Farm and Crafts', 'Luxy Bio', 'Elegant Lashes', 'Electronics_Gallery-Hair Comb', 'Beckham, McGraw, Moves, Cologne Perfume Gift Set', 'TCYIN', 'Electric Bliss Beauty', 'YOYOB', 'ElySeoul', 'Elysees Fashion', 'Elégance', 'YOUR-ESSENTIALS', 'Enlite Flawless Body', \"St Patrick's\", 'Beauty Garden', 'Rue21 Rue 21', 'iTURBOS', 'iSuperfine', 'Enjoy Hair Care Products', 'PUNARA', 'Rudmox', 'TEEMI jewelry', 'Beauty Matrix LLC', 'Enfresh', 'PURE ESSENCE LABS', 'YOUSIKE - Hair Rope', 'Rucci Inc', 'Emsa Distributors', 'Empire State Tattoo Supply Co.', 'Ruby-Blue Bunny', 'Beauty Skin Lab', 'iSPECIAL', 'Emlin', 'Eminence Organic Skincare', 'EmerginC', 'PWEINCY', 'Spring heart', 'Everpro Back 2 Blonde', 'Spirit', 'itcsmtc', 'FFCC', 'PEATAO', 'Barber Shop Aid', 'YEEPSYS', 'FERGRELM gk', 'Barbie', 'FERGRELM gj', 'Bard Access Systems', 'PECKIA', 'PEIPEIER', 'itemmall', 'SAKAL', 'PERLIER', 'FHKSL', 'Barex', 'FEELXO', 'YESMOLA', 'THE TOOL LAB', 'Bari Lynn', 'PETKIRI', 'FCT Bundles', 'THE STANDARDS 365', 'PEWOD', 'Barr Co Original Scent Saddle Soap', 'FAROOT', 'FANYITY', 'FHDUSRYO', 'FINE PEARL', 'YL LASH', 'MK MOOKARDILANE', 'THOUSAND Paper Cranes', 'Balm Barr', 'PAKESI', 'FOUND FIRMING', 'FORMYSELF', 'PANCITAS', 'PAPERVOICE', 'FOCHRETEK', 'Ban The Sun', 'BanaSpa.net', \"PARFUM D'EMPIRE TABAC TABOU\", 'SAMJUNG', 'FLORASIS', 'PDC Brands', 'PATTERSON VETERINARY', 'j-lash', 'Spoiled', 'FLECISE', 'THES', 'FIXSON', 'PAWOAH', 'PB Travel', 'YDZY', 'Bantoye ARBrend', 'SALUTUYA', \"BaoTe'\", 'THE NORTH FACE', 'YIEASY', 'BasCar', 'Expert-Parts', 'Baudelaire', 'Eyetini', 'Bay Hive', 'Eye Mask', 'Eye Makeup', 'THE FLOWER MEN', 'S-SSOY', 'Extpro', 'Ext Meyya', 'YITONGDA', 'Express Lashes™', 'Exportmart', 'YIWEN', 'FAIWAWU', 'THDS', 'BeBe & Bella', 'POH', 'S&F SHOP', 'Excel', 'Spray', 'BeYOU Beauty', 'POJJO', 'POLATAM', 'Ewantgo', 'Luxe Cake', 'EveryShine', 'Baubles & Beads', 'Eyup Sabri Tuncer', 'Ez FRESH BODY', 'S.he Makeup Bronzer', 'FAITH BEAUTY', 'PIA COSMETICS BEVERLY HILLS', 'Basics', 'MARCO SERUSSI OUD', 'PICOCO', 'Baskrean', 'FACETECH', 'SABBA', 'PING2', 'BassTalkCap', 'FACE Stockholm', 'Bastide', 'FACE 2 FACE', 'YINGKEL', 'YIPINER', 'Bath & Body Works Mr. MOTH', 'F.DORLA', 'Bath House', 'PINPOXE', 'Batha and Body Works', 'Bathe Happy', 'YIRU', 'Ezerbery', 'EzFlow', 'Bathroom and More', 'GALAWAY-US', 'GBF', 'Wrinkle Resist Plus', 'HANPI', 'HCLIFE', 'No Nonsense', 'Augot', 'SPV', 'HB4U', 'Wellcows', 'HARBOR Srl', 'Wellements', 'WellieSTR', 'Aunt Jackies Kids', 'Aunt Sadies', 'SPOR', 'HANIN', 'Auctiv', 'SPL', 'SPINSTER SISTERS CO', 'SPICEBOMB', 'Noble Otter', 'HANCHANG', 'HANASCAR Basicare', 'HANAJIRUSHI', 'HANA Organic Skincare ARBrend', 'Tropical Traditions', 'Noevir', 'Soothing Waters Spa', 'Aurora Active', 'SRSHERO', 'Nmark', 'Nick & Nora', 'Atlantic Importers', 'Lucky-M', 'STARCK PARIS', 'Wedding Hair Accessories-Sindary Jewelry', 'Atelier', 'Tamarac by Slippers International', 'Nightingale Conant', 'Atheneum Books', 'Talyoni', 'HGB', 'Nikken', 'LuckyShe', 'myaokue-up', 'Tallac Cary', 'Niven Morgan Lavender Mint', 'Atmosmaker', 'Nin9Yuan', \"Nina's Paris\", 'HERMES', 'ST Instrument USA Inc', 'Atrix', 'Takumi', 'Sooeum', 'SSF', 'HEELYS', 'Takeyia', 'MAXLER', 'SPAtopia London Argan Oil Body Scrub', 'Aurora Cosmetics', 'Auroshikha', 'Luftballon Mio Craft', 'SOPHIE & LORI', 'Gudetama Lazy&Easy', 'SOPEWOD', \"Wet N' Wild ARBrend\", 'AvicerePersephone', 'Wet Paint, Inc.', 'Gtechniq', 'Gsber', 'Grrrip Plus Enhancer', 'Wet n Wild ARBrend', 'SOONNOC', 'Nothers', 'Avon Clean', 'Tagamet', 'Groganic', 'SOOMIAN', 'Grippi', 'Wet n Wild-', 'Novais Cosmetics', \"Avon'\", 'Griffon Enterprise', 'Grey990', 'Now_Good', 'Greenwich Bay Trading Co', 'TWISTYLER', 'Greenscape', 'Aveeno Baby', 'SOPHIE & LORI DCP Products', 'SOPHIE & LORI Mesaki', 'Northport Naturals', 'Werkry', 'Werkryt', 'Wesface', 'HABA', 'HAARBB', 'Authentic Naturals', 'Sopthony', 'H&B Oils Center Co.', 'Géneric', 'Gâteau', 'Gállány Cosmetics', 'Ava Haircare', 'mollys products', 'Avaa', 'Avalanche', 'Avalon Active Organics', 'Gyryp', 'Westward Men', 'Wet', 'SOSILK', 'modeo', 'Gying', 'model model cuticle remy', 'Wet & Wild', 'Guoxiaoniu', 'Weber', 'Aster & Bay', 'OWNHEALER', 'Aroma Designs', 'Wahl', 'Halovin', 'Haloh Soaps', 'Wai Lana', 'Song of India Bath & Body', 'Lucia', 'Armani Si Rose', 'Luciano Soprani', 'Haley Organics', 'MNSL', 'Walden Farms', \"Nellie's All-Natural\", 'MF2FLAY', 'Hamdard', 'Aroma Naturals', 'Songqee', 'Lucir', 'HairGia', 'HairFully', 'Hair by MissTresses', 'Nessere', 'Nessy Designs', 'Arome', 'Hair Gummies Inc.', 'Hair Flowers ARBrend', 'Hair Excel', 'Halston Z-14', 'WagiSleep', 'HJR', 'Argan du maroc', 'Archipelago Botanicals', \"Nature's Craft Org\", \"Nature's Dog by Canus\", 'numbereight8', \"Nature's Essence\", 'Harvest Sun', \"Nature's Finds\", 'SUN-STAR', 'HarperPrism', 'Harley Quinn', 'Harlem 125', 'Argan Oil', 'Arganatural', 'NayJor Beauty', 'Harbor', 'Haquno', 'WUSHU', 'Happy Dueks', 'WYHTB', 'Arimino', 'Hanyan', 'Hanskin', 'Hansi Organics', 'HandmadebyLaudys', 'WYLIMG', 'Arkaiesha', 'Arrahan', 'Arran', 'Arran Aromatics', 'Nexuss', 'Newcos', 'Newcos covus', 'Waxing by Roxy', 'MAYA Cosmetics', 'MN Stingray Skin Wallet', 'AsaVea N.Y.C.', 'STONEFANS', 'STKYGOOD', 'Towsnails', 'HONMY', 'HONITURE', 'Nexcare', 'NiceButy', 'NetEra', 'NiceOne', 'HMLNSHOP', 'Sonoma Spa', 'AspectPrime', 'HML', 'HMK', 'Weave Aide', 'HLHXMWXY', 'HL', 'Nicexx', 'STCMYXGS', 'STAUB', 'HOTHOM LENRAM', 'HOUSEEN', 'nail world365', 'WaveShield', 'Hair Couture', 'Tartan + Twine', 'Taro601', 'Targus', 'Luck', 'New Feet', 'HY', 'Waohu', 'HULKA Srl', 'Artecobags', 'Artego', 'HUDA BEAUTY', 'Tara ARBrend', 'Artifact Skin Co.', 'NewJourney', 'NewLife', 'Artisan Courtyard', 'NewLine', 'Water Works', 'Artistic Colour', 'Waterbabies', 'Lucky Brand', 'napkery', 'nano factory', 'HOYOLS', 'Awanka', 'TWILIGHT SARAH JESSICA PARKER', 'Awen+', 'WolfGo', 'SJ Creation', 'ON', 'Gaiatop', 'longway', 'BEAUTY-SALE', 'SIXQUEEN', 'ON THE GO MENS PRODUCTS', 'ONEFACE', 'SIXNE', 'BEAUTYKO', 'Gagaqueen', 'SIX FOXES', 'WolfMoon Bostanicals', 'Garitin', 'ONEOSEVEN', \"Gabor & Christy's Wigs\", 'Gabi Girls', 'SIRGAWAIN', 'BEE & YOU', 'MMIZOO', 'ONIE', 'GZIRUE', 'loevcc', 'Spa Elements of Pier 1', 'Woly', 'Spa Massage', 'TPMXEMR', 'Garnier Fructis', 'Greenford', 'OKThings', 'lury', 'BCP ARBrend', 'Genuve Skin', 'BCW', \"Gentleman's Foundry\", 'BD-WIYFA', 'OK Lighting', 'BDK', 'Gent House', 'OKA', 'Genki', 'Generic Brand', 'Wittex Germany', 'OMNIHIL', 'OKThings Nicexx', 'SKIN BEAUTY', 'Gemei Hair', 'OLIVELIA', 'Gegexli', 'Wizarding World of Harry Potter', 'Geameon', 'SKEMEHNC', 'TRANQUILITY', 'BEAUTE PRESTIGE INTERNAT', 'BEAUTIQLO', 'Gatineau', \"Women's Fashion Piggy2gether\", 'BELA', 'Spa Nouveau', 'Woydal', 'OSORD MadayFormula', 'World-Accents', 'Spa Ultimate', 'BETEZU', 'GLAMPAQ', 'GILUMI', 'GILDEN TREE', 'Worthy Promo', 'GHYGTY', 'OULII', 'GEROVITAL PLANT', 'GEPRC', 'SHOP GIRL', 'GUESS by Marciano', 'OUTLETNY', 'GENRICE', 'GENNYUE', 'BG247', 'OVCOS', 'GEM Beauty Supply', 'SHISI', 'GEEHOLD', 'Trendyhomedeco ROYADVE', \"Wright's\", 'GC Nutrax', 'OWN', 'GLORY', 'GLOWIVA', 'GMBSHairNUATE', 'Lumeme', 'GUA SHA KRA', 'GTechnologies', 'GTIKTCOM', 'GSWOI', 'lite skin 3000', 'ORANGE STAR', 'GROOMIX', 'TOTAOTOO', 'OREZI', 'GRINIF', 'GREENBRIAR INTERNATIONAL, INC', 'GRANNIE SMITH ORGANIX ESTABLISHED 2015 GLASGOW, OREGON', 'GPU', 'SILVER PEAKS', 'WooMeWooU', 'BEQUEEN', 'Woobamboo', 'GOURMET+skin', 'SILK OIL OF MOROCCO MadayFormula', 'ORS Black Olive Oil', 'Woocon', 'GOODAL MadayFormula', 'GOLDERR EaseBreath', 'Woosh', 'Woowexx', \"TRE'STIQUE\", \"George's\", 'TREATS FOR THE FACE', 'SOAPOILS PERFECT COMBINATION', 'melody wig', 'Nugilla', 'Number 4', 'B Vain', 'Gou Gou Pets', 'Got2b SUNATORIA', 'Soulpaner', 'Soultanicals', 'Nunaat', 'B-COOL', 'B-D', 'B-Fashionable', 'Nunubee', 'Wholly Kaw', 'Gorich', 'Nuolate2019', 'Gopala Ayurveda', 'Goodsnetic', 'Nuphar', 'Wholesale Fashion Necklace', 'SO COLOUR', 'Wholesome Rock', 'B.b', 'Good Things', 'Good Friends', 'mcyiqihaiAABBCC', 'B', 'Graham Field', 'Two Tone Tats', 'mesfugw', 'Nu-Health', 'Green Tea Foam Cleansing', 'Wheatear', 'Axmda', 'GreekInternetMarket', 'Great Deal Furniture', 'Great Chance', 'Sotiff', 'Ayelet Naturals', 'Grashine', 'SouRose Natural', 'SOLOMONS ANTI AGING KIT', 'Ayr Skin Care', 'Nuchasha', 'AyuqEjus', 'Graphico', 'GrapeZ', 'Grandxii', \"Grandpa's\", 'SOL Sunguard', 'michael marcus', 'SOL DE ORO', 'Azul Skin Health', 'Grand Innovation', 'Nude & Noir', 'Nutiva', 'BACKSCRATCHERS', 'Winx Fairy Couture', 'Giro', 'Glenn Perri', 'Willborn', 'Gleader', 'Glaray', 'BATH', 'OBBO', 'Glam i', 'm. greengrass', 'Glacier Smoothie Soaps', 'BAYCHEER N-Joy for you', 'Winback', 'OCCdesign', 'BB Lifestyle', 'Nutraplus', 'TRONEX', 'Girliber', 'WindMax SUNATORIA', 'Windsor Direct', 'Ginsenat', 'BBITUOGG', 'Gillberry', 'ODDIER', 'BBS', 'Winssi', 'BBinfinite', 'Get Real', \"O'lysee\", \"O'Keeffe's\", 'Global Healing', 'Globeagle', 'Golden Supreme', 'Golden Lady', 'Wig Aisle', 'NutriBeam', 'MAVERICK SPORTS MEDICINE', 'Gojo', 'Gohfeoeo', 'manual', 'Goessom', 'Nutrine', 'Goddess Touch', 'Nuvotrak', 'MATRISKIN', 'Wild Harvest', 'Glyco-Flex', 'TTI Blakemore', 'Glowry Inc.', 'Glowmorous', 'maika', 'Nyvonne Cosmetics', 'BARBER BULLY', 'Glow Habit Gummy', 'TSUYA', 'Glory be beauty', 'TSEKIDO', 'MEIUGV', 'Royal Magic', 'Elariia', 'Craebuer', 'dentQ', 'Zalmanov', 'Bzybel', 'BÃ¼bchen', 'Stuvz', 'Pure Smile', 'C CAOLION NATURE POEM', 'CrazySound', 'Zanimo Beauty Products', 'C S', 'C&D Visionary', 'C&F Home', 'M-Egal', \"Creation's Garden Natural Products, Inc\", 'C-color', 'Purean', 'C. S.\\xa0Osborne & Co.', 'C.N', 'Zeafbaper', 'Purefect Skincare', 'Countonme', 'Coty Wild Musk', 'ZeeDa', 'Pureza', 'Cosytime', 'Zeeta', 'Creating Harmony', 'Byers Products Group', 'Curl-ease', 'ditebeau', 'Business King', 'ZXTRESS', 'Curativa Bay Skin Beautiful', 'Pulchra', 'Studiomakeup', 'M-61', 'dph.', 'ZXWDDP', 'Culinary Arts Press', 'Cubitas', 'Crystals Galore 4U', 'TrueCraftware', \"Bvlga'ri\", 'Creightons', 'ZZJB', 'Crush', 'Pure Body Organics ARBrend', 'By Rosie Jane', 'Pure Cell', 'Pure Collagen', 'Cristophe Professional', 'Cristalli di Argan', 'Creo', 'By magno', 'Pure Life Soap Co.', 'Susanne Kaufmann', 'Costume', 'Purple Emu', 'Cosplay Costumes And Accessories', 'CC Goods', 'Ranger', 'covus', 'Suprwin', 'CASEMETIC', 'Random House', 'Connector Adaptor', 'Concord Confections', 'ConairPRO Dog', 'Ranbaxy', 'Ranana', 'Complex cream bandage \"Hyaluronic threads 4D effect\" for face, neck and décolleté 45+', 'Compara', 'Comoo', 'Rashell', 'Commonwealth Soaps & Toiletries', 'Ramina', 'Ralph Lauren', 'Supermood', 'Comby', 'Raleighsee', 'Styli-style Cosmetics', 'CCW Distributors', 'Zhalya', 'Stylish Depot', 'Zhangjiang', 'Colorsilk', 'Coolcos', 'Zerenfy', 'Coolture', 'Coop+Daisy', 'Cosmetics by Maybelline New York', 'Rare Ivy', 'Cosmetics by Covergirl', 'Cosmetics Worldwide, Inc', 'Rare Beauty', 'Cosmetics Shi', 'CAMAQUI', 'Cosmetics N.X', 'CAMI', 'Raquel Welch and Maxwigs', 'Cosmetics Lan', 'cushystore', 'Pursonic', 'CANNABIOLOGY', 'Cose della Natura', 'cruel', 'Cory Labs', 'Style Of Paris', 'crossFIXE', 'Corn Huskers', 'CARE', 'CAREFREE', 'Rap God', 'Coralite Home Essentials', 'PÜR The Complexion Authority', 'BushKlawz', 'Pufan', 'DOMANEL', 'DETALLAN', 'Brightex', 'Primitives by Kathy', 'DIAL CORPORATION', 'Reddy', 'Princess Glow Beauty', 'Brilena', 'DHB', 'earthbath', 'ZKMAGIC', 'Priti', 'DEWALT', 'DEVONNE By Demi', 'Privé', 'ebc', 'Pro Hair Tools', 'Red Carpet Studios', 'StrongLite', 'Pro Tan by Original Muscle Up', 'ProAdvantage', 'Struts', 'DELE', 'MAMACHU', 'Reckitt Benckiser plc', 'DEKINMAX', 'ZMKDLL', 'Broadway Colors', 'Brighter Skincare', 'Strideline', 'Pudus', 'Prettybuy', 'DNMFB', 'DNJKSA', 'BrassBells.Net', 'DND JEMSLY', 'Brave Soldier', 'Regincos', 'M&D Industries', 'Regina Floris', 'Regent Publishing Services Limited', 'ZHW', 'Stri-Dex', 'DJDL', 'Breakthrough', 'DIBA by Dibawssette', 'DIVA QUEEN', 'Breavo', 'DIRTYBIRD ENERGY', 'DINGJIN', 'Bren', 'Prime Entertainment', 'Prime Guard', 'eco-fin', \"Brickell Men's Products\", 'Strictly Mint Card Co.', \"M&M's\", 'PrimeHousehold', 'eKingstore', 'DEESEE(TM)', 'BronaGrand Nicexx', 'Bull Frog', 'ZPHYF', 'ZQ-II', 'Reach', 'D.S. & Durga', 'Buddy&Max Nicexx', 'Bueart Design', 'Provence Sante', \"D'CINQUE\", 'Studio 10', 'Provon', 'M*A*D Minerals', 'ZUDULUTU', 'Pruvit', 'Bronx Colors Urban Cosmetics', 'Studio 78 Paris', 'Cydraend', 'ZUNKOM', 'Cyclax', 'Studio Gear', 'Prãdã', 'Cyber Scents', 'Cyanee', 'Re Vive', 'Cuwada', 'Cute New York', 'Pucci', 'Bubble & Charm', 'Prompt', 'Buankoxy', 'DANHAN', 'DEB', 'DEARANCHY HYPOALLERGENIC DERMACOSMETICS', 'Probiotic Action', 'Rebixron', 'Proched', 'Procter & Gamble Health Care', 'Brosta Hair', 'Brother', 'Struts Fancy Dress', 'M&T HEALTH EaseBreath', 'DDN', 'Rebalance Essentials', 'Brownlow', 'ReazealWild for Life', 'ReazealSOGA', 'Profective', 'DC Comics', 'DC', 'DBParts', \"Professor Kingsley's Fantastic Fragrances MadayFormula\", 'DAVID BECKHAM HOMME', 'Proganix', 'BtlBee', 'ZOTOYI', 'DANIVE', 'Zhangqian', 'Zhaocaimao', 'Superior Tattoo Equipment', 'anatolian', \"Carter's\", 'CODAGE Paris', 'Carter Bag', 'Carpeli', 'Carnatory', 'Carmen Electra', 'Carma Laboratories Inc', 'Carlos Correa', 'Carita', 'Sunee Hair', 'Caribbean CostaBlue', 'Carex', 'bows for belles', 'CartierzALSTEN', 'COLORKEY', 'anelor', 'Carefree Elite', 'born to run', 'Carefree', 'COLUMBIA RIVER KNIFE & TOOL', 'angju', 'Sundance', 'RBC Life Sciences', 'Caprina by Canus', 'boohugger', 'ROLYET', 'Carthusia', 'COCOOIL', 'CEDLIZE', 'CNDHUI', 'Sunny Sling', 'Quorum', 'ROSKY', 'Cellubelle', 'Cellcosmet', 'btyweoni', 'Sunniess Hair', 'aldo Vandini', 'Cedar Hill', 'MILATTE', 'alien', 'CNC INC', 'Sunliss', \"Cascia all'Olmo\", 'Cb6000', 'Cawesor', 'CNS-Apparel', 'ROPALIA', 'Cattiva', 'CO-T', 'Catasy Trend', 'Caswell~Massey', 'ROOTS AROMATHERAPY ESSENTIAL OILS CALMING EUCALYPTUS SOOTHING SPEARMINT', 'Castillo Acre', 'Castelbel Porto', 'RAIN QUEEN', 'ROLINDA', 'ROLECOS', 'Cape Co', 'bgsbjl', 'RIDGID', 'COVER GIRL', 'COVIDIEN', 'COWINTIC', 'MILENSEA', 'COZYMATE', 'CZgem', 'RICOKU', 'CPOP', 'Summifit', 'CYTOSPORT', 'beautycote', 'CYEVA', 'CanvasLot', 'CRC', 'better homes and garden', 'RIBIKA', 'bestjewelrysupply', 'bebe prince', 'CUTICURA.', 'CROP', 'beegod', 'CUSTOM DECOR, INC.', 'Sun & Earth', 'bellus', 'CUIKCA', 'COTY US LLC', 'barbielylashes', 'Caizqbry', \"Cajohn's\", 'Canus', 'ROISOOT', 'aroma king', 'Canon', 'Canaxi', 'Can Solivera', 'ROESIA Rose cosmetics', 'COOP and Daisy', 'Campion', 'SunRise', 'CORISING', 'RED DEER', 'Cameo Collection', 'Sumbody', 'Calolea', 'b.lashed', 'Californiamicroneedle', 'RIVAGE', 'COSJP', 'California Earth Minerals', 'Summe Cosmetics', 'Calico Skin Care', 'Calibra - Probiotic Ferment Skin Care Technology', 'balanced guru', 'Cala Products', 'aegabe', 'CLICHÉ SKINCARE', 'adysi', 'CHENXUAN', 'Stylus Salon Wear', 'Clearzal', 'ClearChoice, Dermastart, Inc', 'Zodiac', 'CHAUGAN', 'QZ', 'Rachel Perry', 'Zoey', 'MADELLENA', 'Super City Block', 'Civilized Cosmetics', 'CHENICE', 'QiKoKo', 'MING DYNASTY', 'Citre Shine', 'CHERRY BABY', 'Circo', 'RXBC2011', 'Circle Y', 'RX Bottle Supply', 'CHICECO', 'Suoirblss', 'Cinkenyo', 'Cindy Xiang', \"Cindi's Sacred Gardens\", 'Cindere barbas', 'Cleo', 'CHARM ONLINE', 'Clevos', 'Zinspire', 'QILMILY', 'Coloplast', 'College Pencil', 'ColdBeauty', 'MAC Northern Crown Cosmetics', 'Coils From Shoyeido', 'Zia Natural Skincare', 'colorfulife', 'Ziermo', 'Cocorina', 'CocoSmileNUATE', 'Coastal Scents Montico', 'Zimmer Innovations', 'Co-t ARBrend', 'coldpa', 'CHAD & CO. SALON', 'Zingari Man', 'SuperPro', 'QTni', 'Zinger', 'CloseoutZone', 'QUEEN ROSE', 'Cliove Organics', 'Clinique My Happy', 'Cliniderm', 'Sublimation Specialties', 'Cien', 'Ceramic Silk by Jheri Redding', 'Charlotte', 'Chelsea Jones', 'Chella', 'Queen Hair', 'MAKE P:REM', 'RR Line', 'Zuvy', 'CJ Cheiljedang', 'Traverse Bay Soap Company', 'Zylast', 'canus', 'Zyliss', 'Charlotte Cook Cosmetics', '[]Naohiro', 'Trussardi', 'Chardonnay Wine TherapyNewRang', 'Charcoalogy', 'caffulin', 'Queenjery', 'Chango', 'ROWNYEON', 'Champneys', 'CLEANFORD', 'Chameleon', 'Chaleur', 'Sunnylife', 'Cevly', 'Chemex', 'Chemigroup France', 'CINEMA SECRETS', 'Cherhi', \"Chuan's Promise\", 'Chromatique Professional', 'Chroma', 'Sunshinesmile', 'Christmas Shop', 'Qraa', 'CHOSIN', 'Christi Harris Beaute', 'china glaze', 'Chris Farrell', 'Zotoyi', 'Zotoyi Rockabilia', 'CHUDA', 'cheese', 'Zotoyi The Pink Palm Tree', 'Zrtke', 'Chiki Buttah Products, LLC', 'Ztent', 'Chien', 'Ztl', 'Chic Fashion Jewellery', 'ChiaoGoo', 'Que Bella PRO', 'Zuhuri Beauty', 'RUCHULOVE', 'MAMUNU', 'DOMESTIQUE', 'Elabore', 'Duromed', 'Rockface', 'TABINO YADO', 'TABACO COLONIA', 'E N V I X', 'E GIFT ART', 'Décor Craft Inc.', 'Betued', 'Dänä', 'Dynamic', 'Rock & Republic', 'Perfumeria Gal', 'Duschdas', 'Perilynnc', 'E-busienss', 'Duraflame', 'Tunbot', 'MISSION - OTC', 'Persephone Lace Wig', 'Persona Model Agency', 'Bezall', 'YiYLunneo', 'Yiche Home', 'Personal Care Prod', 'Roberts', 'Dude', 'Lykos', 'Bettina Barty', 'Bettie Page', 'Pengshuai', 'ECOCOCO', 'Rolland', 'EHB Party Favors', 'EGHOME', \"Pepaw's Puzzle Chair\", 'Roja', 'Yeegfeyaa', 'Yeegfeyn', 'TAHLIA', 'Yeegfeyzz', 'EDOOK', 'EDENKISS', 'ECODERMA', 'Yellow Brick Road', 'Betterstar', 'Perfect Beauty MadayFormula', 'Beth Bender Beauty', 'Beth Minardi', 'Perfect Fit USA', 'EBLLPA', 'EBHDS', 'Better Botanicals', 'Starway', 'PerfectPrice', 'Better Tech', 'Perfective Ceuticals', 'E. FOUGERANUATE', 'Robert Graham', 'Yihao', 'Biconi', \"Dr. Marc's QUATTRO PRO Massager\", 'Dr. Wades Organics', \"Dr. Wade's Organics\", 'Dr. Theiss Naturwaren', 'Rishon Entrprises Inc.', 'Dr. Spiller', \"Dr. Soother's\", 'Stella & Dustin', 'YogaColors', 'Dr. Reckeweg', \"Dr. O'Duinn's\", 'PharmaCorp', 'Pharmaceutical Specialties', 'Bio-Oil', 'Perwoll', 'RioRand', 'BioAroma', 'Dr. Jean Marc Pere', 'True Color', 'Rinovill', 'Phebo', 'T.One', 'Stem Organics', 'Dr. Collins', 'T.F.A Cosmetics', 'Biography', 'Dr. Benjamin EM Soap', 'Lynne Leea', 'Steenbergs', 'Bilka', 'T.R.U. BALL', 'Dry Goods - Athletic Spray Powder', 'Drehdy', 'Stay-Matte', 'Pet Supplies Online', 'Dreams Products LLC', 'Big Axe Spice', 'gudetama', 'Petal', 'Petco', 'Big Sky Fiber Arts', 'Yiwan', 'Peterpan', 'Dream World Inc', 'Dream Tan', 'Draizee', 'Bigfoot Beards', 'Petra', 'Pets\\xa0Playmate', 'Petunia Farms', 'Bigrace', 'River Island Jewelry', 'PetzoPet', 'Peunitory', 'Bijoux', 'PfC Cosmetics', \"Penhaligon's Malabah Bath Oil 200ml/6.8oz\", 'ELAINE', 'elizabeth W Leaves body lotion', 'MIAH Beauty', 'EaseBreath', 'Earthliscentuals', \"Earth's Nectar\", 'Parfums Dusita', 'Paris Bleu', 'Earl & Brown', 'Bella Bosio', 'Eappy', 'Parisian Secret Skin Care', 'i-laesh', 'Parry Botanicals all-natural skincare', 'Bella Lucce', 'i play. by green sprouts', 'Paramount', 'Party Avenue', 'YZJSM', 'Rosemarie & Jubalee', 'Partygaga', 'YZLZSZ', 'EXPRESSIONS', 'Pascal Morabito', 'Rosebud', 'Belle en Argent', 'Belle of Hope', 'EXEL', 'YZniasllue', 'Rosy Rings', 'Para Mi Bebe', 'ELAN', 'Beety Nicexx', 'TCMY', 'Eileen Fisher', 'Pamina Hair', \"Eia's Corner\", 'Egnaro', 'Effadaine', 'Eerfeng', 'Edward Bess', 'BeeGreen', 'Eduard Vogt', 'YUESEN', 'YUKO', 'LvDD', 'EasySwing', 'Panos', 'Panta', 'Eclectic Lady', 'Roy-Samu', 'Roxane', 'Panterra Verlag, Munich', 'Echo Bridge Home Entertainment', 'iBuy', 'Ebros Gift', 'Ebest', 'Papaya Art', 'Papifilter', 'YaCaCia', 'hydrOtion', 'BelleTress', \"Pecksniff's Hand Wash 2 pack - Ginger Flower & Patchouli\", 'TALISMAN4U', 'Benzac', 'ENJOY THE DIFFERENCE', 'ENDO ICE', 'ENCHANTER', 'Bergottie', 'EMSIBETH', 'Peakright', 'Yari', 'Starlet', 'Romi ARBrend', 'Starlooks', 'Yasover', 'EXAFIT', 'Starpil', 'ELZU.US', 'Pediclear Food Spa Disinfectant', 'ELOT', 'ELM Game', 'Pedisavers', 'Ybody Glitter Tattoos', 'Peivob', 'hird', 'ELENI&CHRIS', 'Pendleotn', 'TAHNYC', 'ENPRANI', 'Peachy Blossom', 'Ronnen Cargo', 'ENVY BODY SHOP', 'Rose of Bulgaria', 'Bellemes', 'Patioer', 'Patyka', 'Bellisima', 'Bellmira Body Care', 'Rose Joghurt', 'Belmacz', 'Rose Healthcare', 'Yalu&Freedom rfvgd', 'huile de niche', 'Belvah', 'Pavinee21', 'Pavitra Puja', 'Paw Fume', 'Ben Sherman', 'Paw Patrol', 'ESS Aromatherapy', 'Rosarden', 'BendiBrush', 'YangYang', 'Yankee Forge', 'Rooicell Control', 'EQDRAF', 'Ronni', 'Phi Naturals', 'Bioken Enfanti Treatment 8.0 oz', 'Biolabs', 'Pomonas', 'Bohyme', 'StinkLight', 'DeNOA', 'DeELF', 'DeBizz', 'De vergulde Hand', 'Dazzfond', 'StinkLight covus', 'Yunpo', 'Yunsailing', 'Day In Day Out', 'Bolli & Fritz', 'Dawn', 'Boho Essentials', 'Yutou', 'Bolvaint', 'Stoko Kresto', 'Davidoff', 'David Douglas Skin Care', 'Stokolan Classic', 'David Beckham', 'Pomufa', 'M BY MARIAH CAREY', 'M Bridal', 'Renewold', 'DappChap', 'Dead Sea Origins', 'Bohiti Botanica', 'Bioland - Body Care', 'Polder', 'Body Butter', 'Swiss Army', 'Retinol by Robanda', 'Delray Beach', 'Delore for Nails', 'Delivery', 'Tsxurepaw', 'Pojga', 'Body Food', 'Yueruina', 'Deity', 'Degree33', 'Poleview', 'Restoria Express', 'Poliga', 'Body-Soul-n-Spirit Wash Cups', 'Polish', 'Deck of Scarlet', 'Deck', 'Debra Lynn Professional', 'Deb Stoko', 'Polysorbate 80', 'Bodyography', 'Dearpacker', 'Dear & Derm', 'Bogobrush', 'SweetWay', 'Z Palette', 'Stoner', 'Prell', 'ZEMRARE', 'Botanica', 'Precise', 'Precision Beauty', \"Streaks 'N Tips\", 'Botanics by Boots', 'Boticario Sleecom', 'ZENGYUE', 'Preferred Stock', 'ZERMAT', 'Relax Tony', \"Boudreaux's Butt Paste\", 'DR.REXY', 'Dankotuwa', 'Premier Designs', \"DR. SHEN'S\", 'MAMaiuh', 'Bow Flip Flops', 'Prep U ;', 'ZEW FOR MEN', 'elthmpr', 'Sweet Georgia Sugar', 'DORINI', 'Preston', 'DONGXIUB', 'DONFMIN', 'DSLONG', 'DSS', 'Precious Moments', 'DUESANG', 'ZAHRA BEAUTY', 'Bonket', 'ZAKIE', 'Tranquility Products', 'Poshe', 'Poshetion', 'Posimpa', 'ZAOYI', 'Poster', 'esthemax', 'DailySche', 'essiespa manicure', 'Potelin', 'Daily Essence', 'Renai Naturals', 'Remède', 'Boomer Naturals', 'essen HERB', 'Boost Energy Drink', 'ZCL', 'ZCollection', 'DWP Fashion Exclusives', 'DW Home', 'Stratec', 'DURANCE', 'Swiss O Par', 'Demissle', 'Bod Man', 'Black and White', 'Black Canyon Home and Body', 'Docer', 'Black Duck Deals', 'Black Menba', 'Pink & Main', 'Pink Cookie', 'Richmar', 'YouCY', 'Black Series', 'YouCute', 'Dive Logz', 'Pink Shave', 'Richard Ward', 'Synergy', 'RichCoco', 'Disney Frozen', 'Steris Corp', 'Bleach London', 'Pinxu', 'Ribest', 'geisbut', 'Rhoto', 'Bling World', 'Dillon Precision', 'MANMEI', 'gatsbylady london', 'Black Arch', 'You Are...', 'Dodo Juice', 'Piglagogo', 'T. LeClerc', \"Philadelphia Eddie's\", 'Dr Eslee', 'Dr Cool', 'Biosta', 'Phitz', 'Downy', 'Downton Abbey', 'RimRim Hijab assessories', 'Dove go', 'Bioxtra', 'Birchwood Casey', 'DoubleChin', 'Double Dare', 'Stenbert Solutions', 'Dosis Fragrances', 'Phytorelax Mandorla', 'glitzhome', 'Doodlebellies', 'Donna Bella', 'Riglamour', 'Yongyong', 'Donier', 'Pielor', 'DomKim', 'Sterling Blingz', 'Dianww', 'Denero Home', 'YuFit', 'Dermaroller', 'Revicare beauty', 'Dermagevity', 'Bluecell World', 'Tranhuy', 'Platinum Skin Care', 'Dermablossom', 'Bluesea Shop', 'Ysiop', 'DermaSmart', 'DermaPür', 'Blumix', 'Revel', 'Diamond Lash', 'Play-Doh', 'DermMatch', 'Derimed', 'DerBlue ARBrend', 'DeprozeaBeauty', 'Boanhongtai', 'YuanKanJu et', 'Yuauy', 'Dennis Stubblefield Sales', 'Bob n Trout Farm', 'Plum Island', 'Bobbi Boss Lace Wig', 'Revillon', 'Youvelst', 'Dermedic', 'Dermol 500', 'Sterling/MacFadden Partnership', 'Diamond Collection', 'Diadermine', 'Di Palomo Black Cherry', 'Di Palomo', 'Dgerp fdas', 'Sterly', 'Dgasin', 'BlondWood Labs', 'Pixie Cosmetics', 'Dewytree', 'Develop 10', 'Placenta', 'Stesti Online', 'Blossom Bucket', 'Desigual', 'BluSand', 'Design Optics', 'Design Lengths', 'Deserthome', 'Deruta Meyer', 'flossaid', 'Youthful Essentials', 'flamingo dental supplies', \"Steuart's Natural Health\", 'Hatop', 'Giant Sun', 'LUXMO LUXURY MOBILE', 'Junmei Hair', 'Afterlife Custom Irons', 'Aftermarket Auto Parts Wondery', 'Aftmk Rplcmt', 'Marie Lashes Paris', 'Agatige', 'Marianna Industries', 'Msholy', 'Jatai', 'Ageless Skin', 'Tote & Able', 'Maria Sasha', 'Jaqua', 'Japan', 'Silky Socks', 'AGREATLIFE', 'Janson Beckett', 'Janska', 'AGRA Cosmetics®', 'MuLier', 'Vetoo', 'Vetrarian', 'y2Lubes', 'Afropick', 'Mscoreray', 'Jeju', 'Jenni Chan', 'Markwins International Collections', 'Mr.XZY', 'Jelly Pong Pong', 'Afall', 'SdeFe', 'Jeju:en', 'Affinage Infiniti', 'Mario Lopez', 'Affirm', 'Jean Desprez', 'Verna', 'Mrs. Brog', 'xuenair', 'Vernal', 'Afri-Naptural', 'Jeash', 'African Botanics', 'Marina de Bourbon MadayFormula', 'MDM Bags', 'Jamric', 'Ahold', 'JamBer', 'Ultronics', 'LUNGEAR', 'Muma', 'Tristan Kai', 'The Fundamental Rockhound', 'JW Shears', 'AFM Safecoat', 'Schampa', 'AFM SafeCoat', 'Scentuals', 'So...? Kiss Me', 'LUNG ARMOUR', 'Scentsational', 'Scentology', 'Vicenzi', 'The Face Shop', 'siamparagon', 'ScentSationals', 'Vicious Teknology 4TopTime', 'Simmons', 'Scent Bar', 'Schild', 'Viba', 'skinlover', 'Marattur', 'Ahyee', 'LSKeenon', 'So Naughty Nude', 'Schylling', 'Marc Jacobs Beauty', 'The Good Home Company', 'Marbert', 'Vhabob', 'Jacques Fath', 'Umeweals', 'Jaboneria Marianella', 'Jacob Teitelbaum MD', 'Schwanen Garten', 'LUNA by LUNA', 'Aiernuo', 'MuiSci', 'sivanna', 'LUNANEON', 'Jacadi', 'The Goddess Line', 'Jennifer Ouellette', 'Jesse McCartney', \"Jesse's Girl\", 'Joseph Jivago', 'Acrimony Lounge', 'Acrylichomedesign', 'The Mineral Case', 'spr', 'Action', 'Siggreus', 'Journy beauty', 'Veegul', 'Moroccanoil', 'Morphe 8S', 'The Mortal Instruments City of Bones', 'Jordache', 'Morrie Molly', 'Veggie Wash', 'Lotus Moon', 'Morris & Co', 'Velaurs', 'Jonathan Kent Soap Works Goats Milk Soap', 'Jomocare', 'Velcro(r) Brand Fasteners', 'Acriflex', 'xfqwbd', 'Sigil Scent', 'Judith August', 'Junkin', 'Acdoco', 'Junbeauty', 'Moosehead', 'MopTop', \"MorDestany Botanical's\", 'July miracle', 'Juicy Couture', 'Juicemoo', 'Judikins', 'Untangled', 'Acionna', 'LKJYBG', 'Juckbo', 'Acmer', 'Morezi', 'Jtayiba', 'Secura', 'Tker', 'JoyiQi', 'Triplewood', 'Addprime', 'Jessica McClintock', 'Logistt', 'Seascape Island Apothecary', 'The Little Wing Trading Co Ltd', 'Sean John', 'Aedes De Venustas', 'Tlingit Botanicals', 'Move&Moving', 'AIEBAO', 'LOHACELL', 'ToDacUSA', 'so easy', 'Adventure Medical Kits', 'LOL Surprises', 'Maroma', 'Aeonskin', 'Marlies MÃller', 'Veria ID', 'Jetoy', 'Jet International Crystal', 'Jesus del Pozo', 'smile angel', 'Jo Jo', 'Maryann Inc.', 'The MarbleMed Incorporated', 'xhorizon', 'Adellina', 'soulmate naturals', 'Seattle Sundries', 'Adiosa Nicexx', 'Marycrafts horn hair forks', 'Johan', 'Joewellzyhan', 'MothPro', 'Adolfo Dominguez', \"Joe's USA\", 'Adv-one', 'LLarnn', 'Adoree', \"LLez'o\", 'Jodiss', 'LMS Hair', 'Jobar,Bert', 'sogoog', 'Adox', 'Seasky', 'MustaeV', \"Vicious Teknology Physician's Formula, Inc.\", 'Scandinavian Formulas', 'Iversan', 'Ivybee Decals', 'Alinch', 'Sanyar luxury hair care', 'Laerdal Medical', 'Skureay', 'Lakerol', 'NAMU LIFE', 'Alirina', 'Alisena', 'Visine', 'Sapil', 'Lakmus Pro', 'Italia-Deluxe', 'Make Me A Diva', 'Major Pharmaceutical', 'Majirel', 'Sans Pareil Naturals', 'Visionären', 'Aliza Naturals', 'Majestic Athletic', 'Saphorix', 'Uevo', 'VitaJuwel', 'Saponificio Varesino', 'ACCO Brands', 'MODARANI', 'schick', 'Saqico', 'Vionic', 'Sappo Hill', 'JAPANESE SAKURA OTAKU', 'Making Believe', 'JANET COLLECTION Braids', 'AlicevaSun Laboratories', 'Lady Primrose', 'Saponerie Mario Fissi', 'ACARE/阿嚓热', 'J.Z.F CARE', 'Alighiero Campostrini', 'NAGARJUNA', 'J. LeBlanc', 'Alilang', 'J&E Atkinsons', 'NAILOLOGY', 'Majestic', 'Sanoflore', 'Sara ABT', 'UTLA', 'Thai Deodorant Stones', \"Skully's Ctz Beard Oil\", 'NCLA BEAUTY', 'Soapbox Fox', 'AAPIKA', 'InstaRenew Towels', 'Alluricare', 'Insta-Dri', 'Thai', 'Innergizer', 'NBSail', \"Lassie'el\", 'Alo After Tanm', 'Tetyana naturals Fluff', 'Inn Diary', 'Inkcourage', 'NELLACARE', 'Aloe Vesta', 'Inhouse', 'AloeDent', 'Intaglio-etiology', 'InterDesign', 'Sano Naturals ARBrend', 'ABBA OIL LTD', 'Maizhuang', 'Soapbox', 'Iswee', 'The Afro Hair & Skin Co.', \"NATURE'S THERAPY\", 'Lanbter', 'Lovell', 'Iron Duck', 'Irish Wit and Wisdom Prints', 'ABBA', 'Sanie', 'Lander Brands', 'Ipsa', 'AB Nicexx', 'Thanmelin', 'Invicta', 'Sanio', 'Vitalina Naturals', 'Lange', 'Langer Biomechanics', 'Lady Corner', 'ACECHA', 'Love Labs Organics', 'LYBAIN', 'My Soigne', 'Savears', 'JOJOER', 'Soap & Paper Factory', 'MyDestiny', 'LWW', 'JOELLYNE NATURALS', 'Soap Alchemy', 'Akim', 'serpentspiral', 'AE', 'MyGroomingSupplies', 'MyHealth', 'JNMF', 'JMPS', 'JMOSTRG', 'MOUJ', 'ADERMA', 'youlief', 'ViiAN', 'LVMAOZI', 'Savon de Marseille', 'JKHJFZSA', 'JPNK ROYADVE', 'AESTHING', 'Love My Face', 'Muzi', 'JTME', 'shuangya hair', 'Mwergkou', 'Mxue', 'LUXBLINGZ', 'JPONDO', 'LUXLUXE', 'JONEL', 'Victoria Secret', 'U.S. Apothecary Elderflower & Vetiver', 'Victoria Secret Heavenly', 'AER', 'AEO', 'Victoria Vogue', 'Victory', 'yima', 'shenjin', 'Ala Rose', 'Mana Products,IncNUATE', 'MakupArtist', 'N DEVELOPED BY NEOGENLAB', 'La Shield', 'Myxx', 'La Soie', 'JH Foveam', 'Ulensy', 'Malabrigo', 'Vinnet Beauty ?WayWe', 'Alemiu', 'SarahEShop', 'JEWELEZ', 'La Riche', 'Vinolia', 'Alexandra De Markoff', 'VintFlea', 'Alfred Publishing', 'UiiWout gfsdg', 'JELLY PET', 'JEHEHUBO', 'JEDE', 'Ali Hairs', 'Alconox', 'Sashay Away', 'Trivellato Dermocosmetics', 'Myotone 2.0', 'Satin Hair Color by Developlus', 'Satin Foot', 'JJIA', 'Viking', 'Viking-Ink B&W', 'Viktor Rolf Salty Flower', 'JINMING', 'Tokyo Design', 'JINKAILI HAIR', 'Myrsol', 'U-Style', 'JINCHAO INDREMY', 'Myrurgia', 'Albane Noble', 'Albatros', 'Village Life Soap', 'Alberto Culver', 'Villini', 'Sassi', 'ACWELL', 'Somerset Toiletries', 'Junww', 'AloePothic', 'Jurxy', 'Loofah Savannah', 'Keys', 'Shilpa', 'Keyano', 'LALANG', 'VAASFGBD', 'Shadow Fiend', 'AQ Lash', 'Key Brands', 'Smart Cosmetics', 'Smiley', 'LANDOR', 'Mikayoo', 'ALYSSA ASHLEY', 'Mike & Mary', 'LANKEE', 'ALYAHT', 'AQUTOP', 'AQY', 'VIAVI', 'LANRUE', 'Khojati Herbal', 'Kiara Sky Professional Nails', 'usongs', 'Micrkrowen', 'Michambé', 'LongXTX', 'Miche', 'AOXIANG', 'Miche Bloomin', 'LA Bodies', 'Kimberly Clark', 'MeiGirls', 'ShiQiMa', 'VALORCASA', 'Kickers', 'Shiaon', 'VERSUM', 'Kiikooll', 'APIANA', 'Shield-Safety', 'Kids Meal', 'KidPub Press', 'Shake-N-Go', 'Kicpot', 'Milan salon furniture', 'Shindel', 'Loot Crate', 'Minenssey', 'Timex', 'AROMATICA', 'MEI-CHA', 'Kathihon', 'Mima & Oly', 'Kate Aspen', 'KatFly', 'VIPPER', 'Kashizyhan', 'ALLIMED', 'Kava King', 'MEDLINE', 'LAVEH', 'uhsupply.com', 'ubdyo', 'Mineraline', 'Karina Skin Care', 'Karina - French Couture', 'Kari Gran', 'LD Bags', 'Sex Wax', 'Kaviraja', 'ARBrend', 'MedStock', 'Mile High Online', \"Kelly's Naturals\", 'LAOUTA NATURAL PRODUCTS', 'ARDENCY INN', 'LAQA AND CO.', 'V VERNELL 1 7', 'unner', 'Milk & Honey', 'ALOE UP', 'VIGOUR', 'VINCIGEEK', 'MedC', \"VIKING KING BEARD CO. EST 'TWENTY O.C. CALIFORNIA\", 'Theraplex', 'unknown', \"Millennium Mom's\", 'LATHER', 'SmoRodina Cosmetics', \"Kaycee's Cosmetics\", \"Kaycee's\", 'King Horse', 'King Research', 'AMBI Montico', 'Korean Made', 'Kresto', 'vodvob', 'VBAP', 'ANDREA ORSI', 'VBLab', 'Kouwi', 'Kotoo', 'Kosmart', 'vitrebond', 'Shea Moisture ARBrend', 'Meiyuan', 'Korea', 'ANKHA', 'Smart Shield', 'Tierra Madre', 'KooSpirit', 'Konobeyi', 'VCOSTORE', 'Lonnie Life', 'ANMAR', \"L'core paris\", 'Mennen', 'ANNE SIDAMONI SKINCARE', 'Kusou', 'Meloso', 'Kvoike', 'AMOREPACIFIC', 'AMOREPACIFIC HERA', 'AMOS', 'AMOTAOS', 'Melvita', 'SmartFX', \"L'Artisan\", 'Kush', 'KritterKlips', 'AMYAN', 'Kure Bazaar', 'Memebox', 'Kungfu Apothecary', 'Memories That Last', 'Triad Medical', 'Ktyssp Nail Art', 'Krypton Carbon', 'Krud Kutter', 'Komocare', 'MOORE Medical', 'Shamrock Gift Co.', 'AMEISEYE', 'Shark Fin', 'Kiss First Aid', 'Shara Shara', 'Kiss ARBrend', 'L.E', 'Shi Skincare', 'AOCOCO', 'Kirks Folly', 'Longjet', 'Kinsman', 'VEINTI+1', 'LongXTXYS Park', 'Kini Bands', 'Kingman', 'Mibeauty', 'MicaBeauty', 'KingCorey', 'MichPong', 'LA', 'This is Feel', 'Kissaki', 'Mi an yi nuo', 'Koelf', 'Klavuu cosmetic', 'Meiji', 'Metafunky', 'Shay & Blue London', \"Knight's Exclusives\", 'Methode Swiss Beauty Care', 'AMETHYSTE', 'VEEPPO', 'Metropolis', 'MettleZ', 'Metuu', 'Kitc', 'AMERIDERM LABORATORIES', 'Sherri Lynne Home', 'Kiwi Botanicals', 'Kiwi', 'Kitoo covusSentGa', 'Kitoo', 'Kitoko', 'AMERICAN FUR', 'ANUA', \"Karen's Botanicals\", \"Karen's\", 'MiniTissue', 'Momiji Wireless', 'MORNYRAY', 'Molluci', 'Shoyeido', 'Snow Creek Meadows', 'Lotus Aroma', 'Moly', 'KCMShop', 'Momentum Brands', 'Self-published', 'The Posh Contessa', 'Vanaheim', 'Selena Gomez', 'Vanicream', 'Mongo Kiss', 'Snow Lotus', 'KARA', 'Upsweep', 'Upspirit', 'Upsmile', 'Monique', 'MaxBeauty', 'swia beauty', 'Monkey Brains', 'KETO Nature', 'KIKIYU', 'ALEKO', 'AVYO', 'Modinc', 'AW BRIDAL', 'Valobra', 'Mohigher', 'ALDIS', 'Snotra', 'LG', 'AXKS', 'Smackers', 'Lotil', 'Maxee', 'KERARGANIC', 'Totoci', 'KENDA AESTHETICS (Beverly Hills, California)', 'Urban Care', 'Moksha', 'The Real Insect', 'AKFD GOODSKIPOZI', 'KAKAO FRIENDS', 'SmallToys', 'Moonhey', 'AIUONXILIOP covus', 'AIUONXILIOP', 'The Not So Big Store', 'K', 'Moon Kitty', 'Absolute Organic', 'The New Jerusalem', 'Moondust Boutik', 'Vasyli', 'UpScale', 'stylesilove.com', 'Academie', 'AISunGoo', 'MoonshineStillPro', 'LITTLEMOLE', 'studio35 beauty', 'LIUYX', 'Just For You', 'Mason Medical', 'Siang Pure Oil', 'Montico', 'Mastihashop', 'The Original Lumberjack', 'K6 Skincare', 'KAIQIKAIXI', 'Uppercut Barber', \"Monroe's\", 'KACHIMOO', 'Abbey & Sullivan', 'Vaodroesia', 'Abbey Monk', 'Abbeyhorn', 'K9 GRANOLA', 'Upper Canada Soap', 'Shxstore', 'Vapuraler', 'AJMAL EVOKE', 'Seifen Fantasie', 'Monstro', 'Abgream', 'K-MusculoAABBCC', 'LINDSAY PHILLIPS', 'Snowflake Designs', 'LINGSTAR', 'AVONMERECAN', 'KIKO Milano', 'Smoosky', 'ATELIER BLOEM', 'Mirror', 'VOLATILE', 'KaKuta', 'KUZ', 'KURSO', 'MEDICO HERBS', 'The Wolf Moon®', 'ATD (Advanced Tool Design)', 'Serie Expert', 'The Well Groomed Guy', 'Lorenzo', 'tongniu7', 'The Vintage Cosmetic Company', 'Serenity Beauty', 'Miss Pink USA', 'MissLytton', 'Missvig', 'ATLOO', \"Missy Poo's Sensations Products\", 'ATOM', 'Lorenzo Villoresi', 'Loreal Paris', 'Shofars From Afar', 'Mirabilia', 'Lora Edwards', 'Minions', 'ASAP', 'London SOHO New York', 'LEADERS', 'Ushuaia', 'Kanebo Twany', 'ASHEPANX', 'LEATHFOCUS', 'Miracle 7', 'Mayisland', 'Kaminomoto Honpo', 'LEAV', 'VJU International', 'Kama Sutra Treasures of the Sea', 'towwi', 'Kama Sutra', 'Miracle Revival Mud Treatment Mask', 'Kalaya Naturals - Canadian', 'wishzcm', 'VS Pink', 'The Sponge Company', 'Modern Seasonings', 'AVANI Supreme', 'tgin', 'Valeant Pharm North Ameri', 'teko', 'womans', 'Mobile S7', 'Lost in Lace', 'Snooki', 'KISSNICOR', 'KISS MY FACE', \"KIRK'S NATURAL\", 'KITTEE LASH', 'Valiuss', 'AVEDA', 'LETB', 'AVENA KINESIA', 'ModelModel', 'ModelModel ARBrend', 'KING', 'KIMUWHI', 'Tiong', 'LENH', 'LEMON VERBENA', 'Septwolves', 'Miu Miu', 'LEEZI', 'VSI', 'KOSSP', 'Snail', 'Sephora Favorites', 'Sephora Becca Hourglass Milk Smashbox Too Faced Tarte', 'KORLOFF TAKE ME TO THE MOON', 'Lomani', 'The Somerset Toiletry Company', 'Sensual I-REMI', 'Sensi Sandals', 'The Somerset Toiletry Co', 'KOI MOUNTAIN', 'KODI JYJ', 'AUDYLIYA', 'The Soap Factory', 'KNC', 'KM Creations', 'The Scrub Company', 'Vagisil', 'Ingrid Millet', 'VANI', 'Salon Labs Chemistry', 'SVINZ', 'ILONA', 'US DENTAL', '8eighteen Fashion Cosplay', 'Hildegard Braukmann', 'Tealyra', 'Hikbill', 'ILTUY', 'Lee', 'MOZJONXLLY', 'Vérité Skincare', 'WIGGRAM', 'Linda Fashion', 'Linetion', '999', 'Highsound', 'IDS', 'Vvinon', 'Townley', 'SUYEPER', 'NORLANYA BEAUTY EQUIPMENT', 'puhoon', 'Naohiro', 'Napa Soap', 'Linetti', 'Leapers', 'Hierbas de Ibiza', 'Vurv Perfume', 'Hicks', 'Hickoryville', 'Naples Soap Co.', 'UEU', 'ILGANT', 'Tepe', 'pro manikin', 'Topvan', 'Mackertop', 'Skinfant', 'Solar Sense', 'MUMAZYL', 'IETANG', 'prised', 'Lekon', 'Leisure Curl', 'Amorrucio', 'MUMAIS', 'Nakamichi', 'SWERTY', 'Anthisan', 'Tressa', 'outlets ralph lauren', 'NPET', 'Towel Dry', 'Amor us', 'NOWATER', 'Mad Max', 'NOW', 'WHP Be gone', 'LeerKing', 'Hippie Butter', 'Amober', 'Hipoll', 'IKEA', 'AmnoAmno', 'Tzoxal', 'Amethyst', 'Ling Xiu', 'Salon Supply Store', 'INTENZE', 'Linovit Therapy', 'NO MELT LIP BALM', 'Крупный план', 'NO BRAND', 'Taycent', 'Skins', 'IOU', 'Amdieu', 'Voluminous Hair Rollers', 'Liobaba', 'Hermosa Marketplace', 'Natalia Paris', 'LeMarnia', 'Tavern Puzzles', 'National Periodical Publications', 'Solmyr', 'Tauer Perfumes', 'Volbeat', 'ISABEL CRISTINA', 'Natralia', 'MD Formulation', 'Terme', 'ISSEC', 'IT Haircare', 'NITION', 'Aphrodicy', 'ITSSIN', 'Aphrodisiac', 'WINNING', 'WINIBULA', 'Skinny & Co. DORINI', 'Lovingshopping', 'Ć', 'NOPUNZEL', '9wishes', 'WEEDOUT Inc. Nicexx', 'Skin Musk', 'Terasana', 'NON.U', 'Sip Soap Co', 'Salon Line', 'opphome', 'NOHOPE', 'MUA LUXE', 'INGology', 'METRO 365', '1home', 'WIN NICE', 'Heynature', 'Link Sudantha', 'American Breast Care', 'INKERLEE', 'WINIAER', '1FLR', 'SUPEREAST', 'NOCRLG ARKINON', \"America's Very Own\", 'USA Tools N More', 'INNOAESTHETICS', 'Lea Black Beauty Sudden Youth Lift Complete Facial Treatment', 'Terence', 'UNICORN GLOW', 'Amtu Hair Art & Tools', 'Toolcool', 'MYVIDAPURE', 'Libelle', 'Anello', 'Humble Brush', 'Nail Polish & Soak Off Gel Essie Nail Polish A259', 'Hope Gillerman Organics', 'Sage Cauldron', 'Hope Dance', 'Hummer', 'Topretty', 'Hunter', 'pop', 'Nail Polish & Soak Off Gel Essie Nail Polish A299', 'Nail Polish & Soak Off Gel Essie Nail Polish A302', 'UNITE', 'SaiDeng', 'Anseya', 'Skin C', 'Hooin', 'MZ Makeup', 'Nail Polish & Soak Off Gel Essie Nail Polish A319', 'WELdental', 'Hongo', 'Ma Provence', 'HongH', 'Huryfox', 'Andelaisi', 'Hush + Dottie', 'zhi yun', 'Levity & Co. ARBrend', 'Ankle Nicexx', 'WAWO', 'Nail Polish & Soak Off Gel Essie Nail Polish A227', 'Hugo Boss', 'LiftMaster', 'UNT', 'Nablus Natural Olive Oil Soap', 'Safego', 'Teenage Mutant Ninja Turtles', 'Lifetherapy', 'Safety 1st', 'Hraindrop', 'Skin Below the Chin', 'Huakii', 'House of Armáf', 'Nablus Soap Company ARBrend', 'Life Spirit Organic Soaps', 'pipedreams', 'Hotoyannia', 'pistil', 'Skindinavia', 'Huayang', 'Nail 17', 'Hubner', 'Hot Topic', '369 Days Care', 'Hot Optix', 'Nail Essentials', 'Hoss Dental Supply', 'Nail Magic', 'Huckstraps', 'Angel Bio Therapy', 'AngLink', 'zikria', 'popiv', 'Skin Care Chemist', 'Mac Auto Parts', 'I.N.C. International Concepts', 'Anahai', 'NUBOND', 'ICEWEAR', 'Les Merveilleuses De Laduree', '3 Pack Dove Nourishing Intensive-Cream, 2.53 Ounce', 'WESTMAN ATELIER', 'HomeoPet', 'SkinMadeSimple', 'Salk', 'ICHIKAMI Natural Care Select', 'Nail Polish & Soak Off Gel Essie Nail Polish A484', 'Amzsywig', 'ICON, SARRELA', 'primera', 'URB Apothecary', 'Home and Body Company', 'Solante', 'Sitara Collections', 'Home Health Products', 'IDC', 'Amy Butler', \"Lily's Home\", 'IDGTR', 'MOBETTER FRAGRANCE OILS', 'Hollywood Style', 'Leoy88 Beauty & Makeup', 'NailSlowee', 'Hollister', 'W-Dragon', 'Lily Of The Desert', '7 Chakra Stones', 'Huythbon', 'Nail Polish & Soak Off Gel Essie Nail Polish A444', '50 Cent', 'Hxrmve', 'Honey House', '321OU', 'Top Wear Wig', 'Hywean vitaminwater DORINI LDREAMAM CraftWholesale', 'NUVO WELLNESS ESSENTIALS', 'I', 'Mac limited edition vibe tribe collection', 'Honey Belle', 'I Coloniali', 'WANLIAN', 'MW', 'I Love Cosmetics', 'MacKenzie-Childs Sachet', 'WAHRE', 'I Love Pinch', '30SecPedi', 'MUZIWIG', 'Honbeanify pC', '3.02', 'Lilend', 'I-Lites', 'Honbeanify GHXC', 'MUU', 'Skin Doctors', 'WENWING', 'Annemarie Borlind', 'Les Parfums De Rosine', 'LeGrande Francisco', 'MYAXOY', 'NIG CUTE HAIR', 'METRO', 'Samantha Faiers', 'MS MS GLAMOUR', 'Natural Value', 'Lavanila', 'Ice N Fire', 'Aqualief', 'Apoterra Skincare', 'Henkel Company', 'Aquafresh', 'Amala', 'Healthy Supplements', 'Sinfulshine', 'Skoother', 'Immaculate Waters', 'Altaire Paris', 'Aqua Velva', 'USTAR', 'LavinsoALSTEN', 'NEW VIEW', 'MRSYEL', 'Import made in Colombia', 'Imports', 'Samal', 'Solo Brush', 'WOVIDA', 'Health & Beauty Natural Oils', 'Health Touch', 'In-Scents', 'Skin of Norway', 'Sanctuary Spa Covent Garden', 'Apofly', 'Henwei', 'Soaplicity', 'NEW BRAND', 'MSSD', 'Imprint', 'MRI', 'Imports Home', 'WNF GROUP', 'Apothecary', 'Illusionist', 'Illusion By Ceca', 'Alverde', 'Listening Planet', 'Helen Accessories', 'A+D', 'Tyco Healthcare Retail Group Inc.', 'LavoSana', 'Lisap Milano', 'Laxury', 'Sinful Colors Nail Polish', 'Alverde Natural Cosmetic', 'Lubricants', 'Layashow', 'Magic Hair', 'Henda New Sunshine', 'Liquid Rubber', 'SUNPLUS', 'Alwaysgirls', 'Natura Sintonia', 'Apotheke:M', 'WONDER MIRROR', 'Illuminations', 'WONDERTIFY', 'Loveux Moisturizing Lip Love Lipbalm, Passion Fruit', 'Natura Mr. MOTH', 'Alto Bella', 'USPS', 'Terrajuve', 'Little Journey', 'Vivo Per Lei & Jarosa', 'Hearnfox', 'Natural Rose', 'USPA', 'Vivo Per Lei & Jarosa Mr. MOTH', 'Torf Spa', 'A&D', 'Sampar', 'Le Dore Beauty', 'Heduman Institute', 'Igel', 'A.O.R Advanced Orthomolecular Research', 'Natura do Brazil', 'Laura Lee Los Angeles', 'MOCOPO', 'Lnoicy', 'Hawaian Tropic', 'Sam Friend', 'Incense King Scented OilLongXTX', 'Magnificent Hair Food #2 4 oz. (Pack of 2)', 'Nature by Canus', 'Lip Lites', 'Infinity', 'Tats4now', 'NEQUIO Kacul', 'Somatoline Cosmetic', 'Vitane', 'Salux COTU', 'Iam Fragrance', 'Herbalife Nutrition', 'Alopefac', 'He Wood', 'Independent Sleep', 'Tïffâny & Çô', 'Natura Ekos Maracuja', 'Total Manicure', 'HeadGames N-Joy for you', 'Ingrid Auer', \"Maggie's Functional Organics\", 'IZELL Beauty', 'Samajuf', 'Ice Cream by Inebrya', 'ombre brazilian loose wave bundles', 'WQLYK', 'Laube', 'Amamcy', 'Herbal Clean', 'USAMZ909', 'Alpacas Included', 'MTJJ', 'InKach', 'Alpha Tools', 'A.T. Cross', 'Ingenue']\n"
     ]
    }
   ],
   "source": [
    "#pandas to list - source https://www.geeksforgeeks.org/how-to-convert-pandas-column-to-list/\n",
    "#convert store column into a list to have the output of all the names of the stores that have the 5.0 rating, which is the highest one. \n",
    "\n",
    "lista  = df_rate5['store'].values.tolist()\n",
    "print(lista)\n",
    "#this list contains all stores names who have received 5.0 average rating "
   ]
  },
  {
   "cell_type": "code",
   "execution_count": 208,
   "metadata": {},
   "outputs": [],
   "source": [
    "#second case scenario: if we take the brand column created "
   ]
  },
  {
   "cell_type": "code",
   "execution_count": 53,
   "metadata": {},
   "outputs": [
    {
     "data": {
      "text/html": [
       "<div>\n",
       "<style scoped>\n",
       "    .dataframe tbody tr th:only-of-type {\n",
       "        vertical-align: middle;\n",
       "    }\n",
       "\n",
       "    .dataframe tbody tr th {\n",
       "        vertical-align: top;\n",
       "    }\n",
       "\n",
       "    .dataframe thead th {\n",
       "        text-align: right;\n",
       "    }\n",
       "</style>\n",
       "<table border=\"1\" class=\"dataframe\">\n",
       "  <thead>\n",
       "    <tr style=\"text-align: right;\">\n",
       "      <th></th>\n",
       "      <th>title</th>\n",
       "      <th>average_rating</th>\n",
       "      <th>rating_number</th>\n",
       "      <th>features</th>\n",
       "      <th>description</th>\n",
       "      <th>images</th>\n",
       "      <th>store</th>\n",
       "      <th>details</th>\n",
       "      <th>brand</th>\n",
       "    </tr>\n",
       "  </thead>\n",
       "  <tbody>\n",
       "    <tr>\n",
       "      <th>0</th>\n",
       "      <td>Howard LC0008 Leather Conditioner, 8-Ounce (4-...</td>\n",
       "      <td>4.8</td>\n",
       "      <td>10</td>\n",
       "      <td>[]</td>\n",
       "      <td>[]</td>\n",
       "      <td>[{'thumb': 'https://m.media-amazon.com/images/...</td>\n",
       "      <td>Howard Products</td>\n",
       "      <td>{'Package Dimensions': '7.1 x 5.5 x 3 inches; ...</td>\n",
       "      <td>None</td>\n",
       "    </tr>\n",
       "    <tr>\n",
       "      <th>1</th>\n",
       "      <td>Yes to Tomatoes Detoxifying Charcoal Cleanser ...</td>\n",
       "      <td>4.5</td>\n",
       "      <td>3</td>\n",
       "      <td>[]</td>\n",
       "      <td>[]</td>\n",
       "      <td>[{'thumb': 'https://m.media-amazon.com/images/...</td>\n",
       "      <td>Yes To</td>\n",
       "      <td>{'Item Form': 'Powder', 'Skin Type': 'Acne Pro...</td>\n",
       "      <td>Yes To</td>\n",
       "    </tr>\n",
       "    <tr>\n",
       "      <th>2</th>\n",
       "      <td>Eye Patch Black Adult with Tie Band (6 Per Pack)</td>\n",
       "      <td>4.4</td>\n",
       "      <td>26</td>\n",
       "      <td>[]</td>\n",
       "      <td>[]</td>\n",
       "      <td>[{'thumb': 'https://m.media-amazon.com/images/...</td>\n",
       "      <td>Levine Health Products</td>\n",
       "      <td>{'Manufacturer': 'Levine Health Products'}</td>\n",
       "      <td>None</td>\n",
       "    </tr>\n",
       "    <tr>\n",
       "      <th>3</th>\n",
       "      <td>Tattoo Eyebrow Stickers, Waterproof Eyebrow, 4...</td>\n",
       "      <td>3.1</td>\n",
       "      <td>102</td>\n",
       "      <td>[]</td>\n",
       "      <td>[]</td>\n",
       "      <td>[{'thumb': 'https://m.media-amazon.com/images/...</td>\n",
       "      <td>Cherioll</td>\n",
       "      <td>{'Brand': 'Cherioll', 'Item Form': 'Powder', '...</td>\n",
       "      <td>Cherioll</td>\n",
       "    </tr>\n",
       "    <tr>\n",
       "      <th>4</th>\n",
       "      <td>Precision Plunger Bars for Cartridge Grips – 9...</td>\n",
       "      <td>4.3</td>\n",
       "      <td>7</td>\n",
       "      <td>[Material: 304 Stainless Steel; Brass tip, Len...</td>\n",
       "      <td>[The Precision Plunger Bars are designed to wo...</td>\n",
       "      <td>[{'thumb': 'https://m.media-amazon.com/images/...</td>\n",
       "      <td>Precision</td>\n",
       "      <td>{'UPC': '644287689178'}</td>\n",
       "      <td>None</td>\n",
       "    </tr>\n",
       "  </tbody>\n",
       "</table>\n",
       "</div>"
      ],
      "text/plain": [
       "                                               title  average_rating  \\\n",
       "0  Howard LC0008 Leather Conditioner, 8-Ounce (4-...             4.8   \n",
       "1  Yes to Tomatoes Detoxifying Charcoal Cleanser ...             4.5   \n",
       "2   Eye Patch Black Adult with Tie Band (6 Per Pack)             4.4   \n",
       "3  Tattoo Eyebrow Stickers, Waterproof Eyebrow, 4...             3.1   \n",
       "4  Precision Plunger Bars for Cartridge Grips – 9...             4.3   \n",
       "\n",
       "   rating_number                                           features  \\\n",
       "0             10                                                 []   \n",
       "1              3                                                 []   \n",
       "2             26                                                 []   \n",
       "3            102                                                 []   \n",
       "4              7  [Material: 304 Stainless Steel; Brass tip, Len...   \n",
       "\n",
       "                                         description  \\\n",
       "0                                                 []   \n",
       "1                                                 []   \n",
       "2                                                 []   \n",
       "3                                                 []   \n",
       "4  [The Precision Plunger Bars are designed to wo...   \n",
       "\n",
       "                                              images                   store  \\\n",
       "0  [{'thumb': 'https://m.media-amazon.com/images/...         Howard Products   \n",
       "1  [{'thumb': 'https://m.media-amazon.com/images/...                  Yes To   \n",
       "2  [{'thumb': 'https://m.media-amazon.com/images/...  Levine Health Products   \n",
       "3  [{'thumb': 'https://m.media-amazon.com/images/...                Cherioll   \n",
       "4  [{'thumb': 'https://m.media-amazon.com/images/...               Precision   \n",
       "\n",
       "                                             details     brand  \n",
       "0  {'Package Dimensions': '7.1 x 5.5 x 3 inches; ...      None  \n",
       "1  {'Item Form': 'Powder', 'Skin Type': 'Acne Pro...    Yes To  \n",
       "2         {'Manufacturer': 'Levine Health Products'}      None  \n",
       "3  {'Brand': 'Cherioll', 'Item Form': 'Powder', '...  Cherioll  \n",
       "4                            {'UPC': '644287689178'}      None  "
      ]
     },
     "execution_count": 53,
     "metadata": {},
     "output_type": "execute_result"
    }
   ],
   "source": [
    "df.head()"
   ]
  },
  {
   "cell_type": "code",
   "execution_count": 71,
   "metadata": {},
   "outputs": [],
   "source": [
    "df_br = df.groupby(\"brand\")[\"average_rating\"].mean().sort_values(ascending=False).reset_index(name='mean_rating')\n",
    "#groupby to see the average score given to each store combined "
   ]
  },
  {
   "cell_type": "code",
   "execution_count": 73,
   "metadata": {},
   "outputs": [
    {
     "data": {
      "text/html": [
       "<div>\n",
       "<style scoped>\n",
       "    .dataframe tbody tr th:only-of-type {\n",
       "        vertical-align: middle;\n",
       "    }\n",
       "\n",
       "    .dataframe tbody tr th {\n",
       "        vertical-align: top;\n",
       "    }\n",
       "\n",
       "    .dataframe thead th {\n",
       "        text-align: right;\n",
       "    }\n",
       "</style>\n",
       "<table border=\"1\" class=\"dataframe\">\n",
       "  <thead>\n",
       "    <tr style=\"text-align: right;\">\n",
       "      <th></th>\n",
       "      <th>brand</th>\n",
       "      <th>mean_rating</th>\n",
       "    </tr>\n",
       "  </thead>\n",
       "  <tbody>\n",
       "    <tr>\n",
       "      <th>0</th>\n",
       "      <td>Bellisima</td>\n",
       "      <td>5.0</td>\n",
       "    </tr>\n",
       "    <tr>\n",
       "      <th>1</th>\n",
       "      <td>JELLY PET</td>\n",
       "      <td>5.0</td>\n",
       "    </tr>\n",
       "    <tr>\n",
       "      <th>2</th>\n",
       "      <td>Aurora Cosmetics</td>\n",
       "      <td>5.0</td>\n",
       "    </tr>\n",
       "    <tr>\n",
       "      <th>3</th>\n",
       "      <td>Rucci Inc</td>\n",
       "      <td>5.0</td>\n",
       "    </tr>\n",
       "    <tr>\n",
       "      <th>4</th>\n",
       "      <td>MEIUGV</td>\n",
       "      <td>5.0</td>\n",
       "    </tr>\n",
       "    <tr>\n",
       "      <th>...</th>\n",
       "      <td>...</td>\n",
       "      <td>...</td>\n",
       "    </tr>\n",
       "    <tr>\n",
       "      <th>22956</th>\n",
       "      <td>Roalschr</td>\n",
       "      <td>1.0</td>\n",
       "    </tr>\n",
       "    <tr>\n",
       "      <th>22957</th>\n",
       "      <td>target</td>\n",
       "      <td>1.0</td>\n",
       "    </tr>\n",
       "    <tr>\n",
       "      <th>22958</th>\n",
       "      <td>Baby Hair</td>\n",
       "      <td>1.0</td>\n",
       "    </tr>\n",
       "    <tr>\n",
       "      <th>22959</th>\n",
       "      <td>Fujiuia</td>\n",
       "      <td>1.0</td>\n",
       "    </tr>\n",
       "    <tr>\n",
       "      <th>22960</th>\n",
       "      <td>DIVAIN</td>\n",
       "      <td>1.0</td>\n",
       "    </tr>\n",
       "  </tbody>\n",
       "</table>\n",
       "<p>22961 rows × 2 columns</p>\n",
       "</div>"
      ],
      "text/plain": [
       "                  brand  mean_rating\n",
       "0             Bellisima          5.0\n",
       "1             JELLY PET          5.0\n",
       "2      Aurora Cosmetics          5.0\n",
       "3             Rucci Inc          5.0\n",
       "4                MEIUGV          5.0\n",
       "...                 ...          ...\n",
       "22956          Roalschr          1.0\n",
       "22957            target          1.0\n",
       "22958         Baby Hair          1.0\n",
       "22959           Fujiuia          1.0\n",
       "22960            DIVAIN          1.0\n",
       "\n",
       "[22961 rows x 2 columns]"
      ]
     },
     "execution_count": 73,
     "metadata": {},
     "output_type": "execute_result"
    }
   ],
   "source": [
    "df_br"
   ]
  },
  {
   "cell_type": "code",
   "execution_count": 75,
   "metadata": {
    "scrolled": true
   },
   "outputs": [
    {
     "name": "stdout",
     "output_type": "stream",
     "text": [
      "['Bellisima', 'JELLY PET', 'Aurora Cosmetics', 'Rucci Inc', 'MEIUGV', 'Effadaine', 'JEHEHUBO', 'Californiamicroneedle', 'California Mango', 'Aurora Active', 'Effol', 'VBLab', 'Authentic Naturals', 'Calico Skin Care', 'SILK OIL OF MOROCCO MadayFormula', 'Ktyssp Nail Art', 'bonballoon', 'Calolea', 'NewLine', 'Aunt Jackies Kids', 'Ferskov', 'bulk buys', 'Y Et Beauté', 'Can Solivera', 'Tokyo Design', 'Campion', 'bows for belles', 'Nicexx', 'PAWOAH', 'Kure Bazaar', 'born to run', 'Cameo Collection', 'PDC Brands', 'Eduard Vogt', 'Cala Products', 'Ava Haircare', 'Egnaro', 'Avon Clean', 'Sunee Hair', 'bebe prince', 'Rue21 Rue 21', 'Kresto', 'Shield-Safety', 'CYEVA', 'Marycrafts horn hair forks', 'Avalanche', 'Pruvit', 'Fekey&JF', 'TTI Blakemore', 'bebe', \"Eia's Corner\", 'YANAGIYA', 'AvicerePersephone', 'KritterKlips', 'CZgem', 'NiceOne', 'Krud Kutter', 'Rue21', 'Aveeno Baby', 'Cafetec', 'JH Foveam', 'Rudmox', 'VCOSTORE', 'Shiaon', 'Golden Lady', 'PEIPEIER', 'Pudus', 'SILK OIL OF MOROCCO', 'Pukguro', 'Pure Body Organics ARBrend', 'Augot', 'Ruby-Blue Bunny', 'J. LeBlanc', 'CartierzALSTEN', 'Ivybee Decals', 'Carpeli', 'HOYOLS', 'J&E Atkinsons', 'Secura', 'Carlos Correa', 'True Color', 'Feyuan', 'Eclectic Lady', 'PAFUWEI', 'Caribbean CostaBlue', 'Carex', 'TWISTYLER', 'Goessom', 'MuLier', \"L'core paris\", \"Cascia all'Olmo\", 'P&g Health & Beauty', 'ModelModel ARBrend', 'Castelbel Porto', \"L'espoir\", 'Nike', 'Tlingit Botanicals', 'Goddess Touch', 'Caswell~Massey', 'Fijian Noni Soap', 'Ebc', 'Artistic Colour', 'MaxBeauty', 'Artifact Skin Co.', 'MEI-CHA', 'J.Z.F CARE', 'Pure Cosmetics', 'CanvasLot', \"Rubie's\", 'HOTHOM LENRAM', 'Atmosmaker', 'Shi Skincare', 'Pure Life Soap Co.', 'Atrix', 'Modern Seasonings', 'J2 Hair Tools', 'Modinc', 'XunYee', 'PATTERSON VETERINARY', 'Sundance', 'Auctiv', 'Canaxi', 'Caprina by Canus', 'Gojo', 'Mastihashop', 'JAPANESE SAKURA OTAKU', 'JANET COLLECTION Braids', 'Xqumoi', 'Vitane', 'PAPERVOICE', 'Eco-fin', 'Carefree', 'Pure Smile', 'Carefree Elite', 'HOUSEEN', \"L'Angelica\", 'Aster & Bay', \"L'Artisan\", \"L'Artisan Parfumeur\", \"Avon'\", 'TSUYA', 'Skin Musk', 'BBinfinite', 'Klaire Labs', 'VERSUM', 'BBITUOGG', 'BBS', 'Salon Line', 'Ellgy', 'Priti', 'Kitoo covusSentGa', 'CLICHÉ SKINCARE', 'Kiwi Botanicals', 'BDK', 'Prinfore', 'Zuhuri Beauty', 'Nablus Natural Olive Oil Soap', 'VintFlea', 'BB Lifestyle', 'CNC INC', 'Maria Sasha', 'CNDHUI', 'Ellas', 'Pro Hair Tools', \"Na'Scent\", 'Klavuu cosmetic', 'TPMXEMR', 'Pro Tan by Original Muscle Up', 'POLATAM', 'ProAdvantage', 'MF2FLAY', 'COCOOIL', 'Monkey Brains', 'Skin Doctors', 'Top Brass', 'Newcos', 'COL-LAB', 'PQDAYSUN', 'Fantastic World Foods', 'Zombie Workers', 'Elégance', 'Kissaki', 'CINEMA SECRETS', 'BEE & YOU', 'Runahaa', 'Kitoo', 'Suoirblss', 'YIWEN', 'Super City Block', 'CHYU', 'Kiss First Aid', 'PREP', 'BEAUTYKO', 'Marattur', 'Marbert', 'BEAUTY-SALE', 'Goodsnetic', 'Prime Guard', 'Elysees Fashion', 'Kitc', 'JSDOIN', 'JR SMART', 'Elthmpr', 'HERMES', 'PrimeHousehold', 'BEAUTIQLO', 'Seattle Sundries', 'BEAUTE PRESTIGE INTERNAT', 'Kitoko', 'HGB', 'Zyhan', 'HML', 'Feather ACR-DWPG', 'JINMING', 'CPOP', 'Koreatrends', 'COZYMATE', 'COWINTIC', 'Azul Skin Health', 'Maroma', 'Komocare', 'Konobeyi', 'Konna', 'Sunniess Hair', 'COTY US LLC', 'Markwins International Collections', 'B Vain', 'Kosmart', 'Ayr Skin Care', 'JINKAILI HAIR', 'HJR', 'Nexuss', 'Ayelet Naturals', 'VEINTI+1', 'Elegant Lashes', 'Kouwi', 'Provence Sante', 'beautycote', 'Provon', 'CUIKCA', 'PEWOD', 'Shilpa', 'Elabore', 'PETKIRI', 'JJIA', 'Proganix', 'ProKnows', 'Proched', 'YESMOLA', 'aldo Vandini', \"TRE'STIQUE\", 'Marie Lashes Paris', 'Good Things', 'aegabe', 'Probiotic Action', 'B-COOL', 'Msholy', 'Mongo Kiss', 'TRANQUILITY', 'N\\\\a', 'COLORKEY', 'Zylast', 'Elitzia', 'BACKSCRATCHERS', 'Salon Supply Store', 'EliteBond', 'Mon Shampoing', 'Marina de Bourbon MadayFormula', 'Sunnylife', 'Koelf', 'Koji', 'YEEPSYS', 'CORISING', 'B.lashed', 'Profective', 'Mario Lopez', 'Nexcare', 'COSJP', 'Sunny Sling', 'Cattiva', 'Artego', 'Catwoman', 'SUNATORIA', 'Illuminations', 'Skoother', 'ClearChoice, Dermastart, Inc', 'Flori Roberts', 'Illusion By Ceca', 'Organic Island', 'Stuvz', 'Glenn Perri', 'goddess garden', 'Anelor', 'Image', 'Angel Bio Therapy', 'Medicalia', 'Immaculate Waters', 'Clearzal', 'Cleo', 'Organic Complexion', 'Organic Age Defense', 'Studio Gear', 'Clevos', 'Studio 78 Paris', 'Studio 10', 'Cliniderm', 'EUROPEAN WAX CENTER', 'Hair Couture', 'Hair Excel', 'Cliove Organics', 'StrongLite', 'CloseoutZone', 'Anahai', 'MAMUNU', 'Floral Breeze', 'XINSHI', 'hird', 'Rouge Bunny Rouge', 'Civilized Cosmetics', 'Citre Shine', 'Vvinon', 'Original Moxie', 'Circle Y', 'Ushuaia', 'Styli-style Cosmetics', 'MANMEI', 'Vurv Perfume', 'Cindy Xiang', \"Cindi's Sacred Gardens\", 'Stylish Depot', 'Incense King Scented OilLongXTX', 'Shay & Blue London', 'MedC', 'LENH', 'Oriamour', 'MedStock', 'MAOFAED', 'NOPUNZEL', 'Vérité Skincare', \"Fleur's by Hemani\", 'Tsxurepaw', 'Organic Traditions', 'Angju', 'NON.U', 'Flight mode', 'NOHOPE', 'QTICA', 'Style Of Paris', 'QTni', 'WAHRE', 'NO BRAND', 'Cien', 'Colorsilk', 'Amala', 'ITSSIN', 'Amamcy', \"Wright's\", 'iSuperfine', 'LKJYBG', 'Opalescence Smilebrush', 'LIUYX', 'Stoko Kresto', 'Miu Miu', 'Tauer Perfumes', 'Stokolan Classic', 'Focus', 'Glacier Smoothie Soaps', 'StinkLight covus', 'Rose of Bulgaria', 'MeiGirls', 'Rose Joghurt', 'Giro', 'IT Haircare', 'LLarnn', 'Alwaysgirls', 'Alverde Natural Cosmetic', 'Alverde', 'ISuperfine', \"LLez'o\", 'Sanctuary Spa Covent Garden', 'ENJOY THE DIFFERENCE', 'Commodity', 'Commonwealth Soaps & Toiletries', 'Compara', 'IZELL Beauty', 'Amby', 'Igel', 'AmnoAmno', 'QiKoKo', 'Flymind', 'Codex Beauty', 'LINDSAY PHILLIPS', \"Skully's Ctz Beard Oil\", 'ETA Cosmetics', 'Amober', 'Glade', 'WANLIAN', 'Amor us', 'Amorus USA', 'MAMACHU', 'Orbitol', 'Hair Flowers ARBrend', 'Stri-Dex', 'SUN-STAR', 'Amethyst', 'Skureay', 'hydrOtion', 'Glam i', 'Ice Cream by Inebrya', \"Tweak'd\", 'ESS Aromatherapy', \"America's Very Own\", 'Optimum MadayFormula', 'Coloplast', 'LITTLEMOLE', 'Optimum Advanced', 'Noevir', 'Iam Fragrance', 'Rosemarie & Jubalee', 'Haever hair', 'Cidere', 'L.E', 'Trussardi', 'Summifit', 'VAASFGBD', 'Xfqwbd', 'Ipsa', \"Nina's Paris\", 'HULKA Srl', 'Champneys', 'Tiong', 'SkinMadeSimple', 'Argan du maroc', 'Arganatural', 'dyenner', 'Chameleon', 'Chaleur', 'LALANG', 'Skinceuticals', 'IoYoI', 'PÜR The Complexion Authority', 'Archipelago Botanicals', 'Arbutin Soap', 'Charcoalogy', 'NOW', 'Outlets ralph lauren', 'Summe Cosmetics', 'Eappy', 'LANDOR', 'Sam Friend', 'Charlotte', 'Sumbody', 'Charlotte Cook Cosmetics', 'OumuEle', 'NOWATER', 'Arimino', 'LANKEE', 'LA Bodies', 'Skin of Norway', 'Arome', 'Maxee', 'SUNPLUS', 'Arrahan', 'Arran Aromatics', 'Xinblue baby', 'Talyoni', 'LA', 'TailaiMei', 'Italia-Deluxe', 'Purple Emu', 'Cawesor', 'MEDICO HERBS', 'EasySwing', 'Vivo Per Lei & Jarosa', 'SIX FOXES', 'FinchBerry', 'Aroma king', 'Find All', 'SIXNE', 'Cellfood', 'Nin9Yuan', 'NPET', 'Armani Si Rose', 'Royale USA', 'Vodvob', 'HUDA BEAUTY', 'FineMusez', 'Earthbath', 'Cevly', 'Xawy', 'MCM', 'XONOR', 'Sampar', 'AnubisMed', 'Anushka', 'Osia Osia by ZEZE', 'LD DRESS', 'Choice One', 'QILMILY', 'Glow Habit Gummy', 'Osulloc', 'Innergizer', 'essen HERB', 'Innolife', 'Shea Moisture ARBrend', 'MATRISKIN', 'Roxane', 'Ingrid Millet', 'Christian Lenart', 'Ingrid Auer', 'Osec', 'Christmas Shop', 'Chroma', 'MARUKKAN', 'Ingenue', 'Sublimation Specialties', 'Chromatique Professional', 'Niven Morgan Lavender Mint', 'Measurable Difference', 'Glory be beauty', 'EXPRESSIONS', 'XOXO', 'LEEZI', 'Usongs', 'Roy-Samu', 'EZ Flow', 'Skindinavia', 'Cheese', 'Cherhi', 'Intaglio-etiology', 'Apotheke:M', 'Chemigroup France', 'Chelsea Jones', 'LAQA AND CO.', 'Volbeat', 'Schwanen Garten', 'InterDesign', 'Royal Magic', 'LAOUTA NATURAL PRODUCTS', 'Mayisland', 'Fireball Fragrances', 'Fire Beauty', 'Apothecary', 'XUYI', 'Apone Fatu', 'Apofly', 'Glowry Inc.', 'SKEMEHNC', 'LATHER', 'Glowmorous', 'MAYA Cosmetics', 'Insta-Dri', 'ChiaoGoo', 'Skinny & Co. DORINI', 'elizabeth W Leaves body lotion', 'Samantha Faiers', 'Chic Fashion Jewellery', 'XSYHair', 'Chien', 'Top Wear Wig', 'BELA', 'LMS Hair', 'FERGRELM gj', \"Bob's Red Mill\", 'Boanhongtai', 'Juicemoo', 'Evercare', 'FERGRELM gk', 'Beauskin', 'Bluef', 'Gsber', 'Bluecell World', 'Pink Shave', 'MORNYRAY', 'Paw Fume', 'Beautiful Home', 'Beautiful Textures', 'Bobbi Boss Lace Wig', 'Beaty Renew', 'Prettybuy', 'Grrrip Plus Enhancer', 'Bogobrush', 'MopTop', \"MorDestany Botanical's\", 'Synergy', 'Bodyography', 'Beard Society', 'Jtayiba', 'Bod Man', 'Body Food', 'Yiche Home', 'FHKSL', 'Juckbo', 'Judikins', 'Bearington', 'KOSSP', 'SafeHands', 'THDS', 'Morris & Co', 'KOI MOUNTAIN', 'KODI JYJ', 'Gtechniq', 'KODAMO', 'T. LeClerc', 'Junww', 'Beauty Skin Lab', 'Paw Patrol', 'Everpro Back 2 Blonde', 'Natura Sintonia', 'Jurxy', 'FEELXO', 'Blissful Bath', 'T.F.A Cosmetics', 'ZEMRARE', 'Natura Mr. MOTH', 'Beauty Garden', 'ZERMAT', 'MOUJ', 'Beauty Empire Boutique', 'Mackertop', 'Yima', 'SAMJUNG', 'Vanicream', 'T&T', 'ZEW FOR MEN', 'Junbeauty', 'Pink & Main', 'KORLOFF TAKE ME TO THE MOON', 'Beauty & Care', 'Verna', 'Joystar', 'KUZ', 'Boho Essentials', 'SAKAL', 'Kama Sutra', 'Swia beauty', 'Bari Lynn', 'Napkery', 'Naples Soap Co.', 'Yeegfeyn', 'Ethocyn Skin Care By Chantal', 'Boohugger', 'Vhabob', 'HANCHANG', 'Kalaya Naturals - Canadian', 'Moosehead', 'Jomocare', 'Boomer Naturals', 'Paris Bleu', 'Napa Soap', 'HANIN', 'Parfums Dusita', 'Placenta', 'Yeegfeyaa', \"Nellie's All-Natural\", 'Bard Access Systems', 'Mothers', 'Barbielylashes', 'Barber Shop Aid', 'SdeFe', 'MOBETTER FRAGRANCE OILS', 'Kaminomoto Honpo', 'Botanica', 'HANPI', 'Paramount', 'MothPro', 'Eukivi Products', 'Bohyme', 'Bolli & Fritz', 'Journy beauty', 'Parry Botanicals all-natural skincare', 'HANAJIRUSHI', 'THE NORTH FACE', 'Bolvaint', 'ZKMAGIC', 'FINE PEARL', 'Traverse Bay Soap Company', 'THE LAB BY BLANC DOUX', 'ZJCHKISS', 'HANA Organic Skincare ARBrend', 'BeYOU Beauty', 'Madina Bar Soaps', 'Pascal Morabito', 'Magic Hair', 'Swiss O Par', 'European Body Art', 'Baudelaire', 'Bonket', 'Valiuss', 'Swiss Army', 'Grippi', 'Jordache', 'FIXSON', 'Parisian Secret Skin Care', 'Jonathan Kent Soap Works Goats Milk Soap', 'Bastide', 'Pixie Cosmetics', 'Baskrean', 'Yellow Brick Road', 'Kakaco', 'Every Strand', 'EveryShine', 'KNC', 'BendiBrush', 'PerfectPrice', 'KERARGANIC', 'Ben Sherman', 'Venique', 'YueBon', 'Velishy', 'YouCY', 'Benzac', 'Ez FRESH BODY', 'SAOR', 'Toynbee', 'Peter Lamas', 'KAIQIKAIXI', 'Yuauy', 'FAIWAWU', 'Sibu', 'Gying', 'Veegul', 'Petra', 'Bellus', 'PetzoPet', 'Bellemes', 'PfC Cosmetics', 'Belleka', 'Bijoux', 'K9 GRANOLA', 'Bilka', 'Belle of Hope', 'Belle en Argent', 'MUA LUXE', 'Belle Beauty', 'Bgsbjl', 'Nature by Canus', 'FANYITY', \"Nature's Finds\", 'H&B Oils Center Co.', 'Youthful Essentials', 'MUZIWIG', 'Géneric', 'MUU', \"Nature's Craft Org\", 'Perwoll', 'Bfdbngf', 'Beth Minardi', 'KCMShop', 'Beth Bender Beauty', 'TCYIN', 'Personal Care Prod', 'TCMY', 'Gállány Cosmetics', 'Perilynnc', 'F Fityle', 'FACE Stockholm', 'Betued', 'Townley', 'Sigil Scent', 'MUMAZYL', 'MUMAIS', 'Silicon Mix', 'Pet Supplies Online', 'Youlief', 'Beyond', 'GÃt2b', 'Towsnails', 'Bergottie', 'Bezall', 'Siang Pure Oil', 'Bio Complex', 'T.One', 'Natural Essentials', 'FCT Bundles', 'Ewantgo', 'Black Menba', 'Bebe prince', 'Guinot', 'Peivob', 'MS MS GLAMOUR', 'HABA', 'KITTEE LASH', 'TAHNYC', 'Black Canyon Home and Body', 'KISSNICOR', 'Bee Bella', 'Ma Provence', 'TABINO YADO', 'Veria ID', 'Black Series', 'SC Johnson', 'Morphe 8S', 'ZCL', \"Pecksniff's Hand Wash 2 pack - Ginger Flower & Patchouli\", 'Totoci', 'T.S. Pink', 'Gudetama', 'Total Manicure', 'BeautyFit', 'Natura do Brazil', 'NayJor Beauty', 'Yiwan', 'Peakright', 'BlinkingNails', 'MZCMSL', 'TALISMAN4U', 'MYQIPGD', 'MYVIDAPURE', 'Yutou', 'K', 'MSSD', 'KIMUWHI', 'Guoxiaoniu', 'Bella Bosio', 'BioAroma', \"Penhaligon's Malabah Bath Oil 200ml/6.8oz\", 'KIKIYU', 'Yunsailing', 'Yunpo', 'Bio-Oil', 'K-Beauty', 'Pharmaceutical Specialties', 'Biography', 'Natural Value', 'Phi Naturals', 'MZ Makeup', 'Ext Meyya', 'Phillips Brush', 'Peppercorn Kids', 'Natural Rose', 'Z Palette', 'Philosophy', 'YogaColors', 'Bioworld', 'ZAHRA BEAUTY', 'ZAKIE', 'Beety Nicexx', 'Bioxtra', 'Exportmart', 'Botanics by Boots', 'ZOTOYI', \"BaoTe'\", 'Keshet Accessories', 'Suprwin', 'CAREFREE', 'CARE', 'Precision Beauty', 'SEVENHOPE', 'Zerenfy', 'FYLuoke', 'BLUE ELF', 'CANNABIOLOGY', 'Malabrigo', 'FVLFIL Ecco Bella Beauty', 'CAMI', 'Seascape Island Apothecary', 'CAMAQUI', 'SEXUAL FEMME', 'Jatai', 'Seasky', 'Key Brands', 'Mr Bear Family', 'Preferred Stock', 'PUNARA', 'PUMA', 'Keyano', 'New Feet', 'Prell', 'BIZAR', 'Entity', 'PUCCINI PARIS', 'CC Goods', 'YOUSIKE - Hair Rope', 'BIOTICS', 'Episencial', 'Nail Polish & Soak Off Gel Essie Nail Polish A444', 'Enlite Flawless Body', 'Bzybel', 'FURIOUS', 'Poshe', 'C CAOLION NATURE POEM', 'Posey', 'Zeeta', 'BÃ¼bchen', 'Kendall/Covidien', 'PURE PLANT HOME', 'SEUAOPS', 'Shofars From Afar', 'BONNIE', 'ZeeDa', 'Jeffrey James Botanicals', 'Zeafbaper', 'BODYHOLIC', \"Grandpa's\", 'BODY', 'Positive Costume', 'BODE products', 'Nail Polish & Soak Off Gel Essie Nail Polish A484', 'BOBOS Remi', 'TKB Trading, LLC', 'Jeash', 'VJU International', 'Making Believe', 'C. S.\\xa0Osborne & Co.', 'BNG Enterprises', 'Equal', 'BMKKOT', 'SVINZ', 'Sinfulshine', 'VIPPER', 'BIOLOGIQUE RECHERCHE', 'FUNFLOWERS', 'VIAVI', 'Nail Essentials', 'King Products', 'PRO', 'Nail Polish & Soak Off Gel Essie Nail Polish A227', 'Famous Outlaws', 'CHENICE', 'BETEZU', 'Fairytale Bridal Tiara', 'King Horse', 'Zingari Man', 'Villini', 'Zimmer Innovations', 'Gou Gou Pets', 'CHAUGAN', 'PRMIT Beauty', 'SuperPro', 'CHERRY BABY', 'Trivellato Dermocosmetics', 'BEQUEEN', 'SHAINDEE WIGS', 'Fancyin', 'Mrs. Brog', 'MILENSEA', 'Jacadi', 'Kingman', 'MILATTE', 'Kini Bands', 'Kinsman', 'TOOCHUNAG', 'JUVITUS', 'TOOVREN', 'Jacques Fath', 'NewLife', 'PSODEX', 'YOUDO', 'PS', 'Endocare', 'Nail Polish & Soak Off Gel Essie Nail Polish A299', 'CEDLIZE', 'Nail Polish & Soak Off Gel Essie Nail Polish A302', 'Viktor Rolf Salty Flower', 'Zhangjiang', 'CHARM ONLINE', 'Janson Beckett', 'CCW Distributors', 'Sip Soap Co', 'Kiara Sky Professional Nails', 'Nail Polish & Soak Off Gel Essie Nail Polish A319', 'YOUFA', 'Emsa Distributors', 'SUYEPER', 'Faconnable', \"VIKING KING BEARD CO. EST 'TWENTY O.C. CALIFORNIA\", 'CHAD & CO. SALON', 'CHAFIN', 'Mandarina Duck', 'MING DYNASTY', 'VIGOUR', 'PRONTOINDIA SEEK IT GET IT', 'Prep U ;', 'Emosa', 'Superbalanced Silk', 'Nail Polish & Soak Off Gel Essie Nail Polish A259', 'TOMENGBEI l', 'NewJourney', 'Ziermo', 'FUNORNAM', 'VO5', 'Vagisil', 'Back to Basics', 'Yalu&Freedom rfvgd', 'HARBOR Srl', 'Brilena', 'Essensa', 'Jo Jo', 'Back Country Naturals', 'Badan Body', 'Bren', 'YangYang', 'Greenery', 'Panos', 'ZUNKOM', 'Karina Skin Care', 'ZUDULUTU', 'FOUND FIRMING', 'Essence Of Jerusalem', 'SENGTERM', 'Mountain Ocean', 'Baby Chomsi', 'Green Tea Foam Cleansing', 'Vicenzi', 'THOUSAND Paper Cranes', 'Broadway Colors', 'Plum Island', 'HAWRYCH MD', 'Topkech', 'Majestic Athletic', 'SABBA', 'Bronx Colors Urban Cosmetics', 'Majirel', 'Major Pharmaceutical', 'Baishitop', 'Breakthrough', 'Vicious Teknology 4TopTime', \"Kanebo Coffret D'or\", 'Ban The Sun', 'THE TOOL LAB', 'BanaSpa.net', 'ZPHYF', 'Banana Costume', 'MNSL', 'Greenwich Bay Trading Co', 'Kari Gran', 'Bow Flip Flops', 'Para Mi Bebe', 'MoonshineStillPro', \"Boudreaux's Butt Paste\", 'Esthemax', 'Boticario Sleecom', 'Magnificent Hair Food #2 4 oz. (Pack of 2)', 'Estenna', 'Sweet Georgia Sugar', 'Bamboo Trading Company', 'ZQ-II', 'Balm Barr', 'Est Lau Cosmetics', 'BrassBells.Net', \"Joe's USA\", 'Joe Grooming', 'Greenscape Organic', 'Brave Soldier', 'Essiespa manicure', 'Yari', 'Jodiss', 'Moondust Boutik', \"Karen's Botanicals\", 'Pamina Hair', 'YaCaCia', 'SureWells', 'BROSWJUN', 'Jeris', 'Susanne Kaufmann', 'Victoria Vogue', 'Buouo', \"Jesse's Girl\", 'Jessica McClintock', 'BRS', 'Pain Relief', 'Great Chance', 'Pomonas', 'Great Deal Furniture', 'Paijoe', \"Kaycee's Cosmetics\", \"Kaycee's\", 'NetEra', 'Jennifer Ouellette', 'Zalmanov', 'Pacific Sun', \"Bvlga'ri\", 'Vidillo', 'Sinful Colors Nail Polish', 'Bwoogre', 'Grashine', 'Zapzyt', 'Jeju:en', 'Jeju', 'Graphico', 'GrapeZ', 'BOTANICAE MATIN A MOGADOR', 'Pop', 'Grandxii', 'Jesus del Pozo', 'Bull Frog', 'YZniasllue', 'SWERTY', 'Eseres', 'HB4U', 'Kathihon', 'Esfolio', 'Kate Aspen', 'Sina', 'S.he Makeup Bronzer', 'SERENUS', 'TIAODENG', 'Esie', 'Tressa', 'ZXWDDP', 'ZXTRESS', \"Moon's Harvest\", 'Poliga', 'GreekInternetMarket', 'Polish', 'SEPBRIDALS', 'S-SSOY', 'BULGILIA', 'BtlBee', 'Make Me A Diva', 'Buankoxy', 'Erzuli', 'Bubble & Charm', 'Nessy Designs', 'Triad Medical', 'Paisley Farm and Crafts', 'Buddy&Max Nicexx', 'Bueart Design', 'BTBGYP', 'impact your life. your world.', 'Persephone Lace Wig', 'Urban Care', 'G-Hair', 'LeGrande Francisco', 'shuangya hair', 'LeMarnia', 'Lea Black Beauty Sudden Youth Lift Complete Facial Treatment', 'ROWNYEON', 'UiiWout gfsdg', 'Wet n Wild-', 'Spa Nouveau', 'HongH', 'OSORD MadayFormula', 'AQUTOP', 'sivanna', 'Wet n Wild ARBrend', 'LuckyShe', 'Lucky-M', 'SOPHIE & LORI', 'GA-DE', 'skybottle', 'Lee', 'Soyond', 'Honey Belle', 'Uevo', \"Wet N' Wild ARBrend\", 'GALAWAY-US', 'Geameon', 'Sappo Hill', 'Snooki', 'Honbeanify pC', 'APIANA', 'Hongo', 'G-EASY', 'Miche', 'G-Ahora', 'OUTLETNY', 'OULII', 'LavoSana', 'Harlem 125', 'Harley Quinn', 'Fxxxli', 'ASHEPANX', 'Nunubee', 'SOOMIAN', 'Layashow', 'Qraa', \"DR. SHEN'S\", 'Rinovill', 'Sephora Becca Hourglass Milk Smashbox Too Faced Tarte', 'Le Dore Beauty', 'ROSKY', 'NBSail', 'senlinlv', 'Hope Gillerman Organics', 'Spa Ultimate', 'Féret Parfumeur', 'DR.REXY', 'Für Boy', 'SOPEWOD', 'Dry Goods - Athletic Spray Powder', 'ARRVEE', 'Luduna', 'AROMATICA', 'Hooin', 'Honbeanify GHXC', 'Saqico', 'so easy', 'Luck', 'ANNE SIDAMONI SKINCARE', 'Les Parfums De Rosine', 'Nutraplus', 'Dream World Inc', 'ANMAR', 'Home and Body Company', 'Dream Tan', 'SouRose Natural', 'ANKHA', 'Wesface', 'GEEHOLD', 'SOSILK', 'OREZI', 'The Face Shop', 'UTOPB', 'UTLA', 'ANDREA ORSI', 'RXBC2011', 'U.S. Apothecary Elderflower & Vetiver', 'ORANGE STAR', 'The Goddess Line', 'Garnier Fructis', 'Hollister', 'GENNYUE', 'AMYAN', 'David Beckham', 'David Douglas Skin Care', 'GENRICE', 'teko', 'Homegifts', 'Les Merveilleuses De Laduree', 'Wet', 'STONEFANS', 'sogoog', 'Daily Essence', 'Lucir', 'Myaokue-up', 'DailySche', 'RUCHULOVE', 'Mirror', 'Scent Bar', 'GBF', 'Harvest Sun', 'Snotra', 'Sara ABT', 'AOCOCO', 'RichCoco', 'Mikayoo', \"NATURE'S THERAPY\", 'Nutiva', 'GC Nutrax', 'Theraplex', 'ANUA', 'spr', 'Gatsbylady london', 'ORS Black Olive Oil', 'Snow Lotus', 'HomeoPet', 'Ribest', 'Wet & Wild', 'Snowflake Designs', 'Miche Bloomin', 'Michambé', 'AMOS', 'Scentuals', 'Abijale', 'Humble Brush', 'Abgream', 'Dynamic', 'RIVAGE', 'Terrajuve', 'This is Feel', 'Wild Harvest', 'Abbey Monk', 'Full Circle Home', 'DETALLAN', 'Lury', 'Huile de niche', 'Ocean Blue Co', 'Lurella', 'Fun Express:Co-t', 'SOL Sunguard', 'Huckstraps', 'Sans Pareil Naturals', 'opphome', 'Smoosky', 'Thanmelin', 'Lanbter', 'Nugilla', 'Nuluxglovite', 'The Afro Hair & Skin Co.', 'DINGJIN', 'AXKS', 'FunSponsor', 'NEQUIO Kacul', 'Lakmus Pro', 'Wheatear', 'Serpentspiral', 'Acriflex', 'E. FOUGERANUATE', 'Frola', 'Rocco Barocco', 'Thisworks', 'Oh! Organics', 'Nuchasha', 'Spoiled', 'Acionna', 'DEARANCHY HYPOALLERGENIC DERMACOSMETICS', 'Smiley', 'DEB', 'Nude & Noir', 'Roberts', 'E N V I X', 'Dänä', 'SmoRodina Cosmetics', 'Spirit', 'Happy Dueks', 'Fruitful Vine LLC Clean Fresh Ideal Products', 'Laiyiyuan', 'AccessCube', 'Hummer', 'Lakerol', 'Academie', 'My Soigne', 'Absorbase', 'DELE', 'Absolute Organic', 'Number 4', 'Lange', 'Funck', 'Wig Aisle', 'House of Armáf', 'WINIAER', 'MichPong', 'WINIBULA', 'DND JEMSLY', 'WINKC', 'MyGroomingSupplies', 'Laube', 'DNJKSA', 'Laura Lee Los Angeles', 'DNMFB', 'MyHealth', 'Luminance Skincare', 'WINNING', 'Hotoyannia', 'Lumei', 'Harbor', 'DOMESTIQUE', 'ATD (Advanced Tool Design)', 'SpaghettiHeadz', 'ROOTS AROMATHERAPY ESSENTIAL OILS CALMING EUCALYPTUS SOOTHING SPEARMINT', 'DONFMIN', 'NCLA BEAUTY', 'regis designline', 'DONGXIUB', 'OVCOS', 'ROPALIA', 'Lavanila', 'Harewom', 'Lumini', 'Rituel de Fille', 'OWN', 'ROLECOS', 'Special Moments LLC', 'AVYO', 'Lungwell', 'ROESIA Rose cosmetics', 'DIRTYBIRD ENERGY', 'DIVA QUEEN', 'Wholly Kaw', 'Sparta The Power of Beauty', 'Mibeauty', 'Luminira', 'Wholesome Rock', 'Sanyar luxury hair care', 'AVENA KINESIA', 'Wholesale Fashion Necklace', 'Harajuku Lovers', 'Whole Foods Market', 'AVANI Supreme', 'DJDL', 'ROLINDA', 'WIN NICE', 'MicaBeauty', 'Numbereight8', 'Haquno', 'Household 5 Soap Company', \"Lassie'el\", 'puhoon', 'Gemei Hair', 'OWNHEALER', 'AMOTAOS', 'AMOREPACIFIC HERA', 'Schampa', 'Soapbox Fox', 'ABBA OIL LTD', 'ABBA ANOINTING OIL', 'Minenssey', 'AAPIKA', 'Lora Edwards', 'N-Joy for you', 'Dr Cool', 'Liquid Rubber', 'OKA', 'Waterbabies', 'Solante', 'Lisap Milano', 'Dewytree', 'Mineraline', 'A.T. Cross', 'A.O.R Advanced Orthomolecular Research', 'Healthy Supplements', 'Dgerp fdas', 'Di Palomo', 'Lite skin 3000', 'Rebalance Essentials', 'Little Journey', 'Lonnie Life', 'Di Palomo Black Cherry', 'Downy', 'A+D', 'Rebixron', 'A&D', 'Dove go', 'Savears', 'STAUB', 'AEO', 'Soapbox', 'Lorenzo', 'ADRIENNE VITTADINI', 'Dermagevity', 'OLIVELIA', 'Retinol by Robanda', 'Dr. Collins', 'The New Jerusalem', 'Dermedic', 'ADERMA', 'SPICEBOMB', 'Savon de Marseille', 'Loreal Paris', 'Dr. Benjamin EM Soap', 'SPINSTER SISTERS CO', 'ACWELL', 'Dermol 500', 'The Original Lumberjack', 'youlief', 'WQLYK', 'Lip Lites', 'STCMYXGS', 'youngluchi', 'Design Lengths', 'GOLDERR EaseBreath', 'ACARE/阿嚓热', 'Sashay Away', 'UNT', 'GOODAL MadayFormula', 'Desigual', 'Diadermine', 'GOURMET+skin', 'Diamond Collection', 'Hearnfox', \"O'lysee\", 'SRSHERO', 'Крупный план', 'Diwlolido', '321OU', 'London SOHO New York', 'Lnoicy', 'Docer', 'GREENBRIAR INTERNATIONAL, INC', 'Refresh by Re:NK', 'Dodo Juice', '1home', 'Doodlebellies', '1FLR', 'Regina Floris', 'The Vintage Cosmetic Company', 'Regincos', 'Lock Stock & Barrel', 'WYLIMG', 'Donna Bella', 'GRINIF', 'WUSHU', 'OC Eight', '1 eye products', 'Logistt', 'DomKim', 'GROOMIX', 'Mirabilia', 'The Well Groomed Guy', 'The Somerset Toiletry Company', 'Liz Earle', 'GRANNIE SMITH ORGANIX ESTABLISHED 2015 GLASGOW, OREGON', 'UNICORN GLOW', 'UNITE', 'Diamond Lash', 'Repechage', 'zikria', 'Herbalife Nutrition', 'GTechnologies', 'Soaplicity', '9wishes', 'GTIKTCOM', 'LiumiKK', 'Red Carpet Studios', '8eighteen Fashion Cosplay', 'GPU', 'DoubleChin', 'Henkel Company', 'SPOR', 'MiniTissue', 'Double Dare', 'Dosis Fragrances', \"O'Keeffe's\", 'Miracle 7', 'Henwei', 'Satin Foot', 'Remède', 'Minions', 'The Soap Factory', '50 Cent', 'Disney Frozen', 'Solo Brush', 'SPAtopia London Argan Oil Body Scrub', 'NutriBeam', 'Dr. Wades Organics', 'GILDEN TREE', 'Health & Beauty Natural Oils', 'NAMU LIFE', 'Ralph Lauren', 'Ramina', 'ALINCAS', 'uKARA', 'SarahEShop', 'Gaiatop', 'ubdyo', 'Love My Face', 'Ranana', 'uhsupply.com', 'Hiliss', 'Hildegard Braukmann', 'unbrand', 'Dr. Spiller', 'Sooeum', 'Love Labs Organics', 'NAKALAKA', 'Dr. Reckeweg', 'ALEKO', 'Life Spirit Organic Soaps', 'ALDIS', 'Degree33', 'Milk & Honey', 'Deity', 'Revillon', 'Revicare beauty', 'Dr. Theiss Naturwaren', 'So Naughty Nude', 'AER', 'Deck of Scarlet', 'Day In Day Out', 'He Wood', 'tgin', 'AMETHYSTE', 'AMERIDERM LABORATORIES', 'AMERICAN FUR', 'Dazzfond', 'Hive', 'Wellements', 'Garb2ART', 'De vergulde Hand', 'DeBizz', 'DeELF', 'Lovell', 'Soothing Waters Spa', 'Nutrine', 'Dead Sea Origins', 'Ganves', 'WONDERTIFY', 'ALYSSA ASHLEY', 'Dear & Derm', 'ALYAHT', 'tongniu7', 'Mile High Online', \"ALRIYAN'S\", 'Deb Stoko', 'Miracle Revival Mud Treatment Mask', 'Hippie Butter', 'NANA Jewels', 'ONIE', 'NAGARJUNA', 'AKFD GOODS', 'Soap Alchemy', 'Revel', \"Lily's Home\", 'Lotus Aroma', 'OMNIHIL', 'Somerset Toiletries', 'Somang', 'Wedding Hair Accessories-Sindary Jewelry', 'GMBSHairNUATE', 'AGREATLIFE', 'Soap and Paper Factory', 'Weber', 'Lotil', 'SoapRocks', 'GZIRUE', 'Linetti', 'Ling Xiu', 'womans', 'Weave Aide', 'The MarbleMed Incorporated', 'Heynature', 'AFM Safecoat', 'AFM SafeCoat', 'Dermablossom', 'Link Sudantha', 'Lorenzo Villoresi', 'Nyvonne Cosmetics', 'AESTHING', 'N DEVELOPED BY NEOGENLAB', 'Re Vive', 'Lily Of The Desert', 'AIEBAO', 'The Little Wing Trading Co Ltd', 'vitrebond', 'ONEOSEVEN', 'GLAMPAQ', 'AJMAL EVOKE', 'Raquel Welch and Maxwigs', 'Rare Beauty', \"Dr. O'Duinn's\", 'Delivery', 'AIUONXILIOP covus', 'Rare Ivy', 'Rashell', 'Lifetherapy', 'Delray Beach', 'ONEFACE', 'URB Apothecary', \"Millennium Mom's\", \"Gabor & Christy's Wigs\", 'ON', 'Demissle', 'Songqee', 'vs pink collection', 'Hierbas de Ibiza', 'Lotus Moon', 'Gabi Girls', 'warmsport', 'GLOWIVA', 'Denero Home', 'URANG', 'Hickoryville', 'Lady Corner', 'Snail', 'LOL Surprises', 'ILGANT', 'Coralite Home Essentials', 'WESTMAN ATELIER', 'Rolland', 'Sterly', 'mollys products', 'Stesti Online', 'le COUVENT des MINIMES', 'Wolltex', 'Nova Companies', 'LUOWAN', 'Rocutus', 'Franck Boclet', 'La Riche', 'Nu-Health', 'Affirm', 'Afnan', 'ILTUY', 'African Botanics', 'ECODERMA', 'HairGia', 'IKEA', 'Creightons', 'loevcc', 'SmartFX', 'ECOCOCO', 'Aloe Vesta', 'Afri-Naptural', 'Ollacy', 'Noreva', 'juDanzy', 'Select', 'MADELLENA', 'Omall OdiySurveil', 'La Soie', 'Craebuer', 'Luxe by Mr. Bubble', 'Omega', 'Que Bella PRO', 'Corn Huskers', 'D.S. & Durga', 'IMEISH', 'Starpil', 'jubigance', 'Starlooks', 'Quorum', 'Untangled', 'ELAINE', 'Smart Shield', 'Selena Gomez', 'Winssi', 'LUNA by LUNA', 'Mennen', 'Akim', 'ILory', 'Nothers', \"D'CINQUE\", 'AloePothic', 'Spring heart', 'MustaeV', 'I Love Pinch', 'Rom&nd', 'I Love Cosmetics', 'Lynne Leea', 'Rockface', 'lacsian', 'Ombre brazilian loose wave bundles', 'Ala Rose', 'LOCOLO', 'Two Sisters Spa', 'WolfMoon Bostanicals', 'LUXBLINGZ', \"Gentleman's Foundry\", 'itemmall', 'Aiernuo', 'St Justin', 'RBC Life Sciences', 'SNOBGIRLS', 'EMJOI', 'Merssavo', 'ForMySelf', 'Genuve Skin', 'Mesfugw', 'melody wig', 'Luxy Bio', 'Miss Pink USA', 'IDC', 'EDIJIN', 'Wizarding World of Harry Potter', 'jingewell', 'ICONIC LONDON', 'Worthy Promo', 'EDOOK', 'Coolcos', 'Tengs', 'Curl-ease', 'Alluricare', 'Fremont Die', 'Sruples', 'Curativa Bay Skin Beautiful', 'Coop+Daisy', 'Tengda', 'itcsmtc', 'French Kiss Cosmetics', 'IOU', 'Wishzcm', 'La Bella Provincia', 'Halston Z-14', 'Alo After Tanm', 'LVMAOZI', 'Meiyuan', 'Cyclax', 'Sta-Rite', 'modeo', 'Cristophe Professional', 'QualiToys', 'Ageless Skin', 'IETANG', 'Terasana', 'EHB Party Favors', 'Luxo Banho', 'WolfGo', 'WEWEW', 'model model cuticle remy', 'MAC Northern Crown Cosmetics', 'I.N.C. International Concepts', 'Afropick', 'LvDD', 'RED DEER', 'Cyanee', 'Novais Cosmetics', 'EGHOME', 'Olivella', 'manipepe', 'Haloh Soaps', 'j-lash', 'LOHACELL', 'Cuwada', 'Oliva', 'Halovin', 'Alopefac', 'Roja', 'I', 'WELdental', 'Steenbergs', 'EASYSPA', 'Alighiero Campostrini', 'Adolfo Dominguez', 'WHP Be gone', 'M*A*D Minerals', 'Windsor Direct', 'Metuu', 'M Bridal', 'Alpha-H', 'M BY MARIAH CAREY', 'DANHAN', 'k-SHION', 'Adox', 'ELENI&CHRIS', 'WIGGRAM', 'Rooicell Control', 'Ali Hairs', 'Upsmile', 'Tyler Candle', 'NICENEEDED', 'Melvita', 'Alfred Publishing', 'Cosmetics Worldwide, Inc', 'Stem Organics', 'Alirina', 'Meloso', 'Oilily', 'Nuance', 'Adellina', 'Stella & Dustin', 'FrezyDerm', 'NIG CUTE HAIR', 'Winback', 'NITION', 'Mello Smello', 'SOAPOILS PERFECT COMBINATION', \"M&M's\", 'Muzi', 'One Over One', 'Adiosa Nicexx', 'M&T HEALTH EaseBreath', 'Cosmetics by Covergirl', 'NEW SPA Collagen Masks', 'HairBow Center LLC', 'Genki', 'One Love Organics', 'Taycent', 'Terme', 'MisterWand', 'Seifen Fantasie', 'Hxrmve', 'Alisena', 'Labs', 'Woocon', 'Adv-one', 'Missvig', 'Omodofo', 'M. greengrass', 'WooMeWooU', 'DC Comics', 'Formula 409', 'Smart Cosmetics', 'Luxe Cake', 'Huryfox', 'LSKeenon', 'Mxue', \"Steuart's Natural Health\", 'Cosmetics N.X', 'Alpha Hydrox', 'Memebox', 'Smackers', 'Northport Naturals', 'Queen Hair', 'Starway', 'Connector Adaptor', 'Aedes De Venustas', 'DC', 'Adysi', 'Alpha Tools', 'Shake-N-Go', 'Hanyan', 'justneem', 'Albane Noble', 'Adventure Medical Kits', 'NuFountain', 'Albatros', 'Complex cream bandage \"Hyaluronic threads 4D effect\" for face, neck and décolleté 45+', 'Woochie', 'On Trend', 'Stay-Matte', 'EBHDS', 'karma organic']\n"
     ]
    }
   ],
   "source": [
    "df_br5 = df_br[df_br['mean_rating'] == 5.0]  #only take the ones with the highest mean_rating of 5.0\n",
    "\n",
    "#list conversion\n",
    "lista_brand  = df_br5['brand'].values.tolist()\n",
    "print(lista_brand)\n",
    "#list of all brands with average rating of 5.0"
   ]
  },
  {
   "cell_type": "code",
   "execution_count": 83,
   "metadata": {},
   "outputs": [
    {
     "data": {
      "text/plain": [
       "0              Bellisima\n",
       "1              JELLY PET\n",
       "2       Aurora Cosmetics\n",
       "3              Rucci Inc\n",
       "4                 MEIUGV\n",
       "              ...       \n",
       "1879             Woochie\n",
       "1880            On Trend\n",
       "1881          Stay-Matte\n",
       "1882               EBHDS\n",
       "1883       karma organic\n",
       "Name: brand, Length: 1884, dtype: object"
      ]
     },
     "execution_count": 83,
     "metadata": {},
     "output_type": "execute_result"
    }
   ],
   "source": [
    "df_br5['brand']"
   ]
  },
  {
   "cell_type": "markdown",
   "metadata": {
    "jp-MarkdownHeadingCollapsed": true
   },
   "source": [
    "## Which products have the highest average rating? List the top 50. Use products with number of rating greater than 1000.\n",
    "\n",
    "To define product: the title will be used as the indicator of a product.\n",
    "\n",
    "we have to groupby title and average_rating"
   ]
  },
  {
   "cell_type": "code",
   "execution_count": 65,
   "metadata": {},
   "outputs": [],
   "source": [
    "#better understanding of groupby - source: https://data36.com/pandas-tutorial-2-aggregation-and-grouping/"
   ]
  },
  {
   "cell_type": "code",
   "execution_count": 219,
   "metadata": {},
   "outputs": [],
   "source": [
    "dfpd = df[df[\"rating_number\"] > 1000] #select only the products with number of rating greater than 1000."
   ]
  },
  {
   "cell_type": "code",
   "execution_count": 253,
   "metadata": {},
   "outputs": [
    {
     "data": {
      "text/html": [
       "<div>\n",
       "<style scoped>\n",
       "    .dataframe tbody tr th:only-of-type {\n",
       "        vertical-align: middle;\n",
       "    }\n",
       "\n",
       "    .dataframe tbody tr th {\n",
       "        vertical-align: top;\n",
       "    }\n",
       "\n",
       "    .dataframe thead th {\n",
       "        text-align: right;\n",
       "    }\n",
       "</style>\n",
       "<table border=\"1\" class=\"dataframe\">\n",
       "  <thead>\n",
       "    <tr style=\"text-align: right;\">\n",
       "      <th></th>\n",
       "      <th>title</th>\n",
       "      <th>average_rating</th>\n",
       "      <th>rating_number</th>\n",
       "      <th>features</th>\n",
       "      <th>description</th>\n",
       "      <th>images</th>\n",
       "      <th>store</th>\n",
       "      <th>details</th>\n",
       "      <th>len_title</th>\n",
       "    </tr>\n",
       "  </thead>\n",
       "  <tbody>\n",
       "    <tr>\n",
       "      <th>63448</th>\n",
       "      <td>100 Letterpress Note Cards and Self Seal Envel...</td>\n",
       "      <td>4.9</td>\n",
       "      <td>2322</td>\n",
       "      <td>[SELF SEAL ENVELOPES: Perfect for bulk mailing...</td>\n",
       "      <td>[Luxury Note Cards at an Affordable Price, Sho...</td>\n",
       "      <td>[{'thumb': 'https://m.media-amazon.com/images/...</td>\n",
       "      <td>Opie's Paper Co.</td>\n",
       "      <td>{'Is Discontinued By Manufacturer': 'No', 'Pro...</td>\n",
       "      <td>51</td>\n",
       "    </tr>\n",
       "    <tr>\n",
       "      <th>33374</th>\n",
       "      <td>Corn Huskers Lotion 7 oz ( Pack of 4)</td>\n",
       "      <td>4.9</td>\n",
       "      <td>1027</td>\n",
       "      <td>[Moisturizes and softens dry skin, Soothes irr...</td>\n",
       "      <td>[4 Bottles of CORN HUSKERS LOTION 7 oz   OIL F...</td>\n",
       "      <td>[{'thumb': 'https://m.media-amazon.com/images/...</td>\n",
       "      <td>Johnson &amp; Johnson</td>\n",
       "      <td>{'Brand': 'Johnson &amp; Johnson', 'Item Form': 'L...</td>\n",
       "      <td>51</td>\n",
       "    </tr>\n",
       "    <tr>\n",
       "      <th>95465</th>\n",
       "      <td>Graham Sanek Neck Strips- 2.5 x 17.5-12 pks w/...</td>\n",
       "      <td>4.8</td>\n",
       "      <td>1662</td>\n",
       "      <td>[Made of a soft, highly absorbent tissue, Neck...</td>\n",
       "      <td>[Graham Sanek Neck Strips 720 Strips/ pk]</td>\n",
       "      <td>[{'thumb': 'https://m.media-amazon.com/images/...</td>\n",
       "      <td>Graham Professional</td>\n",
       "      <td>{'Is Discontinued By Manufacturer': 'No', 'Pac...</td>\n",
       "      <td>51</td>\n",
       "    </tr>\n",
       "    <tr>\n",
       "      <th>76279</th>\n",
       "      <td>Tigi Bed Head Manipulator 2oz (3 PACK)</td>\n",
       "      <td>4.8</td>\n",
       "      <td>1260</td>\n",
       "      <td>[tigi]</td>\n",
       "      <td>[]</td>\n",
       "      <td>[{'thumb': 'https://m.media-amazon.com/images/...</td>\n",
       "      <td>TIGI</td>\n",
       "      <td>{'Product Benefits': 'Frizz Control', 'Hair Ty...</td>\n",
       "      <td>51</td>\n",
       "    </tr>\n",
       "    <tr>\n",
       "      <th>93953</th>\n",
       "      <td>1\" Metallic Red, Silver &amp; Blue Stars Shape Foi...</td>\n",
       "      <td>4.8</td>\n",
       "      <td>12203</td>\n",
       "      <td>[]</td>\n",
       "      <td>[ASIN020]</td>\n",
       "      <td>[{'thumb': 'https://m.media-amazon.com/images/...</td>\n",
       "      <td>Garage Sale Pup</td>\n",
       "      <td>{'Color': 'Asin020', 'Size': 'ASIN020', 'Brand...</td>\n",
       "      <td>51</td>\n",
       "    </tr>\n",
       "  </tbody>\n",
       "</table>\n",
       "</div>"
      ],
      "text/plain": [
       "                                                   title  average_rating  \\\n",
       "63448  100 Letterpress Note Cards and Self Seal Envel...             4.9   \n",
       "33374              Corn Huskers Lotion 7 oz ( Pack of 4)             4.9   \n",
       "95465  Graham Sanek Neck Strips- 2.5 x 17.5-12 pks w/...             4.8   \n",
       "76279             Tigi Bed Head Manipulator 2oz (3 PACK)             4.8   \n",
       "93953  1\" Metallic Red, Silver & Blue Stars Shape Foi...             4.8   \n",
       "\n",
       "       rating_number                                           features  \\\n",
       "63448           2322  [SELF SEAL ENVELOPES: Perfect for bulk mailing...   \n",
       "33374           1027  [Moisturizes and softens dry skin, Soothes irr...   \n",
       "95465           1662  [Made of a soft, highly absorbent tissue, Neck...   \n",
       "76279           1260                                             [tigi]   \n",
       "93953          12203                                                 []   \n",
       "\n",
       "                                             description  \\\n",
       "63448  [Luxury Note Cards at an Affordable Price, Sho...   \n",
       "33374  [4 Bottles of CORN HUSKERS LOTION 7 oz   OIL F...   \n",
       "95465          [Graham Sanek Neck Strips 720 Strips/ pk]   \n",
       "76279                                                 []   \n",
       "93953                                          [ASIN020]   \n",
       "\n",
       "                                                  images                store  \\\n",
       "63448  [{'thumb': 'https://m.media-amazon.com/images/...     Opie's Paper Co.   \n",
       "33374  [{'thumb': 'https://m.media-amazon.com/images/...    Johnson & Johnson   \n",
       "95465  [{'thumb': 'https://m.media-amazon.com/images/...  Graham Professional   \n",
       "76279  [{'thumb': 'https://m.media-amazon.com/images/...                 TIGI   \n",
       "93953  [{'thumb': 'https://m.media-amazon.com/images/...      Garage Sale Pup   \n",
       "\n",
       "                                                 details  len_title  \n",
       "63448  {'Is Discontinued By Manufacturer': 'No', 'Pro...         51  \n",
       "33374  {'Brand': 'Johnson & Johnson', 'Item Form': 'L...         51  \n",
       "95465  {'Is Discontinued By Manufacturer': 'No', 'Pac...         51  \n",
       "76279  {'Product Benefits': 'Frizz Control', 'Hair Ty...         51  \n",
       "93953  {'Color': 'Asin020', 'Size': 'ASIN020', 'Brand...         51  "
      ]
     },
     "execution_count": 253,
     "metadata": {},
     "output_type": "execute_result"
    }
   ],
   "source": [
    "dfpd.sort_values('average_rating', ascending=False).head()"
   ]
  },
  {
   "cell_type": "code",
   "execution_count": 227,
   "metadata": {
    "scrolled": true
   },
   "outputs": [
    {
     "data": {
      "text/html": [
       "<div>\n",
       "<style scoped>\n",
       "    .dataframe tbody tr th:only-of-type {\n",
       "        vertical-align: middle;\n",
       "    }\n",
       "\n",
       "    .dataframe tbody tr th {\n",
       "        vertical-align: top;\n",
       "    }\n",
       "\n",
       "    .dataframe thead th {\n",
       "        text-align: right;\n",
       "    }\n",
       "</style>\n",
       "<table border=\"1\" class=\"dataframe\">\n",
       "  <thead>\n",
       "    <tr style=\"text-align: right;\">\n",
       "      <th></th>\n",
       "      <th>title</th>\n",
       "      <th>mean_rating</th>\n",
       "    </tr>\n",
       "  </thead>\n",
       "  <tbody>\n",
       "    <tr>\n",
       "      <th>0</th>\n",
       "      <td>Corn Huskers Lotion 7 oz ( Pack of 4)</td>\n",
       "      <td>4.9</td>\n",
       "    </tr>\n",
       "    <tr>\n",
       "      <th>1</th>\n",
       "      <td>100 Letterpress Note Cards and Self Seal Envel...</td>\n",
       "      <td>4.9</td>\n",
       "    </tr>\n",
       "    <tr>\n",
       "      <th>2</th>\n",
       "      <td>Pack of 2100 Colorful Dog Paw Print Stickers, ...</td>\n",
       "      <td>4.8</td>\n",
       "    </tr>\n",
       "    <tr>\n",
       "      <th>3</th>\n",
       "      <td>Broadway Vita-Lip Argan Oil Lip Gloss</td>\n",
       "      <td>4.8</td>\n",
       "    </tr>\n",
       "    <tr>\n",
       "      <th>4</th>\n",
       "      <td>3/4\" Bright Red Round Color Coding Circle Dot ...</td>\n",
       "      <td>4.8</td>\n",
       "    </tr>\n",
       "    <tr>\n",
       "      <th>5</th>\n",
       "      <td>Segbeauty empty bottle 290</td>\n",
       "      <td>4.8</td>\n",
       "    </tr>\n",
       "    <tr>\n",
       "      <th>6</th>\n",
       "      <td>Oral-B Pro-Health Comfort Plus Mint Floss, Min...</td>\n",
       "      <td>4.8</td>\n",
       "    </tr>\n",
       "    <tr>\n",
       "      <th>7</th>\n",
       "      <td>Secret Original Shower Fresh Scent Women's Inv...</td>\n",
       "      <td>4.8</td>\n",
       "    </tr>\n",
       "    <tr>\n",
       "      <th>8</th>\n",
       "      <td>4.5 Inch Hair Bows For Girls Grosgrain Ribbon ...</td>\n",
       "      <td>4.8</td>\n",
       "    </tr>\n",
       "    <tr>\n",
       "      <th>9</th>\n",
       "      <td>L7 MANNEQUIN Realistic Mannequin Head with Sho...</td>\n",
       "      <td>4.8</td>\n",
       "    </tr>\n",
       "    <tr>\n",
       "      <th>10</th>\n",
       "      <td>Tigi Bed Head Manipulator 2oz (3 PACK)</td>\n",
       "      <td>4.8</td>\n",
       "    </tr>\n",
       "    <tr>\n",
       "      <th>11</th>\n",
       "      <td>Pack of 1008 1\" Round Color Coding Circle Dot ...</td>\n",
       "      <td>4.8</td>\n",
       "    </tr>\n",
       "    <tr>\n",
       "      <th>12</th>\n",
       "      <td>Tigi Bedhead Hard Head Hairspray (6 Pack)</td>\n",
       "      <td>4.8</td>\n",
       "    </tr>\n",
       "    <tr>\n",
       "      <th>13</th>\n",
       "      <td>Pack of 1600 3/8 Inch Round Neon Color Coding ...</td>\n",
       "      <td>4.8</td>\n",
       "    </tr>\n",
       "    <tr>\n",
       "      <th>14</th>\n",
       "      <td>Aquaphor Healing Ointment - Moisturizing Skin ...</td>\n",
       "      <td>4.8</td>\n",
       "    </tr>\n",
       "    <tr>\n",
       "      <th>15</th>\n",
       "      <td>Garage Sale Pup Sonic bark deterrents 1.5\" Inc...</td>\n",
       "      <td>4.8</td>\n",
       "    </tr>\n",
       "    <tr>\n",
       "      <th>16</th>\n",
       "      <td>Pack of 4200 3/4\" Round Color Coding Circle Do...</td>\n",
       "      <td>4.8</td>\n",
       "    </tr>\n",
       "    <tr>\n",
       "      <th>17</th>\n",
       "      <td>Graham Sanek Neck Strips- 2.5 x 17.5-12 pks w/...</td>\n",
       "      <td>4.8</td>\n",
       "    </tr>\n",
       "    <tr>\n",
       "      <th>18</th>\n",
       "      <td>Balneol Hygienic Cleansing Lotion, 3 oz. (Pack...</td>\n",
       "      <td>4.8</td>\n",
       "    </tr>\n",
       "    <tr>\n",
       "      <th>19</th>\n",
       "      <td>Red Heart Shaped Sticker Labels, 1 1/4\" Diamet...</td>\n",
       "      <td>4.8</td>\n",
       "    </tr>\n",
       "    <tr>\n",
       "      <th>20</th>\n",
       "      <td>Vivaplex, 12, Clear, 2 oz Glass Bottles, with ...</td>\n",
       "      <td>4.8</td>\n",
       "    </tr>\n",
       "    <tr>\n",
       "      <th>21</th>\n",
       "      <td>Hello Natural Apple Flavor Kids Fluoride Free ...</td>\n",
       "      <td>4.8</td>\n",
       "    </tr>\n",
       "    <tr>\n",
       "      <th>22</th>\n",
       "      <td>Janeke Superbrush Brush (Green/Purple - 86SP22...</td>\n",
       "      <td>4.8</td>\n",
       "    </tr>\n",
       "    <tr>\n",
       "      <th>23</th>\n",
       "      <td>Hibiclens Antiseptic &amp; Antimicrobial Skin Clea...</td>\n",
       "      <td>4.8</td>\n",
       "    </tr>\n",
       "    <tr>\n",
       "      <th>24</th>\n",
       "      <td>Jack Black MP 10 Nourishing Oil, 2 Fl Oz</td>\n",
       "      <td>4.8</td>\n",
       "    </tr>\n",
       "    <tr>\n",
       "      <th>25</th>\n",
       "      <td>Picoway 20 Pack Mouse Ears Solid Black and Red...</td>\n",
       "      <td>4.8</td>\n",
       "    </tr>\n",
       "    <tr>\n",
       "      <th>26</th>\n",
       "      <td>Hibiclens Surgical Scrub 32 oz. Bottle (#57532...</td>\n",
       "      <td>4.8</td>\n",
       "    </tr>\n",
       "    <tr>\n",
       "      <th>27</th>\n",
       "      <td>Self Adhesive Tape - Yuelong 24Pack 2” x 5 Yar...</td>\n",
       "      <td>4.8</td>\n",
       "    </tr>\n",
       "    <tr>\n",
       "      <th>28</th>\n",
       "      <td>Gauge Gear Ear Stretching Balm | 10 ml Jar | P...</td>\n",
       "      <td>4.8</td>\n",
       "    </tr>\n",
       "    <tr>\n",
       "      <th>29</th>\n",
       "      <td>Purpose Gentle Cleansing Wash, 6 oz (Pack of 2)</td>\n",
       "      <td>4.8</td>\n",
       "    </tr>\n",
       "    <tr>\n",
       "      <th>30</th>\n",
       "      <td>1\" Metallic Red, Silver &amp; Blue Stars Shape Foi...</td>\n",
       "      <td>4.8</td>\n",
       "    </tr>\n",
       "    <tr>\n",
       "      <th>31</th>\n",
       "      <td>NEWTGAN 20 PCS Mouse Ears for Birthday Party T...</td>\n",
       "      <td>4.8</td>\n",
       "    </tr>\n",
       "    <tr>\n",
       "      <th>32</th>\n",
       "      <td>1.5\" Inch Round Kraft, Baked with Love, Sticke...</td>\n",
       "      <td>4.8</td>\n",
       "    </tr>\n",
       "    <tr>\n",
       "      <th>33</th>\n",
       "      <td>Clinique Dramatically Different Moisturizing L...</td>\n",
       "      <td>4.8</td>\n",
       "    </tr>\n",
       "    <tr>\n",
       "      <th>34</th>\n",
       "      <td>Cerave Moisturizing Cream With Pump For Normal...</td>\n",
       "      <td>4.8</td>\n",
       "    </tr>\n",
       "    <tr>\n",
       "      <th>35</th>\n",
       "      <td>1.5\" Heart Shape Kraft Paper Thank You Adhesiv...</td>\n",
       "      <td>4.8</td>\n",
       "    </tr>\n",
       "    <tr>\n",
       "      <th>36</th>\n",
       "      <td>1.25 Inch Round Thank You Labels with Heart, K...</td>\n",
       "      <td>4.8</td>\n",
       "    </tr>\n",
       "    <tr>\n",
       "      <th>37</th>\n",
       "      <td>1 Inch Round Thank You Sticker Labels with Red...</td>\n",
       "      <td>4.8</td>\n",
       "    </tr>\n",
       "    <tr>\n",
       "      <th>38</th>\n",
       "      <td>1 Inch Round Thank You Sticker Labels in Scrip...</td>\n",
       "      <td>4.8</td>\n",
       "    </tr>\n",
       "    <tr>\n",
       "      <th>39</th>\n",
       "      <td>2-1/4\" x 1-1/4\" Chalkboard Black Paper Label S...</td>\n",
       "      <td>4.8</td>\n",
       "    </tr>\n",
       "    <tr>\n",
       "      <th>40</th>\n",
       "      <td>Soft &amp; Dri, Aerosol, Antiperspirant Deodorant,...</td>\n",
       "      <td>4.8</td>\n",
       "    </tr>\n",
       "    <tr>\n",
       "      <th>41</th>\n",
       "      <td>1 Inch Round Thank You Sticker Labels in Scrip...</td>\n",
       "      <td>4.8</td>\n",
       "    </tr>\n",
       "    <tr>\n",
       "      <th>42</th>\n",
       "      <td>Rohto SKIN AQUA UV Super Moisture Gel 110g SPF...</td>\n",
       "      <td>4.7</td>\n",
       "    </tr>\n",
       "    <tr>\n",
       "      <th>43</th>\n",
       "      <td>Hairspray (Two-Disc Shake &amp; Shimmy Edition)</td>\n",
       "      <td>4.7</td>\n",
       "    </tr>\n",
       "    <tr>\n",
       "      <th>44</th>\n",
       "      <td>Hair Weave Needle and Thread Kit, 2 Black Weav...</td>\n",
       "      <td>4.7</td>\n",
       "    </tr>\n",
       "    <tr>\n",
       "      <th>45</th>\n",
       "      <td>SAUCE BEAUTY Guacamole Whip Hair Mask - Deep C...</td>\n",
       "      <td>4.7</td>\n",
       "    </tr>\n",
       "    <tr>\n",
       "      <th>46</th>\n",
       "      <td>Rose Quartz Jade Roller and Gua Sha Massager k...</td>\n",
       "      <td>4.7</td>\n",
       "    </tr>\n",
       "    <tr>\n",
       "      <th>47</th>\n",
       "      <td>Bath &amp; Body Works, Signature Collection Body L...</td>\n",
       "      <td>4.7</td>\n",
       "    </tr>\n",
       "    <tr>\n",
       "      <th>48</th>\n",
       "      <td>Helion Communications - Chakra Centers Referen...</td>\n",
       "      <td>4.7</td>\n",
       "    </tr>\n",
       "    <tr>\n",
       "      <th>49</th>\n",
       "      <td>Happy Birthday Box for Women - Unique Birthday...</td>\n",
       "      <td>4.7</td>\n",
       "    </tr>\n",
       "  </tbody>\n",
       "</table>\n",
       "</div>"
      ],
      "text/plain": [
       "                                                title  mean_rating\n",
       "0               Corn Huskers Lotion 7 oz ( Pack of 4)          4.9\n",
       "1   100 Letterpress Note Cards and Self Seal Envel...          4.9\n",
       "2   Pack of 2100 Colorful Dog Paw Print Stickers, ...          4.8\n",
       "3               Broadway Vita-Lip Argan Oil Lip Gloss          4.8\n",
       "4   3/4\" Bright Red Round Color Coding Circle Dot ...          4.8\n",
       "5                          Segbeauty empty bottle 290          4.8\n",
       "6   Oral-B Pro-Health Comfort Plus Mint Floss, Min...          4.8\n",
       "7   Secret Original Shower Fresh Scent Women's Inv...          4.8\n",
       "8   4.5 Inch Hair Bows For Girls Grosgrain Ribbon ...          4.8\n",
       "9   L7 MANNEQUIN Realistic Mannequin Head with Sho...          4.8\n",
       "10             Tigi Bed Head Manipulator 2oz (3 PACK)          4.8\n",
       "11  Pack of 1008 1\" Round Color Coding Circle Dot ...          4.8\n",
       "12          Tigi Bedhead Hard Head Hairspray (6 Pack)          4.8\n",
       "13  Pack of 1600 3/8 Inch Round Neon Color Coding ...          4.8\n",
       "14  Aquaphor Healing Ointment - Moisturizing Skin ...          4.8\n",
       "15  Garage Sale Pup Sonic bark deterrents 1.5\" Inc...          4.8\n",
       "16  Pack of 4200 3/4\" Round Color Coding Circle Do...          4.8\n",
       "17  Graham Sanek Neck Strips- 2.5 x 17.5-12 pks w/...          4.8\n",
       "18  Balneol Hygienic Cleansing Lotion, 3 oz. (Pack...          4.8\n",
       "19  Red Heart Shaped Sticker Labels, 1 1/4\" Diamet...          4.8\n",
       "20  Vivaplex, 12, Clear, 2 oz Glass Bottles, with ...          4.8\n",
       "21  Hello Natural Apple Flavor Kids Fluoride Free ...          4.8\n",
       "22  Janeke Superbrush Brush (Green/Purple - 86SP22...          4.8\n",
       "23  Hibiclens Antiseptic & Antimicrobial Skin Clea...          4.8\n",
       "24           Jack Black MP 10 Nourishing Oil, 2 Fl Oz          4.8\n",
       "25  Picoway 20 Pack Mouse Ears Solid Black and Red...          4.8\n",
       "26  Hibiclens Surgical Scrub 32 oz. Bottle (#57532...          4.8\n",
       "27  Self Adhesive Tape - Yuelong 24Pack 2” x 5 Yar...          4.8\n",
       "28  Gauge Gear Ear Stretching Balm | 10 ml Jar | P...          4.8\n",
       "29    Purpose Gentle Cleansing Wash, 6 oz (Pack of 2)          4.8\n",
       "30  1\" Metallic Red, Silver & Blue Stars Shape Foi...          4.8\n",
       "31  NEWTGAN 20 PCS Mouse Ears for Birthday Party T...          4.8\n",
       "32  1.5\" Inch Round Kraft, Baked with Love, Sticke...          4.8\n",
       "33  Clinique Dramatically Different Moisturizing L...          4.8\n",
       "34  Cerave Moisturizing Cream With Pump For Normal...          4.8\n",
       "35  1.5\" Heart Shape Kraft Paper Thank You Adhesiv...          4.8\n",
       "36  1.25 Inch Round Thank You Labels with Heart, K...          4.8\n",
       "37  1 Inch Round Thank You Sticker Labels with Red...          4.8\n",
       "38  1 Inch Round Thank You Sticker Labels in Scrip...          4.8\n",
       "39  2-1/4\" x 1-1/4\" Chalkboard Black Paper Label S...          4.8\n",
       "40  Soft & Dri, Aerosol, Antiperspirant Deodorant,...          4.8\n",
       "41  1 Inch Round Thank You Sticker Labels in Scrip...          4.8\n",
       "42  Rohto SKIN AQUA UV Super Moisture Gel 110g SPF...          4.7\n",
       "43        Hairspray (Two-Disc Shake & Shimmy Edition)          4.7\n",
       "44  Hair Weave Needle and Thread Kit, 2 Black Weav...          4.7\n",
       "45  SAUCE BEAUTY Guacamole Whip Hair Mask - Deep C...          4.7\n",
       "46  Rose Quartz Jade Roller and Gua Sha Massager k...          4.7\n",
       "47  Bath & Body Works, Signature Collection Body L...          4.7\n",
       "48  Helion Communications - Chakra Centers Referen...          4.7\n",
       "49  Happy Birthday Box for Women - Unique Birthday...          4.7"
      ]
     },
     "execution_count": 227,
     "metadata": {},
     "output_type": "execute_result"
    }
   ],
   "source": [
    "df_prod = dfpd.groupby(\"title\")[\"average_rating\"].mean().sort_values(ascending=False).reset_index(name='mean_rating')\n",
    "df_prod.head(50) #the top 50\n",
    "#df_prod.iloc[:50]"
   ]
  },
  {
   "cell_type": "markdown",
   "metadata": {
    "jp-MarkdownHeadingCollapsed": true
   },
   "source": [
    "## Do these top-rated products share common characteristics?\n",
    "\n",
    "They all have long detailed titles, with very specific product characteristics. Some have repeated titles with slightly different variations.\n",
    "\n",
    "They all have details:  'Product Dimensions', 'Manufacturer', and contain the extra information of 'Is Discontinued By Manufacturer'. Some contain more detailed and specific information such as 'Material Type Free', 'Use for', 'Hair Type', which changes accordingly to the purpose and function of the product. I believe that the beauty products contain more information than general use products. "
   ]
  },
  {
   "cell_type": "code",
   "execution_count": 74,
   "metadata": {},
   "outputs": [],
   "source": [
    "lis  = df_prod['title'].values.tolist()"
   ]
  },
  {
   "cell_type": "code",
   "execution_count": 76,
   "metadata": {},
   "outputs": [
    {
     "name": "stdout",
     "output_type": "stream",
     "text": [
      "Corn Huskers Lotion 7 oz ( Pack of 4)\n",
      "100 Letterpress Note Cards and Self Seal Envelopes - Perfect for Clients, Friends, Co-Workers - Blank Inside for Your Message - Opie’s Paper Company\n",
      "Pack of 2100 Colorful Dog Paw Print Stickers, 3/4 inch, 8 Bright Neon Colors, Great for Teachers, Classrooms & Veterinarians!\n",
      "Broadway Vita-Lip Argan Oil Lip Gloss\n",
      "3/4\" Bright Red Round Color Coding Circle Dot Labels on a Roll, Semi-Gloss, 1000 Stickers.75 inch Diameter.\n",
      "Segbeauty empty bottle 290\n",
      "Oral-B Pro-Health Comfort Plus Mint Floss, Mint,6 Count (Pack of 1)\n",
      "Secret Original Shower Fresh Scent Women's Invisible Solid pH Balanced Antiperspirant and Deodorant Twin Pack, 5.2 Ounce\n",
      "4.5 Inch Hair Bows For Girls Grosgrain Ribbon Boutique Bow Clips Teens Toddlers Kids Set Of 30 (15 Colors x 2)\n",
      "L7 MANNEQUIN Realistic Mannequin Head with Shoulders Plastic mannequin Heads for Wigs Earrings Hat Sunglassess Display\n"
     ]
    }
   ],
   "source": [
    "for i in range(10):\n",
    "  print(lis[i])"
   ]
  },
  {
   "cell_type": "code",
   "execution_count": 249,
   "metadata": {},
   "outputs": [
    {
     "data": {
      "text/plain": [
       "{'Brand': 'Johnson & Johnson',\n",
       " 'Item Form': 'Lotion',\n",
       " 'Unit Count': '28 Fl Oz',\n",
       " 'Number of Items': '4',\n",
       " 'Use for': 'Whole Body',\n",
       " 'Is Discontinued By Manufacturer': 'No',\n",
       " 'Product Dimensions': '2.57 x 1.25 x 6.75 inches; 8 Ounces',\n",
       " 'Item model number': 'Hand Lotion',\n",
       " 'UPC': '885830512752 312547481274',\n",
       " 'Manufacturer': 'Johnson & Johnson'}"
      ]
     },
     "execution_count": 249,
     "metadata": {},
     "output_type": "execute_result"
    }
   ],
   "source": [
    "df.iloc[33374].details"
   ]
  },
  {
   "cell_type": "code",
   "execution_count": 251,
   "metadata": {},
   "outputs": [
    {
     "data": {
      "text/plain": [
       "{'Is Discontinued By Manufacturer': 'No',\n",
       " 'Product Dimensions': '11.5 x 4.2 x 5.2 inches; 3.24 Pounds',\n",
       " 'UPC': '648499871505',\n",
       " 'Manufacturer': \"Opie's Paper Co.\"}"
      ]
     },
     "execution_count": 251,
     "metadata": {},
     "output_type": "execute_result"
    }
   ],
   "source": [
    "df.iloc[63448].details"
   ]
  },
  {
   "cell_type": "code",
   "execution_count": 255,
   "metadata": {},
   "outputs": [
    {
     "data": {
      "text/plain": [
       "{'Product Benefits': 'Frizz Control',\n",
       " 'Hair Type': 'All',\n",
       " 'Material Type Free': 'Benzyl Alcohol',\n",
       " 'Scent': 'tropical',\n",
       " 'Liquid Volume': '2 Fluid Ounces',\n",
       " 'Is Discontinued By Manufacturer': 'No',\n",
       " 'Product Dimensions': '2 x 2 x 2 inches; 8.64 Ounces',\n",
       " 'Item model number': '942110',\n",
       " 'UPC': '787734557924 763985661535 632181674628',\n",
       " 'Manufacturer': 'Tigi'}"
      ]
     },
     "execution_count": 255,
     "metadata": {},
     "output_type": "execute_result"
    }
   ],
   "source": [
    "df.iloc[76279].details"
   ]
  },
  {
   "cell_type": "markdown",
   "metadata": {},
   "source": [
    "## Display images and print details of the top 10 highest-rated products."
   ]
  },
  {
   "cell_type": "code",
   "execution_count": 79,
   "metadata": {},
   "outputs": [
    {
     "data": {
      "text/html": [
       "<div>\n",
       "<style scoped>\n",
       "    .dataframe tbody tr th:only-of-type {\n",
       "        vertical-align: middle;\n",
       "    }\n",
       "\n",
       "    .dataframe tbody tr th {\n",
       "        vertical-align: top;\n",
       "    }\n",
       "\n",
       "    .dataframe thead th {\n",
       "        text-align: right;\n",
       "    }\n",
       "</style>\n",
       "<table border=\"1\" class=\"dataframe\">\n",
       "  <thead>\n",
       "    <tr style=\"text-align: right;\">\n",
       "      <th></th>\n",
       "      <th>title</th>\n",
       "      <th>mean_rating</th>\n",
       "      <th>average_rating</th>\n",
       "      <th>rating_number</th>\n",
       "      <th>features</th>\n",
       "      <th>description</th>\n",
       "      <th>images</th>\n",
       "      <th>store</th>\n",
       "      <th>details</th>\n",
       "    </tr>\n",
       "  </thead>\n",
       "  <tbody>\n",
       "    <tr>\n",
       "      <th>0</th>\n",
       "      <td>Corn Huskers Lotion 7 oz ( Pack of 4)</td>\n",
       "      <td>4.9</td>\n",
       "      <td>4.9</td>\n",
       "      <td>1027</td>\n",
       "      <td>[Moisturizes and softens dry skin, Soothes irr...</td>\n",
       "      <td>[4 Bottles of CORN HUSKERS LOTION 7 oz   OIL F...</td>\n",
       "      <td>[{'thumb': 'https://m.media-amazon.com/images/...</td>\n",
       "      <td>Johnson &amp; Johnson</td>\n",
       "      <td>{'Brand': 'Johnson &amp; Johnson', 'Item Form': 'L...</td>\n",
       "    </tr>\n",
       "    <tr>\n",
       "      <th>1</th>\n",
       "      <td>100 Letterpress Note Cards and Self Seal Envel...</td>\n",
       "      <td>4.9</td>\n",
       "      <td>4.9</td>\n",
       "      <td>2322</td>\n",
       "      <td>[SELF SEAL ENVELOPES: Perfect for bulk mailing...</td>\n",
       "      <td>[Luxury Note Cards at an Affordable Price, Sho...</td>\n",
       "      <td>[{'thumb': 'https://m.media-amazon.com/images/...</td>\n",
       "      <td>Opie's Paper Co.</td>\n",
       "      <td>{'Is Discontinued By Manufacturer': 'No', 'Pro...</td>\n",
       "    </tr>\n",
       "    <tr>\n",
       "      <th>2</th>\n",
       "      <td>Pack of 2100 Colorful Dog Paw Print Stickers, ...</td>\n",
       "      <td>4.8</td>\n",
       "      <td>4.8</td>\n",
       "      <td>10775</td>\n",
       "      <td>[]</td>\n",
       "      <td>[]</td>\n",
       "      <td>[{'thumb': 'https://m.media-amazon.com/images/...</td>\n",
       "      <td>Garage Sale Pup</td>\n",
       "      <td>{'Color': 'Pcs-348', 'Size': 'Pcs-348', 'Brand...</td>\n",
       "    </tr>\n",
       "    <tr>\n",
       "      <th>3</th>\n",
       "      <td>Broadway Vita-Lip Argan Oil Lip Gloss</td>\n",
       "      <td>4.8</td>\n",
       "      <td>4.8</td>\n",
       "      <td>1704</td>\n",
       "      <td>[]</td>\n",
       "      <td>[]</td>\n",
       "      <td>[{'thumb': 'https://m.media-amazon.com/images/...</td>\n",
       "      <td>Broadway</td>\n",
       "      <td>{'Brand': 'Broadway', 'Skin Type': 'All', 'Ite...</td>\n",
       "    </tr>\n",
       "    <tr>\n",
       "      <th>4</th>\n",
       "      <td>3/4\" Bright Red Round Color Coding Circle Dot ...</td>\n",
       "      <td>4.8</td>\n",
       "      <td>4.8</td>\n",
       "      <td>12205</td>\n",
       "      <td>[]</td>\n",
       "      <td>[]</td>\n",
       "      <td>[{'thumb': 'https://m.media-amazon.com/images/...</td>\n",
       "      <td>Garage Sale Pup</td>\n",
       "      <td>{'Color': 'Pcs-361', 'Size': 'pcs-361', 'Brand...</td>\n",
       "    </tr>\n",
       "    <tr>\n",
       "      <th>5</th>\n",
       "      <td>Segbeauty empty bottle 290</td>\n",
       "      <td>4.8</td>\n",
       "      <td>4.8</td>\n",
       "      <td>4920</td>\n",
       "      <td>[]</td>\n",
       "      <td>[]</td>\n",
       "      <td>[{'thumb': 'https://m.media-amazon.com/images/...</td>\n",
       "      <td>TruuMe</td>\n",
       "      <td>{'Brand': 'Segbeauty', 'Color': 'Clear', 'Mate...</td>\n",
       "    </tr>\n",
       "    <tr>\n",
       "      <th>6</th>\n",
       "      <td>Oral-B Pro-Health Comfort Plus Mint Floss, Min...</td>\n",
       "      <td>4.8</td>\n",
       "      <td>4.8</td>\n",
       "      <td>2109</td>\n",
       "      <td>[Contains 6 packs of Oral-B Glide Pro-Health C...</td>\n",
       "      <td>[Oral-B Glide Pro-Heath Comfort Plus Floss is ...</td>\n",
       "      <td>[{'thumb': 'https://m.media-amazon.com/images/...</td>\n",
       "      <td>GLIDE</td>\n",
       "      <td>{'Brand': 'GLIDE', 'Dental Floss Type': 'Denta...</td>\n",
       "    </tr>\n",
       "    <tr>\n",
       "      <th>7</th>\n",
       "      <td>Secret Original Shower Fresh Scent Women's Inv...</td>\n",
       "      <td>4.8</td>\n",
       "      <td>4.8</td>\n",
       "      <td>1010</td>\n",
       "      <td>[You will receive a Pack of 2 Secret Original ...</td>\n",
       "      <td>[Stay true with Secret. You can always be conf...</td>\n",
       "      <td>[{'thumb': 'https://m.media-amazon.com/images/...</td>\n",
       "      <td>Secret</td>\n",
       "      <td>{'Package Dimensions': '8.43 x 6.89 x 4.41 inc...</td>\n",
       "    </tr>\n",
       "    <tr>\n",
       "      <th>8</th>\n",
       "      <td>4.5 Inch Hair Bows For Girls Grosgrain Ribbon ...</td>\n",
       "      <td>4.8</td>\n",
       "      <td>4.8</td>\n",
       "      <td>1085</td>\n",
       "      <td>[]</td>\n",
       "      <td>[]</td>\n",
       "      <td>[{'thumb': 'https://m.media-amazon.com/images/...</td>\n",
       "      <td>Manwe</td>\n",
       "      <td>{'Brand': 'Manwe', 'Hair Type': 'All', 'Age Ra...</td>\n",
       "    </tr>\n",
       "    <tr>\n",
       "      <th>9</th>\n",
       "      <td>L7 MANNEQUIN Realistic Mannequin Head with Sho...</td>\n",
       "      <td>4.8</td>\n",
       "      <td>4.8</td>\n",
       "      <td>1028</td>\n",
       "      <td>[This mannequin head Suitable for different st...</td>\n",
       "      <td>[]</td>\n",
       "      <td>[{'thumb': 'https://m.media-amazon.com/images/...</td>\n",
       "      <td>L7 MANNEQUIN</td>\n",
       "      <td>{'Brand': 'L7 MANNEQUIN', 'Color': 'Black', 'S...</td>\n",
       "    </tr>\n",
       "  </tbody>\n",
       "</table>\n",
       "</div>"
      ],
      "text/plain": [
       "                                               title  mean_rating  \\\n",
       "0              Corn Huskers Lotion 7 oz ( Pack of 4)          4.9   \n",
       "1  100 Letterpress Note Cards and Self Seal Envel...          4.9   \n",
       "2  Pack of 2100 Colorful Dog Paw Print Stickers, ...          4.8   \n",
       "3              Broadway Vita-Lip Argan Oil Lip Gloss          4.8   \n",
       "4  3/4\" Bright Red Round Color Coding Circle Dot ...          4.8   \n",
       "5                         Segbeauty empty bottle 290          4.8   \n",
       "6  Oral-B Pro-Health Comfort Plus Mint Floss, Min...          4.8   \n",
       "7  Secret Original Shower Fresh Scent Women's Inv...          4.8   \n",
       "8  4.5 Inch Hair Bows For Girls Grosgrain Ribbon ...          4.8   \n",
       "9  L7 MANNEQUIN Realistic Mannequin Head with Sho...          4.8   \n",
       "\n",
       "   average_rating  rating_number  \\\n",
       "0             4.9           1027   \n",
       "1             4.9           2322   \n",
       "2             4.8          10775   \n",
       "3             4.8           1704   \n",
       "4             4.8          12205   \n",
       "5             4.8           4920   \n",
       "6             4.8           2109   \n",
       "7             4.8           1010   \n",
       "8             4.8           1085   \n",
       "9             4.8           1028   \n",
       "\n",
       "                                            features  \\\n",
       "0  [Moisturizes and softens dry skin, Soothes irr...   \n",
       "1  [SELF SEAL ENVELOPES: Perfect for bulk mailing...   \n",
       "2                                                 []   \n",
       "3                                                 []   \n",
       "4                                                 []   \n",
       "5                                                 []   \n",
       "6  [Contains 6 packs of Oral-B Glide Pro-Health C...   \n",
       "7  [You will receive a Pack of 2 Secret Original ...   \n",
       "8                                                 []   \n",
       "9  [This mannequin head Suitable for different st...   \n",
       "\n",
       "                                         description  \\\n",
       "0  [4 Bottles of CORN HUSKERS LOTION 7 oz   OIL F...   \n",
       "1  [Luxury Note Cards at an Affordable Price, Sho...   \n",
       "2                                                 []   \n",
       "3                                                 []   \n",
       "4                                                 []   \n",
       "5                                                 []   \n",
       "6  [Oral-B Glide Pro-Heath Comfort Plus Floss is ...   \n",
       "7  [Stay true with Secret. You can always be conf...   \n",
       "8                                                 []   \n",
       "9                                                 []   \n",
       "\n",
       "                                              images              store  \\\n",
       "0  [{'thumb': 'https://m.media-amazon.com/images/...  Johnson & Johnson   \n",
       "1  [{'thumb': 'https://m.media-amazon.com/images/...   Opie's Paper Co.   \n",
       "2  [{'thumb': 'https://m.media-amazon.com/images/...    Garage Sale Pup   \n",
       "3  [{'thumb': 'https://m.media-amazon.com/images/...           Broadway   \n",
       "4  [{'thumb': 'https://m.media-amazon.com/images/...    Garage Sale Pup   \n",
       "5  [{'thumb': 'https://m.media-amazon.com/images/...             TruuMe   \n",
       "6  [{'thumb': 'https://m.media-amazon.com/images/...              GLIDE   \n",
       "7  [{'thumb': 'https://m.media-amazon.com/images/...             Secret   \n",
       "8  [{'thumb': 'https://m.media-amazon.com/images/...              Manwe   \n",
       "9  [{'thumb': 'https://m.media-amazon.com/images/...       L7 MANNEQUIN   \n",
       "\n",
       "                                             details  \n",
       "0  {'Brand': 'Johnson & Johnson', 'Item Form': 'L...  \n",
       "1  {'Is Discontinued By Manufacturer': 'No', 'Pro...  \n",
       "2  {'Color': 'Pcs-348', 'Size': 'Pcs-348', 'Brand...  \n",
       "3  {'Brand': 'Broadway', 'Skin Type': 'All', 'Ite...  \n",
       "4  {'Color': 'Pcs-361', 'Size': 'pcs-361', 'Brand...  \n",
       "5  {'Brand': 'Segbeauty', 'Color': 'Clear', 'Mate...  \n",
       "6  {'Brand': 'GLIDE', 'Dental Floss Type': 'Denta...  \n",
       "7  {'Package Dimensions': '8.43 x 6.89 x 4.41 inc...  \n",
       "8  {'Brand': 'Manwe', 'Hair Type': 'All', 'Age Ra...  \n",
       "9  {'Brand': 'L7 MANNEQUIN', 'Color': 'Black', 'S...  "
      ]
     },
     "execution_count": 79,
     "metadata": {},
     "output_type": "execute_result"
    }
   ],
   "source": [
    "#merge both df_prod and df together to get the previous columns back\n",
    "ndf = pd.merge(df_prod, df, how='left', on='title')\n",
    "ndf = ndf.head(10)\n",
    "ndf"
   ]
  },
  {
   "cell_type": "code",
   "execution_count": 81,
   "metadata": {},
   "outputs": [],
   "source": [
    "#using join df_prod.set_index('title').join(df.set_index('title'))"
   ]
  },
  {
   "cell_type": "code",
   "execution_count": 83,
   "metadata": {},
   "outputs": [],
   "source": [
    "#using join df_prod.join(df.set_index('title'), on='title')"
   ]
  },
  {
   "cell_type": "code",
   "execution_count": 85,
   "metadata": {},
   "outputs": [
    {
     "name": "stdout",
     "output_type": "stream",
     "text": [
      "https://m.media-amazon.com/images/I/51+2zxwHeVL.jpg\n",
      "https://m.media-amazon.com/images/I/419oi-H1DeL.jpg\n",
      "https://m.media-amazon.com/images/I/61T3tYlsruL.jpg\n",
      "https://m.media-amazon.com/images/I/51QBvJ6B8ZL.jpg\n",
      "https://m.media-amazon.com/images/I/31UKMleR14L.jpg\n",
      "https://m.media-amazon.com/images/I/31oTJurWykL.jpg\n",
      "https://m.media-amazon.com/images/I/51Y7vkuPe-L.jpg\n",
      "https://m.media-amazon.com/images/I/41bs9ujDABL.jpg\n",
      "https://m.media-amazon.com/images/I/51yCvC34+XL.jpg\n",
      "https://m.media-amazon.com/images/I/31cxNDwjJBL.jpg\n"
     ]
    }
   ],
   "source": [
    "#display image link \n",
    "for index,row in ndf.iterrows():\n",
    "    print(ndf.iloc[index].images[0]['large'])"
   ]
  },
  {
   "cell_type": "code",
   "execution_count": 87,
   "metadata": {},
   "outputs": [],
   "source": [
    "#Details"
   ]
  },
  {
   "cell_type": "code",
   "execution_count": 452,
   "metadata": {
    "scrolled": true
   },
   "outputs": [
    {
     "name": "stdout",
     "output_type": "stream",
     "text": [
      "[{'Brand': 'Johnson & Johnson', 'Item Form': 'Lotion', 'Unit Count': '28 Fl Oz', 'Number of Items': '4', 'Use for': 'Whole Body', 'Is Discontinued By Manufacturer': 'No', 'Product Dimensions': '2.57 x 1.25 x 6.75 inches; 8 Ounces', 'Item model number': 'Hand Lotion', 'UPC': '885830512752 312547481274', 'Manufacturer': 'Johnson & Johnson'}, {'Is Discontinued By Manufacturer': 'No', 'Product Dimensions': '11.5 x 4.2 x 5.2 inches; 3.24 Pounds', 'UPC': '648499871505', 'Manufacturer': \"Opie's Paper Co.\"}, {'Color': 'Pcs-348', 'Size': 'Pcs-348', 'Brand': 'Garage Sale Pup', 'Shape': 'Round', 'Number of Labels': '2100', 'Is Discontinued By Manufacturer': 'No', 'Product Dimensions': '11 x 0.13 x 8.5 inches; 5.92 Ounces', 'Manufacturer': 'Garage Sale Pup'}, {'Brand': 'Broadway', 'Skin Type': 'All', 'Item Form': 'Oil', 'Finish Type': 'Glossy', 'Product Benefits': 'Soothing, Moisturizing', 'Package Dimensions': '5.55 x 4.29 x 0.71 inches; 3.84 Ounces', 'UPC': '731509807011'}, {'Color': 'Pcs-361', 'Size': 'pcs-361', 'Brand': 'Garage Sale Pup', 'Shape': 'Round', 'Number of Labels': '1000', 'Product Dimensions': '5 x 0.75 x 5 inches; 3.2 Ounces', 'Item model number': 'AFCR1000', 'Manufacturer': 'Garage Sale Pup'}, {'Brand': 'Segbeauty', 'Color': 'Clear', 'Material Type Free': 'Dairy Free', 'Item Weight': '3.4 Ounces', 'Bottle Nipple Type': 'Vented', 'Package Dimensions': '7.99 x 3.19 x 2.24 inches; 3.4 Ounces', 'Item model number': 'AM-160083-03', 'UPC': '701822757553 701822760621'}, {'Brand': 'GLIDE', 'Dental Floss Type': 'Dental Floss', 'Item Form': 'String', 'Flavor': 'Mint', 'Age Range (Description)': 'Adult', 'Is Discontinued By Manufacturer': 'No', 'Package Dimensions': '9.45 x 6.89 x 0.75 inches; 3.53 Ounces', 'Item model number': 'SG_B00NJ6H2TE_US', 'UPC': '037000291664 638037689686', 'Manufacturer': 'Glide'}, {'Package Dimensions': '8.43 x 6.89 x 4.41 inches; 8.78 Ounces', 'Manufacturer': 'P&G'}, {'Brand': 'Manwe', 'Hair Type': 'All', 'Age Range (Description)': 'Child', 'Embellishment': 'Bow', 'Material': 'Metal', 'Is Discontinued By Manufacturer': 'No', 'Package Dimensions': '10.1 x 8.5 x 2.3 inches; 1.76 Ounces', 'UPC': '724190158777'}, {'Brand': 'L7 MANNEQUIN', 'Color': 'Black', 'Size': '1 Count (Pack of 1)', 'Material': '聚乙烯', 'Item Weight': '5 Pounds', 'Is Discontinued By Manufacturer': 'No', 'Product Dimensions': '15 x 8 x 17.5 inches; 5 Pounds', 'UPC': '714676500398', 'Manufacturer': 'L7 MANNEQUIN'}] \n",
      "\n"
     ]
    }
   ],
   "source": [
    "detalhes  = ndf['details'].values.tolist()\n",
    "print(detalhes, '\\n')"
   ]
  },
  {
   "cell_type": "code",
   "execution_count": 448,
   "metadata": {},
   "outputs": [
    {
     "data": {
      "text/plain": [
       "0         {'Package Dimensions': '7.1 x 5.5 x 3 inches; ...\n",
       "1         {'Item Form': 'Powder', 'Skin Type': 'Acne Pro...\n",
       "2                {'Manufacturer': 'Levine Health Products'}\n",
       "3         {'Brand': 'Cherioll', 'Item Form': 'Powder', '...\n",
       "4                                   {'UPC': '644287689178'}\n",
       "                                ...                        \n",
       "112585    {'Is Discontinued By Manufacturer': 'No', 'Pac...\n",
       "112586    {'Is Discontinued By Manufacturer': 'No', 'Pac...\n",
       "112587    {'Brand': 'RainMakers', 'Recommended Uses For ...\n",
       "112588    {'Is Discontinued By Manufacturer': 'No', 'Pac...\n",
       "112589      {'UPC': '736238729337', 'Manufacturer': 'DVIO'}\n",
       "Name: details, Length: 112590, dtype: object"
      ]
     },
     "execution_count": 448,
     "metadata": {},
     "output_type": "execute_result"
    }
   ],
   "source": [
    "df['details']"
   ]
  },
  {
   "cell_type": "code",
   "execution_count": 538,
   "metadata": {},
   "outputs": [
    {
     "name": "stdout",
     "output_type": "stream",
     "text": [
      "{'Brand': 'Johnson & Johnson', 'Item Form': 'Lotion', 'Unit Count': '28 Fl Oz', 'Number of Items': '4', 'Use for': 'Whole Body', 'Is Discontinued By Manufacturer': 'No', 'Product Dimensions': '2.57 x 1.25 x 6.75 inches; 8 Ounces', 'Item model number': 'Hand Lotion', 'UPC': '885830512752 312547481274', 'Manufacturer': 'Johnson & Johnson'} \n",
      "\n",
      "{'Is Discontinued By Manufacturer': 'No', 'Product Dimensions': '11.5 x 4.2 x 5.2 inches; 3.24 Pounds', 'UPC': '648499871505', 'Manufacturer': \"Opie's Paper Co.\"} \n",
      "\n",
      "{'Color': 'Pcs-348', 'Size': 'Pcs-348', 'Brand': 'Garage Sale Pup', 'Shape': 'Round', 'Number of Labels': '2100', 'Is Discontinued By Manufacturer': 'No', 'Product Dimensions': '11 x 0.13 x 8.5 inches; 5.92 Ounces', 'Manufacturer': 'Garage Sale Pup'} \n",
      "\n",
      "{'Brand': 'Broadway', 'Skin Type': 'All', 'Item Form': 'Oil', 'Finish Type': 'Glossy', 'Product Benefits': 'Soothing, Moisturizing', 'Package Dimensions': '5.55 x 4.29 x 0.71 inches; 3.84 Ounces', 'UPC': '731509807011'} \n",
      "\n",
      "{'Color': 'Pcs-361', 'Size': 'pcs-361', 'Brand': 'Garage Sale Pup', 'Shape': 'Round', 'Number of Labels': '1000', 'Product Dimensions': '5 x 0.75 x 5 inches; 3.2 Ounces', 'Item model number': 'AFCR1000', 'Manufacturer': 'Garage Sale Pup'} \n",
      "\n",
      "{'Brand': 'Segbeauty', 'Color': 'Clear', 'Material Type Free': 'Dairy Free', 'Item Weight': '3.4 Ounces', 'Bottle Nipple Type': 'Vented', 'Package Dimensions': '7.99 x 3.19 x 2.24 inches; 3.4 Ounces', 'Item model number': 'AM-160083-03', 'UPC': '701822757553 701822760621'} \n",
      "\n",
      "{'Brand': 'GLIDE', 'Dental Floss Type': 'Dental Floss', 'Item Form': 'String', 'Flavor': 'Mint', 'Age Range (Description)': 'Adult', 'Is Discontinued By Manufacturer': 'No', 'Package Dimensions': '9.45 x 6.89 x 0.75 inches; 3.53 Ounces', 'Item model number': 'SG_B00NJ6H2TE_US', 'UPC': '037000291664 638037689686', 'Manufacturer': 'Glide'} \n",
      "\n",
      "{'Package Dimensions': '8.43 x 6.89 x 4.41 inches; 8.78 Ounces', 'Manufacturer': 'P&G'} \n",
      "\n",
      "{'Brand': 'Manwe', 'Hair Type': 'All', 'Age Range (Description)': 'Child', 'Embellishment': 'Bow', 'Material': 'Metal', 'Is Discontinued By Manufacturer': 'No', 'Package Dimensions': '10.1 x 8.5 x 2.3 inches; 1.76 Ounces', 'UPC': '724190158777'} \n",
      "\n",
      "{'Brand': 'L7 MANNEQUIN', 'Color': 'Black', 'Size': '1 Count (Pack of 1)', 'Material': '聚乙烯', 'Item Weight': '5 Pounds', 'Is Discontinued By Manufacturer': 'No', 'Product Dimensions': '15 x 8 x 17.5 inches; 5 Pounds', 'UPC': '714676500398', 'Manufacturer': 'L7 MANNEQUIN'} \n",
      "\n"
     ]
    }
   ],
   "source": [
    "for index,row in ndf.iterrows():\n",
    "    print(ndf.details.iloc[index],'\\n')"
   ]
  },
  {
   "cell_type": "markdown",
   "metadata": {},
   "source": [
    "## What will be a good marketing strategy when your company launches its first product?"
   ]
  },
  {
   "cell_type": "markdown",
   "metadata": {},
   "source": [
    "I think that it is imporatnt to have the image in high_resolution as well, as all the others, as the most complete the information, the better it will be for the consumer and whoever more sees the data.\n",
    "Add details, with as much information as possible and by also adding features and description it might help increase sales, as we can see that some of the top 10 sellers have all those columns filled. \n",
    "Maybe it will be goos to have the same product, from the same brand, selling at different stores, to increase their market outreach. "
   ]
  },
  {
   "cell_type": "markdown",
   "metadata": {},
   "source": [
    "---"
   ]
  },
  {
   "cell_type": "markdown",
   "metadata": {
    "jp-MarkdownHeadingCollapsed": true
   },
   "source": [
    "## 1. Can a product not have a store defined (NaN value) and still have good average review (higher than 4.5) and rating_number over 1000?"
   ]
  },
  {
   "cell_type": "code",
   "execution_count": 10,
   "metadata": {},
   "outputs": [
    {
     "data": {
      "text/plain": [
       "title                12\n",
       "average_rating        0\n",
       "rating_number         0\n",
       "features              0\n",
       "description           0\n",
       "images                0\n",
       "store             11344\n",
       "details               0\n",
       "dtype: int64"
      ]
     },
     "execution_count": 10,
     "metadata": {},
     "output_type": "execute_result"
    }
   ],
   "source": [
    "df.isnull().sum()"
   ]
  },
  {
   "cell_type": "code",
   "execution_count": 71,
   "metadata": {},
   "outputs": [],
   "source": [
    "dfnostore = df[df['store'].isnull()] #isna() ok too\n",
    "#store all the NaN stores in this new df "
   ]
  },
  {
   "cell_type": "code",
   "execution_count": 83,
   "metadata": {},
   "outputs": [
    {
     "data": {
      "text/html": [
       "<div>\n",
       "<style scoped>\n",
       "    .dataframe tbody tr th:only-of-type {\n",
       "        vertical-align: middle;\n",
       "    }\n",
       "\n",
       "    .dataframe tbody tr th {\n",
       "        vertical-align: top;\n",
       "    }\n",
       "\n",
       "    .dataframe thead th {\n",
       "        text-align: right;\n",
       "    }\n",
       "</style>\n",
       "<table border=\"1\" class=\"dataframe\">\n",
       "  <thead>\n",
       "    <tr style=\"text-align: right;\">\n",
       "      <th></th>\n",
       "      <th>title</th>\n",
       "      <th>average_rating</th>\n",
       "      <th>rating_number</th>\n",
       "      <th>features</th>\n",
       "      <th>description</th>\n",
       "      <th>images</th>\n",
       "      <th>store</th>\n",
       "      <th>details</th>\n",
       "    </tr>\n",
       "  </thead>\n",
       "  <tbody>\n",
       "    <tr>\n",
       "      <th>12</th>\n",
       "      <td>Brand New Headrang Face line Contour V-line Ma...</td>\n",
       "      <td>3.3</td>\n",
       "      <td>4</td>\n",
       "      <td>[]</td>\n",
       "      <td>[]</td>\n",
       "      <td>[{'thumb': 'https://m.media-amazon.com/images/...</td>\n",
       "      <td>NaN</td>\n",
       "      <td>{'Is Discontinued By Manufacturer': 'No', 'Pac...</td>\n",
       "    </tr>\n",
       "  </tbody>\n",
       "</table>\n",
       "</div>"
      ],
      "text/plain": [
       "                                                title  average_rating  \\\n",
       "12  Brand New Headrang Face line Contour V-line Ma...             3.3   \n",
       "\n",
       "    rating_number features description  \\\n",
       "12              4       []          []   \n",
       "\n",
       "                                               images store  \\\n",
       "12  [{'thumb': 'https://m.media-amazon.com/images/...   NaN   \n",
       "\n",
       "                                              details  \n",
       "12  {'Is Discontinued By Manufacturer': 'No', 'Pac...  "
      ]
     },
     "execution_count": 83,
     "metadata": {},
     "output_type": "execute_result"
    }
   ],
   "source": [
    "dfnostore.head(1)"
   ]
  },
  {
   "cell_type": "code",
   "execution_count": 86,
   "metadata": {},
   "outputs": [
    {
     "data": {
      "text/plain": [
       "2924"
      ]
     },
     "execution_count": 86,
     "metadata": {},
     "output_type": "execute_result"
    }
   ],
   "source": [
    "dfnostore4 = dfnostore[dfnostore['average_rating'] >= 4.5]\n",
    "len(dfnostore4)"
   ]
  },
  {
   "cell_type": "code",
   "execution_count": 115,
   "metadata": {},
   "outputs": [
    {
     "data": {
      "text/plain": [
       "15"
      ]
     },
     "execution_count": 115,
     "metadata": {},
     "output_type": "execute_result"
    }
   ],
   "source": [
    "dfnostore44 = dfnostore4[dfnostore4['rating_number'] >= 1000]\n",
    "len(dfnostore44)"
   ]
  },
  {
   "cell_type": "code",
   "execution_count": 117,
   "metadata": {},
   "outputs": [
    {
     "data": {
      "text/plain": [
       "average_rating\n",
       "4.6    7\n",
       "4.7    4\n",
       "4.5    3\n",
       "4.8    1\n",
       "Name: count, dtype: int64"
      ]
     },
     "execution_count": 117,
     "metadata": {},
     "output_type": "execute_result"
    }
   ],
   "source": [
    "dfnostore44['average_rating'].value_counts()"
   ]
  },
  {
   "cell_type": "code",
   "execution_count": 119,
   "metadata": {},
   "outputs": [
    {
     "data": {
      "text/html": [
       "<div>\n",
       "<style scoped>\n",
       "    .dataframe tbody tr th:only-of-type {\n",
       "        vertical-align: middle;\n",
       "    }\n",
       "\n",
       "    .dataframe tbody tr th {\n",
       "        vertical-align: top;\n",
       "    }\n",
       "\n",
       "    .dataframe thead th {\n",
       "        text-align: right;\n",
       "    }\n",
       "</style>\n",
       "<table border=\"1\" class=\"dataframe\">\n",
       "  <thead>\n",
       "    <tr style=\"text-align: right;\">\n",
       "      <th></th>\n",
       "      <th>average_rating</th>\n",
       "      <th>total</th>\n",
       "    </tr>\n",
       "  </thead>\n",
       "  <tbody>\n",
       "    <tr>\n",
       "      <th>0</th>\n",
       "      <td>4.5</td>\n",
       "      <td>1860.000000</td>\n",
       "    </tr>\n",
       "    <tr>\n",
       "      <th>1</th>\n",
       "      <td>4.6</td>\n",
       "      <td>2221.428571</td>\n",
       "    </tr>\n",
       "    <tr>\n",
       "      <th>2</th>\n",
       "      <td>4.7</td>\n",
       "      <td>2219.000000</td>\n",
       "    </tr>\n",
       "    <tr>\n",
       "      <th>3</th>\n",
       "      <td>4.8</td>\n",
       "      <td>1040.000000</td>\n",
       "    </tr>\n",
       "  </tbody>\n",
       "</table>\n",
       "</div>"
      ],
      "text/plain": [
       "   average_rating        total\n",
       "0             4.5  1860.000000\n",
       "1             4.6  2221.428571\n",
       "2             4.7  2219.000000\n",
       "3             4.8  1040.000000"
      ]
     },
     "execution_count": 119,
     "metadata": {},
     "output_type": "execute_result"
    }
   ],
   "source": [
    "df_dep = dfnostore44.groupby(\"average_rating\")[\"rating_number\"].mean().reset_index(name='total')\n",
    "df_dep"
   ]
  },
  {
   "cell_type": "markdown",
   "metadata": {},
   "source": [
    "there are only 15 stores out of the "
   ]
  },
  {
   "cell_type": "markdown",
   "metadata": {
    "jp-MarkdownHeadingCollapsed": true
   },
   "source": [
    "## 2. How many products without description have been sold?\n",
    "\n",
    "null descriptions are []"
   ]
  },
  {
   "cell_type": "code",
   "execution_count": 170,
   "metadata": {},
   "outputs": [
    {
     "data": {
      "text/plain": [
       "title                12\n",
       "average_rating        0\n",
       "rating_number         0\n",
       "features              0\n",
       "description           0\n",
       "images                0\n",
       "store             11344\n",
       "details               0\n",
       "dtype: int64"
      ]
     },
     "execution_count": 170,
     "metadata": {},
     "output_type": "execute_result"
    }
   ],
   "source": [
    "df.isnull().sum()"
   ]
  },
  {
   "cell_type": "code",
   "execution_count": 172,
   "metadata": {},
   "outputs": [],
   "source": [
    "dfnodesc = df.dropna()"
   ]
  },
  {
   "cell_type": "code",
   "execution_count": 174,
   "metadata": {},
   "outputs": [
    {
     "name": "stdout",
     "output_type": "stream",
     "text": [
      "82617\n"
     ]
    },
    {
     "data": {
      "text/html": [
       "<div>\n",
       "<style scoped>\n",
       "    .dataframe tbody tr th:only-of-type {\n",
       "        vertical-align: middle;\n",
       "    }\n",
       "\n",
       "    .dataframe tbody tr th {\n",
       "        vertical-align: top;\n",
       "    }\n",
       "\n",
       "    .dataframe thead th {\n",
       "        text-align: right;\n",
       "    }\n",
       "</style>\n",
       "<table border=\"1\" class=\"dataframe\">\n",
       "  <thead>\n",
       "    <tr style=\"text-align: right;\">\n",
       "      <th></th>\n",
       "      <th>title</th>\n",
       "      <th>average_rating</th>\n",
       "      <th>rating_number</th>\n",
       "      <th>features</th>\n",
       "      <th>description</th>\n",
       "      <th>images</th>\n",
       "      <th>store</th>\n",
       "      <th>details</th>\n",
       "    </tr>\n",
       "  </thead>\n",
       "  <tbody>\n",
       "    <tr>\n",
       "      <th>0</th>\n",
       "      <td>Howard LC0008 Leather Conditioner, 8-Ounce (4-...</td>\n",
       "      <td>4.8</td>\n",
       "      <td>10</td>\n",
       "      <td>[]</td>\n",
       "      <td>[]</td>\n",
       "      <td>[{'thumb': 'https://m.media-amazon.com/images/...</td>\n",
       "      <td>Howard Products</td>\n",
       "      <td>{'Package Dimensions': '7.1 x 5.5 x 3 inches; ...</td>\n",
       "    </tr>\n",
       "    <tr>\n",
       "      <th>1</th>\n",
       "      <td>Yes to Tomatoes Detoxifying Charcoal Cleanser ...</td>\n",
       "      <td>4.5</td>\n",
       "      <td>3</td>\n",
       "      <td>[]</td>\n",
       "      <td>[]</td>\n",
       "      <td>[{'thumb': 'https://m.media-amazon.com/images/...</td>\n",
       "      <td>Yes To</td>\n",
       "      <td>{'Item Form': 'Powder', 'Skin Type': 'Acne Pro...</td>\n",
       "    </tr>\n",
       "    <tr>\n",
       "      <th>2</th>\n",
       "      <td>Eye Patch Black Adult with Tie Band (6 Per Pack)</td>\n",
       "      <td>4.4</td>\n",
       "      <td>26</td>\n",
       "      <td>[]</td>\n",
       "      <td>[]</td>\n",
       "      <td>[{'thumb': 'https://m.media-amazon.com/images/...</td>\n",
       "      <td>Levine Health Products</td>\n",
       "      <td>{'Manufacturer': 'Levine Health Products'}</td>\n",
       "    </tr>\n",
       "  </tbody>\n",
       "</table>\n",
       "</div>"
      ],
      "text/plain": [
       "                                               title  average_rating  \\\n",
       "0  Howard LC0008 Leather Conditioner, 8-Ounce (4-...             4.8   \n",
       "1  Yes to Tomatoes Detoxifying Charcoal Cleanser ...             4.5   \n",
       "2   Eye Patch Black Adult with Tie Band (6 Per Pack)             4.4   \n",
       "\n",
       "   rating_number features description  \\\n",
       "0             10       []          []   \n",
       "1              3       []          []   \n",
       "2             26       []          []   \n",
       "\n",
       "                                              images                   store  \\\n",
       "0  [{'thumb': 'https://m.media-amazon.com/images/...         Howard Products   \n",
       "1  [{'thumb': 'https://m.media-amazon.com/images/...                  Yes To   \n",
       "2  [{'thumb': 'https://m.media-amazon.com/images/...  Levine Health Products   \n",
       "\n",
       "                                             details  \n",
       "0  {'Package Dimensions': '7.1 x 5.5 x 3 inches; ...  \n",
       "1  {'Item Form': 'Powder', 'Skin Type': 'Acne Pro...  \n",
       "2         {'Manufacturer': 'Levine Health Products'}  "
      ]
     },
     "execution_count": 174,
     "metadata": {},
     "output_type": "execute_result"
    }
   ],
   "source": [
    "dfnodesc = dfnodesc[dfnodesc['description'] == '[]']\n",
    "print(len(dfnodesc))\n",
    "dfnodesc.head(3)"
   ]
  },
  {
   "cell_type": "markdown",
   "metadata": {},
   "source": [
    "82617 products without description have been sold."
   ]
  },
  {
   "cell_type": "markdown",
   "metadata": {
    "jp-MarkdownHeadingCollapsed": true
   },
   "source": [
    "## 3. How many products without details have been sold and gotten an average rating higher and equal than 4.5?\n",
    "\n",
    "Assuming that empty values are {} \n",
    "\n",
    "There are 890 products"
   ]
  },
  {
   "cell_type": "code",
   "execution_count": 182,
   "metadata": {},
   "outputs": [],
   "source": [
    "dfnodt = df.dropna() #drop all null rows \n",
    "dfnodt = dfnodt[dfnodt['average_rating'] >= 4.5]"
   ]
  },
  {
   "cell_type": "code",
   "execution_count": 184,
   "metadata": {},
   "outputs": [
    {
     "name": "stdout",
     "output_type": "stream",
     "text": [
      "890\n"
     ]
    },
    {
     "data": {
      "text/html": [
       "<div>\n",
       "<style scoped>\n",
       "    .dataframe tbody tr th:only-of-type {\n",
       "        vertical-align: middle;\n",
       "    }\n",
       "\n",
       "    .dataframe tbody tr th {\n",
       "        vertical-align: top;\n",
       "    }\n",
       "\n",
       "    .dataframe thead th {\n",
       "        text-align: right;\n",
       "    }\n",
       "</style>\n",
       "<table border=\"1\" class=\"dataframe\">\n",
       "  <thead>\n",
       "    <tr style=\"text-align: right;\">\n",
       "      <th></th>\n",
       "      <th>title</th>\n",
       "      <th>average_rating</th>\n",
       "      <th>rating_number</th>\n",
       "      <th>features</th>\n",
       "      <th>description</th>\n",
       "      <th>images</th>\n",
       "      <th>store</th>\n",
       "      <th>details</th>\n",
       "    </tr>\n",
       "  </thead>\n",
       "  <tbody>\n",
       "    <tr>\n",
       "      <th>36</th>\n",
       "      <td>Luxury Shimmer Pearl Loose Eyeshadow Powder Ey...</td>\n",
       "      <td>5.0</td>\n",
       "      <td>1</td>\n",
       "      <td>[]</td>\n",
       "      <td>[]</td>\n",
       "      <td>[{'thumb': 'https://m.media-amazon.com/images/...</td>\n",
       "      <td>WindMax</td>\n",
       "      <td>{}</td>\n",
       "    </tr>\n",
       "    <tr>\n",
       "      <th>467</th>\n",
       "      <td>Affiance Infiniti Intelligent Colour System Ul...</td>\n",
       "      <td>5.0</td>\n",
       "      <td>1</td>\n",
       "      <td>[]</td>\n",
       "      <td>[]</td>\n",
       "      <td>[{'thumb': 'https://m.media-amazon.com/images/...</td>\n",
       "      <td>Affinage Infiniti</td>\n",
       "      <td>{}</td>\n",
       "    </tr>\n",
       "    <tr>\n",
       "      <th>531</th>\n",
       "      <td>Panthere De Cartier 2-piece Set 1.6 Oz Parfum ...</td>\n",
       "      <td>5.0</td>\n",
       "      <td>1</td>\n",
       "      <td>[]</td>\n",
       "      <td>[]</td>\n",
       "      <td>[{'thumb': 'https://m.media-amazon.com/images/...</td>\n",
       "      <td>ERTDDE</td>\n",
       "      <td>{}</td>\n",
       "    </tr>\n",
       "  </tbody>\n",
       "</table>\n",
       "</div>"
      ],
      "text/plain": [
       "                                                 title  average_rating  \\\n",
       "36   Luxury Shimmer Pearl Loose Eyeshadow Powder Ey...             5.0   \n",
       "467  Affiance Infiniti Intelligent Colour System Ul...             5.0   \n",
       "531  Panthere De Cartier 2-piece Set 1.6 Oz Parfum ...             5.0   \n",
       "\n",
       "     rating_number features description  \\\n",
       "36               1       []          []   \n",
       "467              1       []          []   \n",
       "531              1       []          []   \n",
       "\n",
       "                                                images              store  \\\n",
       "36   [{'thumb': 'https://m.media-amazon.com/images/...            WindMax   \n",
       "467  [{'thumb': 'https://m.media-amazon.com/images/...  Affinage Infiniti   \n",
       "531  [{'thumb': 'https://m.media-amazon.com/images/...             ERTDDE   \n",
       "\n",
       "    details  \n",
       "36       {}  \n",
       "467      {}  \n",
       "531      {}  "
      ]
     },
     "execution_count": 184,
     "metadata": {},
     "output_type": "execute_result"
    }
   ],
   "source": [
    "dfnodt = dfnodt[dfnodt['details'] == '{}']\n",
    "print(len(dfnodt))\n",
    "dfnodt.head(3)"
   ]
  },
  {
   "cell_type": "markdown",
   "metadata": {
    "jp-MarkdownHeadingCollapsed": true
   },
   "source": [
    "## 4. What are the most common Age Range in details?\n",
    "\n",
    "Adult is the most common one, with 21117 ocurances "
   ]
  },
  {
   "cell_type": "code",
   "execution_count": 341,
   "metadata": {},
   "outputs": [],
   "source": [
    "def aging(x):\n",
    "    if isinstance(x, Dict):\n",
    "        for key, value in x.items():\n",
    "            if key == 'Age Range (Description)':\n",
    "                return value\n",
    "    else:\n",
    "        return None"
   ]
  },
  {
   "cell_type": "code",
   "execution_count": 343,
   "metadata": {},
   "outputs": [
    {
     "data": {
      "text/plain": [
       "0          None\n",
       "1         Adult\n",
       "2          None\n",
       "3          None\n",
       "4          None\n",
       "          ...  \n",
       "112585     None\n",
       "112586     None\n",
       "112587    Adult\n",
       "112588     None\n",
       "112589     None\n",
       "Name: age, Length: 112590, dtype: object"
      ]
     },
     "execution_count": 343,
     "metadata": {},
     "output_type": "execute_result"
    }
   ],
   "source": [
    "df[\"age\"] = df[\"details\"].apply(aging) #apply function to df and create column brand \n",
    "df[\"age\"]"
   ]
  },
  {
   "cell_type": "code",
   "execution_count": 345,
   "metadata": {},
   "outputs": [
    {
     "data": {
      "text/plain": [
       "age\n",
       "Adult            21117\n",
       "Kid                522\n",
       "Child              409\n",
       "Baby               267\n",
       "All Ages           109\n",
       "                 ...  \n",
       "Mayores de 12        1\n",
       "14-99                1\n",
       "12 Years & Up        1\n",
       "Newborn,Baby         1\n",
       "gel face wash        1\n",
       "Name: count, Length: 72, dtype: int64"
      ]
     },
     "execution_count": 345,
     "metadata": {},
     "output_type": "execute_result"
    }
   ],
   "source": [
    "df[\"age\"].value_counts()"
   ]
  },
  {
   "cell_type": "markdown",
   "metadata": {
    "jp-MarkdownHeadingCollapsed": true
   },
   "source": [
    "## 5. What is the average lenght of a title, and what is the shortest title and the longest title?"
   ]
  },
  {
   "cell_type": "code",
   "execution_count": 109,
   "metadata": {},
   "outputs": [],
   "source": [
    "lendf = df.dropna()"
   ]
  },
  {
   "cell_type": "code",
   "execution_count": 216,
   "metadata": {},
   "outputs": [
    {
     "name": "stderr",
     "output_type": "stream",
     "text": [
      "/var/folders/5q/byw5947x45z270nws3pnkw440000gn/T/ipykernel_68169/1014798506.py:1: SettingWithCopyWarning: \n",
      "A value is trying to be set on a copy of a slice from a DataFrame.\n",
      "Try using .loc[row_indexer,col_indexer] = value instead\n",
      "\n",
      "See the caveats in the documentation: https://pandas.pydata.org/pandas-docs/stable/user_guide/indexing.html#returning-a-view-versus-a-copy\n",
      "  lendf['length_title'] = lendf['title'].apply(len) #Get the length of each title\n"
     ]
    }
   ],
   "source": [
    "lendf['length_title'] = lendf['title'].apply(len) #Get the length of each title"
   ]
  },
  {
   "cell_type": "code",
   "execution_count": 119,
   "metadata": {},
   "outputs": [
    {
     "data": {
      "text/html": [
       "<div>\n",
       "<style scoped>\n",
       "    .dataframe tbody tr th:only-of-type {\n",
       "        vertical-align: middle;\n",
       "    }\n",
       "\n",
       "    .dataframe tbody tr th {\n",
       "        vertical-align: top;\n",
       "    }\n",
       "\n",
       "    .dataframe thead th {\n",
       "        text-align: right;\n",
       "    }\n",
       "</style>\n",
       "<table border=\"1\" class=\"dataframe\">\n",
       "  <thead>\n",
       "    <tr style=\"text-align: right;\">\n",
       "      <th></th>\n",
       "      <th>title</th>\n",
       "      <th>average_rating</th>\n",
       "      <th>rating_number</th>\n",
       "      <th>features</th>\n",
       "      <th>description</th>\n",
       "      <th>images</th>\n",
       "      <th>store</th>\n",
       "      <th>details</th>\n",
       "      <th>len_title</th>\n",
       "      <th>length</th>\n",
       "      <th>length_title</th>\n",
       "    </tr>\n",
       "  </thead>\n",
       "  <tbody>\n",
       "    <tr>\n",
       "      <th>0</th>\n",
       "      <td>Howard LC0008 Leather Conditioner, 8-Ounce (4-...</td>\n",
       "      <td>4.8</td>\n",
       "      <td>10</td>\n",
       "      <td>[]</td>\n",
       "      <td>[]</td>\n",
       "      <td>[{'thumb': 'https://m.media-amazon.com/images/...</td>\n",
       "      <td>Howard Products</td>\n",
       "      <td>{'Package Dimensions': '7.1 x 5.5 x 3 inches; ...</td>\n",
       "      <td>51</td>\n",
       "      <td>51</td>\n",
       "      <td>51</td>\n",
       "    </tr>\n",
       "    <tr>\n",
       "      <th>1</th>\n",
       "      <td>Yes to Tomatoes Detoxifying Charcoal Cleanser ...</td>\n",
       "      <td>4.5</td>\n",
       "      <td>3</td>\n",
       "      <td>[]</td>\n",
       "      <td>[]</td>\n",
       "      <td>[{'thumb': 'https://m.media-amazon.com/images/...</td>\n",
       "      <td>Yes To</td>\n",
       "      <td>{'Item Form': 'Powder', 'Skin Type': 'Acne Pro...</td>\n",
       "      <td>51</td>\n",
       "      <td>143</td>\n",
       "      <td>143</td>\n",
       "    </tr>\n",
       "    <tr>\n",
       "      <th>2</th>\n",
       "      <td>Eye Patch Black Adult with Tie Band (6 Per Pack)</td>\n",
       "      <td>4.4</td>\n",
       "      <td>26</td>\n",
       "      <td>[]</td>\n",
       "      <td>[]</td>\n",
       "      <td>[{'thumb': 'https://m.media-amazon.com/images/...</td>\n",
       "      <td>Levine Health Products</td>\n",
       "      <td>{'Manufacturer': 'Levine Health Products'}</td>\n",
       "      <td>51</td>\n",
       "      <td>48</td>\n",
       "      <td>48</td>\n",
       "    </tr>\n",
       "  </tbody>\n",
       "</table>\n",
       "</div>"
      ],
      "text/plain": [
       "                                               title  average_rating  \\\n",
       "0  Howard LC0008 Leather Conditioner, 8-Ounce (4-...             4.8   \n",
       "1  Yes to Tomatoes Detoxifying Charcoal Cleanser ...             4.5   \n",
       "2   Eye Patch Black Adult with Tie Band (6 Per Pack)             4.4   \n",
       "\n",
       "   rating_number features description  \\\n",
       "0             10       []          []   \n",
       "1              3       []          []   \n",
       "2             26       []          []   \n",
       "\n",
       "                                              images                   store  \\\n",
       "0  [{'thumb': 'https://m.media-amazon.com/images/...         Howard Products   \n",
       "1  [{'thumb': 'https://m.media-amazon.com/images/...                  Yes To   \n",
       "2  [{'thumb': 'https://m.media-amazon.com/images/...  Levine Health Products   \n",
       "\n",
       "                                             details  len_title  length  \\\n",
       "0  {'Package Dimensions': '7.1 x 5.5 x 3 inches; ...         51      51   \n",
       "1  {'Item Form': 'Powder', 'Skin Type': 'Acne Pro...         51     143   \n",
       "2         {'Manufacturer': 'Levine Health Products'}         51      48   \n",
       "\n",
       "   length_title  \n",
       "0            51  \n",
       "1           143  \n",
       "2            48  "
      ]
     },
     "execution_count": 119,
     "metadata": {},
     "output_type": "execute_result"
    }
   ],
   "source": [
    "lendf.head(3)"
   ]
  },
  {
   "cell_type": "code",
   "execution_count": 145,
   "metadata": {},
   "outputs": [
    {
     "name": "stdout",
     "output_type": "stream",
     "text": [
      "The average length of a title is 115.51350310166345\n"
     ]
    }
   ],
   "source": [
    "print('The average length of a title is', lendf[\"length_title\"].mean())"
   ]
  },
  {
   "cell_type": "code",
   "execution_count": 137,
   "metadata": {},
   "outputs": [
    {
     "name": "stdout",
     "output_type": "stream",
     "text": [
      "The longest title has  1455 characters\n"
     ]
    }
   ],
   "source": [
    "print('The longest title has ',lendf[\"length_title\"].max(),'characters')"
   ]
  },
  {
   "cell_type": "code",
   "execution_count": 139,
   "metadata": {},
   "outputs": [
    {
     "name": "stdout",
     "output_type": "stream",
     "text": [
      "The shorstes title has 1 characters\n"
     ]
    }
   ],
   "source": [
    "print('The shorstes title has', lendf[\"length_title\"].min(), 'characters')"
   ]
  },
  {
   "cell_type": "markdown",
   "metadata": {
    "jp-MarkdownHeadingCollapsed": true
   },
   "source": [
    "## 6. How many different products do the top 5 stores sold?\n",
    "\n",
    "groupby store and title\n",
    "\n",
    "Bath & Body Works has 477 unique products, Generic has 368, Hairro has 378, S-noilite has 340 and WILLBOND has 386\n",
    "\n",
    "So, it seems that no store has sold multiple times the same item, they are all different. "
   ]
  },
  {
   "cell_type": "code",
   "execution_count": 99,
   "metadata": {},
   "outputs": [
    {
     "data": {
      "text/plain": [
       "title             0\n",
       "average_rating    0\n",
       "rating_number     0\n",
       "features          0\n",
       "description       0\n",
       "images            0\n",
       "store             0\n",
       "details           0\n",
       "dtype: int64"
      ]
     },
     "execution_count": 99,
     "metadata": {},
     "output_type": "execute_result"
    }
   ],
   "source": [
    "df_5 = df.dropna()"
   ]
  },
  {
   "cell_type": "code",
   "execution_count": 193,
   "metadata": {},
   "outputs": [
    {
     "data": {
      "text/plain": [
       "store\n",
       "Bath & Body Works    481\n",
       "WILLBOND             388\n",
       "Hairro               381\n",
       "Generic              369\n",
       "S-noilite            340\n",
       "                    ... \n",
       "ASSOS Cycling          1\n",
       "LA Bodies              1\n",
       "Lingon                 1\n",
       "STAUB                  1\n",
       "DVIO                   1\n",
       "Name: count, Length: 30759, dtype: int64"
      ]
     },
     "execution_count": 193,
     "metadata": {},
     "output_type": "execute_result"
    }
   ],
   "source": [
    "df_5['store'].value_counts()"
   ]
  },
  {
   "cell_type": "code",
   "execution_count": 157,
   "metadata": {},
   "outputs": [
    {
     "data": {
      "text/html": [
       "<div>\n",
       "<style scoped>\n",
       "    .dataframe tbody tr th:only-of-type {\n",
       "        vertical-align: middle;\n",
       "    }\n",
       "\n",
       "    .dataframe tbody tr th {\n",
       "        vertical-align: top;\n",
       "    }\n",
       "\n",
       "    .dataframe thead th {\n",
       "        text-align: right;\n",
       "    }\n",
       "</style>\n",
       "<table border=\"1\" class=\"dataframe\">\n",
       "  <thead>\n",
       "    <tr style=\"text-align: right;\">\n",
       "      <th></th>\n",
       "      <th>store</th>\n",
       "      <th>count</th>\n",
       "    </tr>\n",
       "  </thead>\n",
       "  <tbody>\n",
       "    <tr>\n",
       "      <th>0</th>\n",
       "      <td>Bath &amp; Body Works</td>\n",
       "      <td>481</td>\n",
       "    </tr>\n",
       "    <tr>\n",
       "      <th>1</th>\n",
       "      <td>WILLBOND</td>\n",
       "      <td>388</td>\n",
       "    </tr>\n",
       "    <tr>\n",
       "      <th>2</th>\n",
       "      <td>Hairro</td>\n",
       "      <td>381</td>\n",
       "    </tr>\n",
       "    <tr>\n",
       "      <th>3</th>\n",
       "      <td>Generic</td>\n",
       "      <td>369</td>\n",
       "    </tr>\n",
       "    <tr>\n",
       "      <th>4</th>\n",
       "      <td>S-noilite</td>\n",
       "      <td>340</td>\n",
       "    </tr>\n",
       "  </tbody>\n",
       "</table>\n",
       "</div>"
      ],
      "text/plain": [
       "               store  count\n",
       "0  Bath & Body Works    481\n",
       "1           WILLBOND    388\n",
       "2             Hairro    381\n",
       "3            Generic    369\n",
       "4          S-noilite    340"
      ]
     },
     "execution_count": 157,
     "metadata": {},
     "output_type": "execute_result"
    }
   ],
   "source": [
    "dftop = df_5['store'].value_counts().reset_index().head() #the top 5 companies that appears the most \n",
    "dftop"
   ]
  },
  {
   "cell_type": "code",
   "execution_count": 161,
   "metadata": {},
   "outputs": [
    {
     "data": {
      "text/plain": [
       "['Bath & Body Works', 'WILLBOND', 'Hairro', 'Generic', 'S-noilite']"
      ]
     },
     "execution_count": 161,
     "metadata": {},
     "output_type": "execute_result"
    }
   ],
   "source": [
    "#make it to a list the store names\n",
    "lis = dftop['store'].values.tolist()\n",
    "lis"
   ]
  },
  {
   "cell_type": "code",
   "execution_count": 173,
   "metadata": {},
   "outputs": [],
   "source": [
    "#count how many different products they sell\n",
    "# use https://discovery.cs.illinois.edu/guides/DataFrame-Row-Selection/dataframe-isin-selection/#:~:text=isin%20function%20is%20commonly%20used,they%20are%20in%20another%20DataFrame.\n",
    "# to understand .isin function\n",
    "# and https://www.w3schools.com/python/pandas/ref_df_isin.asp#:~:text=The%20isin()%20method%20checks,the%20specified%20values%2C%20otherwise%20False%20.\n",
    "#for more examples"
   ]
  },
  {
   "cell_type": "code",
   "execution_count": 189,
   "metadata": {},
   "outputs": [],
   "source": [
    "# def getall(i):\n",
    "#     if i in lis:\n",
    "#         return i\n",
    "\n",
    "# d5 = df_5[df_5['store'].apply(getall)]\n",
    "#-- this outputs an error, therefore I had to search another alternative which was isin()"
   ]
  },
  {
   "cell_type": "code",
   "execution_count": 219,
   "metadata": {},
   "outputs": [
    {
     "data": {
      "text/html": [
       "<div>\n",
       "<style scoped>\n",
       "    .dataframe tbody tr th:only-of-type {\n",
       "        vertical-align: middle;\n",
       "    }\n",
       "\n",
       "    .dataframe tbody tr th {\n",
       "        vertical-align: top;\n",
       "    }\n",
       "\n",
       "    .dataframe thead th {\n",
       "        text-align: right;\n",
       "    }\n",
       "</style>\n",
       "<table border=\"1\" class=\"dataframe\">\n",
       "  <thead>\n",
       "    <tr style=\"text-align: right;\">\n",
       "      <th></th>\n",
       "      <th>title</th>\n",
       "      <th>average_rating</th>\n",
       "      <th>rating_number</th>\n",
       "      <th>features</th>\n",
       "      <th>description</th>\n",
       "      <th>images</th>\n",
       "      <th>store</th>\n",
       "      <th>details</th>\n",
       "    </tr>\n",
       "  </thead>\n",
       "  <tbody>\n",
       "    <tr>\n",
       "      <th>132</th>\n",
       "      <td>Bath &amp; Body Works PocketBac Hand Gel I'm Reall...</td>\n",
       "      <td>3.5</td>\n",
       "      <td>6</td>\n",
       "      <td>[]</td>\n",
       "      <td>[]</td>\n",
       "      <td>[{'thumb': 'https://m.media-amazon.com/images/...</td>\n",
       "      <td>Bath &amp; Body Works</td>\n",
       "      <td>{}</td>\n",
       "    </tr>\n",
       "    <tr>\n",
       "      <th>133</th>\n",
       "      <td>Halloween Wizard Wig and Faux Beard Set Party ...</td>\n",
       "      <td>3.7</td>\n",
       "      <td>42</td>\n",
       "      <td>[]</td>\n",
       "      <td>[]</td>\n",
       "      <td>[{'thumb': 'https://m.media-amazon.com/images/...</td>\n",
       "      <td>WILLBOND</td>\n",
       "      <td>{'Color': 'Gray', 'Material': 'Synthetic', 'Ha...</td>\n",
       "    </tr>\n",
       "  </tbody>\n",
       "</table>\n",
       "</div>"
      ],
      "text/plain": [
       "                                                 title  average_rating  \\\n",
       "132  Bath & Body Works PocketBac Hand Gel I'm Reall...             3.5   \n",
       "133  Halloween Wizard Wig and Faux Beard Set Party ...             3.7   \n",
       "\n",
       "     rating_number features description  \\\n",
       "132              6       []          []   \n",
       "133             42       []          []   \n",
       "\n",
       "                                                images              store  \\\n",
       "132  [{'thumb': 'https://m.media-amazon.com/images/...  Bath & Body Works   \n",
       "133  [{'thumb': 'https://m.media-amazon.com/images/...           WILLBOND   \n",
       "\n",
       "                                               details  \n",
       "132                                                 {}  \n",
       "133  {'Color': 'Gray', 'Material': 'Synthetic', 'Ha...  "
      ]
     },
     "execution_count": 219,
     "metadata": {},
     "output_type": "execute_result"
    }
   ],
   "source": [
    "dftop5full = df_5[df_5['store'].isin(lis)]\n",
    "dftop5full.head(2)"
   ]
  },
  {
   "cell_type": "code",
   "execution_count": 225,
   "metadata": {},
   "outputs": [
    {
     "data": {
      "text/plain": [
       "store\n",
       "Bath & Body Works    477\n",
       "Generic              368\n",
       "Hairro               378\n",
       "S-noilite            340\n",
       "WILLBOND             386\n",
       "Name: title, dtype: int64"
      ]
     },
     "execution_count": 225,
     "metadata": {},
     "output_type": "execute_result"
    }
   ],
   "source": [
    "dftotal = dftop5full.groupby(\"store\")[\"title\"].nunique() #find all the unique titles in the df corresponding to each store\n",
    "dftotal"
   ]
  },
  {
   "cell_type": "markdown",
   "metadata": {
    "jp-MarkdownHeadingCollapsed": true
   },
   "source": [
    "## 7. How many different countries we have in the dataset, based on stores? based on the top 1000 stores\n",
    "\n",
    "I have found https://pypi.org/project/langdetect/ langdetect library, so if we see how many different languages we have in stores, we can try to estimate how many countries are in this dataset. This would be more meaningful instead of just seeing if it is an store with english name/characters or not."
   ]
  },
  {
   "cell_type": "code",
   "execution_count": 315,
   "metadata": {},
   "outputs": [
    {
     "name": "stdout",
     "output_type": "stream",
     "text": [
      "Requirement already satisfied: langdetect in /opt/anaconda3/lib/python3.12/site-packages (1.0.9)\n",
      "Requirement already satisfied: six in /opt/anaconda3/lib/python3.12/site-packages (from langdetect) (1.16.0)\n"
     ]
    }
   ],
   "source": [
    "! pip install langdetect"
   ]
  },
  {
   "cell_type": "code",
   "execution_count": 321,
   "metadata": {},
   "outputs": [],
   "source": [
    "from langdetect import detect"
   ]
  },
  {
   "cell_type": "code",
   "execution_count": null,
   "metadata": {},
   "outputs": [],
   "source": [
    "for i in "
   ]
  },
  {
   "cell_type": "code",
   "execution_count": 343,
   "metadata": {},
   "outputs": [
    {
     "data": {
      "text/html": [
       "<div>\n",
       "<style scoped>\n",
       "    .dataframe tbody tr th:only-of-type {\n",
       "        vertical-align: middle;\n",
       "    }\n",
       "\n",
       "    .dataframe tbody tr th {\n",
       "        vertical-align: top;\n",
       "    }\n",
       "\n",
       "    .dataframe thead th {\n",
       "        text-align: right;\n",
       "    }\n",
       "</style>\n",
       "<table border=\"1\" class=\"dataframe\">\n",
       "  <thead>\n",
       "    <tr style=\"text-align: right;\">\n",
       "      <th></th>\n",
       "      <th>store</th>\n",
       "      <th>count</th>\n",
       "    </tr>\n",
       "  </thead>\n",
       "  <tbody>\n",
       "    <tr>\n",
       "      <th>0</th>\n",
       "      <td>Bath &amp; Body Works</td>\n",
       "      <td>481</td>\n",
       "    </tr>\n",
       "    <tr>\n",
       "      <th>1</th>\n",
       "      <td>WILLBOND</td>\n",
       "      <td>388</td>\n",
       "    </tr>\n",
       "    <tr>\n",
       "      <th>2</th>\n",
       "      <td>Hairro</td>\n",
       "      <td>381</td>\n",
       "    </tr>\n",
       "    <tr>\n",
       "      <th>3</th>\n",
       "      <td>Generic</td>\n",
       "      <td>369</td>\n",
       "    </tr>\n",
       "    <tr>\n",
       "      <th>4</th>\n",
       "      <td>S-noilite</td>\n",
       "      <td>340</td>\n",
       "    </tr>\n",
       "  </tbody>\n",
       "</table>\n",
       "</div>"
      ],
      "text/plain": [
       "               store  count\n",
       "0  Bath & Body Works    481\n",
       "1           WILLBOND    388\n",
       "2             Hairro    381\n",
       "3            Generic    369\n",
       "4          S-noilite    340"
      ]
     },
     "execution_count": 343,
     "metadata": {},
     "output_type": "execute_result"
    }
   ],
   "source": [
    "nomes = df_5['store'].value_counts().reset_index().head(100)\n",
    "nomes.head()"
   ]
  },
  {
   "cell_type": "code",
   "execution_count": 349,
   "metadata": {},
   "outputs": [
    {
     "data": {
      "text/plain": [
       "store\n",
       "de    24\n",
       "en    15\n",
       "sw     9\n",
       "fr     7\n",
       "tl     6\n",
       "id     6\n",
       "af     4\n",
       "so     4\n",
       "fi     3\n",
       "lt     3\n",
       "vi     3\n",
       "es     2\n",
       "it     2\n",
       "ca     2\n",
       "da     2\n",
       "ro     2\n",
       "cy     2\n",
       "et     1\n",
       "pl     1\n",
       "sv     1\n",
       "tr     1\n",
       "Name: count, dtype: int64"
      ]
     },
     "execution_count": 349,
     "metadata": {},
     "output_type": "execute_result"
    }
   ],
   "source": [
    "nomes['store'].apply(detect).value_counts()"
   ]
  },
  {
   "cell_type": "markdown",
   "metadata": {},
   "source": [
    "This is a really interesting and surprising finding as there seems to be 24 German (de) stores, and 15 English speaking stores, 9 Swahili stores, 7 French, and 6 Philipines stores (tl), and 6 Indonesian stores. Accoridng to langdetect language detector, based on https://en.wikipedia.org/wiki/List_of_ISO_639_language_codes#de abbreviations. "
   ]
  }
 ],
 "metadata": {
  "kernelspec": {
   "display_name": "Python 3 (ipykernel)",
   "language": "python",
   "name": "python3"
  },
  "language_info": {
   "codemirror_mode": {
    "name": "ipython",
    "version": 3
   },
   "file_extension": ".py",
   "mimetype": "text/x-python",
   "name": "python",
   "nbconvert_exporter": "python",
   "pygments_lexer": "ipython3",
   "version": "3.12.4"
  }
 },
 "nbformat": 4,
 "nbformat_minor": 4
}
