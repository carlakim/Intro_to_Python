{
 "cells": [
  {
   "cell_type": "markdown",
   "metadata": {},
   "source": [
    "<table style=\"float:left\">\n",
    "    <tr>\n",
    "        <td>\n",
    "            <img src=\"images/emlyon.png\" style=\"height:60px; float:left; padding-right:10px; margin-top:5px\" />\n",
    "        </td>\n",
    "        <td style=\"padding-bottom:10px;\">\n",
    "            <h1 style=\"border-bottom: 1px solid #eeeeee;\"> Python BootCamp </h1>\n",
    "            <span style=\"display:inline-block; margin-top:-15px;\">\n",
    "            <a href=\"https://masters.em-lyon.com/en/msc-in-digital-marketing-data-science\">[Emlyon]</a> MSc in Digital Marketing & Data Science (DMDS)    \n",
    "            <br/>\n",
    "            Sep 2024, Paris | © Saeed VARASTEH [RP] | Jean SAVINIEN\n",
    "            </span>\n",
    "        </td>\n",
    "    </tr>\n",
    "</table>"
   ]
  },
  {
   "cell_type": "markdown",
   "metadata": {},
   "source": [
    "<div class=\"alert-info\" style=\"border-bottom: solid 1px lightgray; background-color:#fff4e3;\">\n",
    "    <img src=\"images/homework.png\" style=\"height:60px; float:left; padding-right:10px;\" />\n",
    "    <span style=\"font-weight:bold; color:#db9425\">\n",
    "        <h4 style=\"padding-top:25px;\"> HOMEWORK 02 </h4>\n",
    "    </span>\n",
    "</div>"
   ]
  },
  {
   "cell_type": "markdown",
   "metadata": {},
   "source": [
    "**Carla Kim Gaieski**"
   ]
  },
  {
   "cell_type": "markdown",
   "metadata": {},
   "source": [
    "Make sure you read all the readings and content from the lectures on Brightspace.\n",
    "\n",
    "If you have worked with anyone, please enter their names below:"
   ]
  },
  {
   "cell_type": "code",
   "execution_count": null,
   "metadata": {},
   "outputs": [],
   "source": [
    "Names = \"\""
   ]
  },
  {
   "cell_type": "markdown",
   "metadata": {},
   "source": [
    "### Homework 02 - Caesar Cipher\n",
    "\n",
    "---"
   ]
  },
  {
   "cell_type": "markdown",
   "metadata": {},
   "source": [
    "<div class=\"alert-danger\"> Please do not look for the answer online on other websites or use generative models. \n",
    "This exercise will really help you with your algorithmic thinking.  </div>"
   ]
  },
  {
   "cell_type": "markdown",
   "metadata": {},
   "source": [
    "__Background__\n",
    "\n",
    "The Caesar Cipher is a very simple encryption method that replaces each letter in a text by another letter which is specified by a given shift in the alphabet. The shift determines how many letters in the alphabet one should go ahead to find the replacement.\n",
    "\n",
    "Example:\n",
    "\n",
    "- The letter ”a” with shift 1 results in the letter ”b”.\n",
    "- The letter ”c” with shift 2 results in the letter ”e”.\n",
    "\n",
    "Negative shifting is also possible: \n",
    "\n",
    "- The letter ”f” with shift -1 results in the letter ”e”.\n",
    "\n",
    "When a letter would ”drop off” one end of the alphabet, we just start at the other end:\n",
    "\n",
    "- The letter ”z” with shift 1 results in the letter ”a”. \n",
    "- The letter ”a” with shift -3 results in the letter ”x”"
   ]
  },
  {
   "cell_type": "markdown",
   "metadata": {},
   "source": [
    "__Your Task__\n",
    "\n",
    "After years of working for the Secret Society of Secrets, you have finally gotten your hands on a secret message from the Evil League of Evil, and you want to decipher it. From your extensive studies of the League of Evil, you already know that they always encrypt their messages using the Caesar cipher. Your time is too precious to try every possible shift. \n",
    "\n",
    "You remember that some letters are more common than others in the English language, for example the letter \"e\" is the most common. Using this knowledge, you want to analyse the secret message and work out the key.\n",
    "\n",
    "To do this, follow these steps:\n",
    "\n",
    "1. Go through the given, encrypted string and count how often each letter appears. Save the result in an appropriate data structure.\n",
    "\n",
    "2. Find the most common letter in the secret message, knowing that letter ”e” is the most common letter in the English language, calculate the shift that was used to encrypt the message."
   ]
  },
  {
   "cell_type": "code",
   "execution_count": 69,
   "metadata": {},
   "outputs": [],
   "source": [
    "secret_message = \"\"\"Eholhyh lw ru qrw, brx kdyh fudfnhg wklv phvvdjh! Brx duh dv dzhvrph dv dqb rwkhu vwxghqw dw Hpobrq!\"\"\".lower()"
   ]
  },
  {
   "cell_type": "code",
   "execution_count": 71,
   "metadata": {},
   "outputs": [
    {
     "name": "stdout",
     "output_type": "stream",
     "text": [
      "eholhyh lw ru qrw, brx kdyh fudfnhg wklv phvvdjh! brx duh dv dzhvrph dv dqb rwkhu vwxghqw dw hpobrq!\n"
     ]
    }
   ],
   "source": [
    "print(secret_message)"
   ]
  },
  {
   "cell_type": "code",
   "execution_count": 81,
   "metadata": {},
   "outputs": [
    {
     "name": "stdout",
     "output_type": "stream",
     "text": [
      "{'e': 1, 'h': 13, 'o': 2, 'l': 3, 'y': 2, ' ': 18, 'w': 7, 'r': 7, 'u': 4, 'q': 4, ',': 1, 'b': 4, 'x': 3, 'k': 3, 'd': 9, 'f': 2, 'n': 1, 'g': 2, 'v': 7, 'p': 3, 'j': 1, '!': 2, 'z': 1}\n"
     ]
    }
   ],
   "source": [
    "letters_frequency = {} #dictionary for letters and how many times they show up in the str\n",
    "\n",
    "for l in secret_message:  #for every letter in the message \n",
    "    if l in letters_frequency:\n",
    "        letters_frequency[l] += 1\n",
    "    else:\n",
    "         letters_frequency[l] = 1\n",
    "\n",
    "print(letters_frequency)"
   ]
  },
  {
   "cell_type": "code",
   "execution_count": 333,
   "metadata": {},
   "outputs": [
    {
     "name": "stdout",
     "output_type": "stream",
     "text": [
      "[(' ', 18), ('h', 13), ('d', 9), ('w', 7), ('r', 7), ('v', 7), ('u', 4), ('q', 4), ('b', 4), ('l', 3), ('x', 3), ('k', 3), ('p', 3), ('o', 2), ('y', 2), ('f', 2), ('g', 2), ('!', 2), ('e', 1), (',', 1), ('n', 1), ('j', 1), ('z', 1)]\n"
     ]
    }
   ],
   "source": [
    "#make it in order\n",
    "letter_order = sorted(letters_frequency.items(),key=lambda x:x[1],reverse=True) #like sorted for the avocado exercise on file exercise 2 \n",
    "print(letter_order)"
   ]
  },
  {
   "cell_type": "code",
   "execution_count": 100,
   "metadata": {},
   "outputs": [],
   "source": [
    "# using Counter also works \n",
    "# from collections import Counter\n",
    "# #Counter(secret_message)\n",
    "# print(Counter(secret_message).most_common())"
   ]
  },
  {
   "cell_type": "markdown",
   "metadata": {},
   "source": [
    "**H** is the most common letter so we can equal it to E (in the normal alphabet), which results in a shift of **-3**\n",
    "\n",
    "This calculation can be done without coding, simply by analizing the alphabet, but with coding we can achieve this result with:"
   ]
  },
  {
   "cell_type": "code",
   "execution_count": 331,
   "metadata": {},
   "outputs": [
    {
     "name": "stdout",
     "output_type": "stream",
     "text": [
      "The shift is of -3\n"
     ]
    }
   ],
   "source": [
    "#Find the most common letter in the secret message, knowing that letter ”e” is the most common letter in the English language,\n",
    "#calculate the shift that was used to encrypt the message\n",
    "\n",
    "alphabet = ['a','b','c','d','e','f','g','h','i','j','k','l','m','n','o','p','q','r','s','t','u','v','w','x','y','z']\n",
    "\n",
    "main_letter = letter_order[1] #our letter h\n",
    "\n",
    "for l in range(len(alphabet)):\n",
    "    if l == 'e':\n",
    "        letter_e = alphabet[l] #index of e (use.index() from class 3)\n",
    "    elif l == 'h':\n",
    "        letter_h = alphabet[l] #index of h\n",
    "\n",
    "shift = letter_e - letter_h \n",
    "\n",
    "print(\"The shift is of\",shift)"
   ]
  },
  {
   "cell_type": "markdown",
   "metadata": {},
   "source": [
    "3. Decrypt the message: After you figure out the shift.\n",
    "\n",
    "You are now ready to write a function that decodes your secret message based on the shift used. That is, replace each character in the secret message with the original before the shift used."
   ]
  },
  {
   "cell_type": "markdown",
   "metadata": {},
   "source": [
    "<span style=\"color:crimson\">Note:</span> You should complete this exercise using only the material you have seen in class. You may not use any external functions (such as ord() or chr()) to solve it."
   ]
  },
  {
   "cell_type": "code",
   "execution_count": 324,
   "metadata": {},
   "outputs": [],
   "source": [
    "#replacing letters and new message decoded \n",
    "\n",
    "def decoder(txt):\n",
    "    \n",
    "    new_message = ''\n",
    "    \n",
    "    for l in secret_message:\n",
    "        if l in alphabet:\n",
    "            let_index = alphabet.index(l) #get the index of letter l on the list (class 03)\n",
    "            new_index = let_index - 3  #go -3 in the indexes on the list \n",
    "            new_letter =  alphabet[new_index] #new letter with the -3 index \n",
    "                \n",
    "        else:\n",
    "            new_letter = l #if we cannot find the character in the alphabet list, like the , and !, we have to keep it the same \n",
    "    \n",
    "        new_message +=  new_letter #append on the new_message all the letters, in order that they are iterated through \n",
    "    \n",
    "    return new_message"
   ]
  },
  {
   "cell_type": "code",
   "execution_count": 326,
   "metadata": {},
   "outputs": [
    {
     "name": "stdout",
     "output_type": "stream",
     "text": [
      "believe it or not, you have cracked this message! you are as awesome as any other student at emlyon!\n"
     ]
    }
   ],
   "source": [
    "print(decoder(secret_message))"
   ]
  },
  {
   "cell_type": "markdown",
   "metadata": {},
   "source": [
    "---"
   ]
  },
  {
   "cell_type": "markdown",
   "metadata": {},
   "source": [
    "I tested with 'a' character, and by having the alphabet list with each letter as an item, it automatically goes  backwards to \"z\", creating the loop of characters"
   ]
  },
  {
   "cell_type": "markdown",
   "metadata": {},
   "source": [
    "---"
   ]
  }
 ],
 "metadata": {
  "kernelspec": {
   "display_name": "Python 3 (ipykernel)",
   "language": "python",
   "name": "python3"
  },
  "language_info": {
   "codemirror_mode": {
    "name": "ipython",
    "version": 3
   },
   "file_extension": ".py",
   "mimetype": "text/x-python",
   "name": "python",
   "nbconvert_exporter": "python",
   "pygments_lexer": "ipython3",
   "version": "3.12.4"
  }
 },
 "nbformat": 4,
 "nbformat_minor": 4
}
