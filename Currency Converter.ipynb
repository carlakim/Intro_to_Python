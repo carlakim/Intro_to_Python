{
 "cells": [
  {
   "cell_type": "markdown",
   "metadata": {},
   "source": [
    "<table style=\"float:left\">\n",
    "    <tr>\n",
    "        <td>\n",
    "            <img src=\"images/emlyon.png\" style=\"height:60px; float:left; padding-right:10px; margin-top:5px\" />\n",
    "        </td>\n",
    "        <td style=\"padding-bottom:10px;\">\n",
    "            <h1 style=\"border-bottom: 1px solid #eeeeee;\"> Python BootCamp </h1>\n",
    "            <span style=\"display:inline-block; margin-top:-15px;\">\n",
    "            <a href=\"https://masters.em-lyon.com/en/msc-in-digital-marketing-data-science\">[Emlyon]</a> MSc in Digital Marketing & Data Science (DMDS)    \n",
    "            <br/>\n",
    "            Sep 2024, Paris | © Saeed VARASTEH [RP] | Jean SAVINIEN\n",
    "            </span>\n",
    "        </td>\n",
    "    </tr>\n",
    "</table>"
   ]
  },
  {
   "cell_type": "markdown",
   "metadata": {},
   "source": [
    "**Carla Kim Gaieski**"
   ]
  },
  {
   "cell_type": "markdown",
   "metadata": {},
   "source": [
    "<div class=\"alert-info\" style=\"border-bottom: solid 1px lightgray; background-color:#fff4e3;\">\n",
    "    <img src=\"images/homework.png\" style=\"height:60px; float:left; padding-right:10px;\" />\n",
    "    <span style=\"font-weight:bold; color:#db9425\">\n",
    "        <h4 style=\"padding-top:25px;\"> HOMEWORK 01 </h4>\n",
    "    </span>\n",
    "</div>"
   ]
  },
  {
   "cell_type": "markdown",
   "metadata": {},
   "source": [
    "Make sure you read all the readings and content from the lectures on Brightspace.\n",
    "\n",
    "If you have worked with anyone, please enter their names below:"
   ]
  },
  {
   "cell_type": "code",
   "execution_count": 1,
   "metadata": {},
   "outputs": [],
   "source": [
    "Names = \"Anahí Bautista, Nayoon Koo\""
   ]
  },
  {
   "cell_type": "markdown",
   "metadata": {},
   "source": [
    "To make it easier for us to mark your work, here are some guidelines that you should read and follow carefully.\n",
    "\n",
    "**Read the instructions carefully**: The instructions for your code are very important. If you don't follow them, your application won't do what you want it to do. Getting it to work properly is part of learning to code.\n",
    "\n",
    "**Indentation**: In Python, indentation is important and must be consistent. If you write your code in the notebook, the __tab__ key will indent properly. \n",
    "\n",
    "**Variable names**: There's a culture in Python of making everything readable. Don't use \"x\" and \"y\" for variable names. Use words like \"pounds\" and \"kilograms\".  It will be easier for colleagues (and yourself) to understand the code later.\n",
    "\n",
    "**Comments** Please comment your code as much as you can."
   ]
  },
  {
   "cell_type": "markdown",
   "metadata": {},
   "source": [
    "### Homework 01 - Currency Converter\n",
    "\n",
    "---"
   ]
  },
  {
   "cell_type": "markdown",
   "metadata": {},
   "source": [
    "Consider money that you need to convert into another currency. \n",
    "\n",
    "We will ask you to code a converter function by asking the user to give an input value and specify the conversion he or she wants to make (from the source currency to the target currency)."
   ]
  },
  {
   "cell_type": "markdown",
   "metadata": {},
   "source": [
    "#### Step one"
   ]
  },
  {
   "cell_type": "markdown",
   "metadata": {},
   "source": [
    "Let's assume you are a user who wants to convert money from EUR to YEN (Japanese currency).\n",
    "\n",
    "Please take the currency value to be 1 EUR = 157.58 YEN\n",
    "\n",
    "Write a code that: \n",
    "\n",
    "* (1) Asks from the user for an input\n",
    "    - This value will be considered to be in EUR.\n",
    "* (2) Call your converter function with this value.\n",
    "* (3) Check the value and raise an error if it is not a numerical or positive value.\n",
    "    - All your error messages must start with \"Error: \"\n",
    "    - On error, the function returns -1.\n",
    "* (4) Then calculates the value in YEN. \n",
    "* (5) Return the result."
   ]
  },
  {
   "cell_type": "code",
   "execution_count": 233,
   "metadata": {},
   "outputs": [],
   "source": [
    "def currency_converter(value):\n",
    "    \n",
    "    error_message = 'Error: your value should be a positive number'\n",
    "    \n",
    "    ### (3) your code here\n",
    "    #check if there are numbers in input or not \n",
    "    if value.isnumeric():\n",
    "        value = int(value)\n",
    "        if value > 0:\n",
    "            conversion = value * 157.58\n",
    "        ### (4) your code here \n",
    "        else:\n",
    "            conversion = -1\n",
    "            print(error_message)\n",
    "            \n",
    "    else:\n",
    "        conversion = -1\n",
    "        print(error_message)\n",
    "        ### (5)\n",
    "    return conversion"
   ]
  },
  {
   "cell_type": "code",
   "execution_count": 235,
   "metadata": {},
   "outputs": [
    {
     "name": "stdin",
     "output_type": "stream",
     "text": [
      "Enter a value in EUR to be converted to YEN: -3\n"
     ]
    },
    {
     "name": "stdout",
     "output_type": "stream",
     "text": [
      "Error: your value should be a positive number\n",
      "Your input is equal to -1 YEN.\n"
     ]
    }
   ],
   "source": [
    "### (1) your code here\n",
    "prompt = input('Enter a value in EUR to be converted to YEN:')\n",
    "\n",
    "output = currency_converter(prompt) ### (2)\n",
    "\n",
    "print(f\"Your input is equal to {output} YEN.\")"
   ]
  },
  {
   "cell_type": "markdown",
   "metadata": {},
   "source": [
    "#### Step two"
   ]
  },
  {
   "cell_type": "markdown",
   "metadata": {},
   "source": [
    "Let's now consider multiple options of conversion from one currency to another one. \n",
    "\n",
    "Create a function that takes two inputs:\n",
    "\n",
    "- the `value` (in EUR) to be converted.\n",
    "- the final `currency` for which you need to know the value.\n",
    "\n",
    "For this exercise, you will consider the following currencies: YEN / USD / CAD / GBP / INR\n",
    "\n",
    "The conversion rates are: \n",
    "\n",
    "- 1 EUR = 157.58 YEN\n",
    "- 1 EUR = 0.99 USD\n",
    "- 1 EUR = 1.35 CAD\n",
    "- 1 EUR = 0.86 GBP \n",
    "- 1 EUR = 81.90 INR\n",
    "\n",
    "**When asking for inputs from the user, please stick to upper case letters**"
   ]
  },
  {
   "cell_type": "code",
   "execution_count": 145,
   "metadata": {},
   "outputs": [],
   "source": [
    "def currency_converter2(value, currency): #the name of the function is the blue colored words, after \"def\"\n",
    "\n",
    "    error_message = 'Error: your value should be a positive number'\n",
    "    error_message2 = 'Error: select one of the given currencies (YEN / USD / CAD / GBP / INR)'\n",
    "\n",
    "\n",
    "    if value.isnumeric():\n",
    "        value = int(value)\n",
    "        if value < 0:\n",
    "            print(error_message)\n",
    "            conversion = -1\n",
    "\n",
    "        else:\n",
    "            if currency == \"YEN\":\n",
    "                conversion = value * 157.58\n",
    "                \n",
    "            elif currency == \"USD\":\n",
    "                conversion = value * 0.99\n",
    "                \n",
    "            elif currency == \"CAD\":\n",
    "                conversion = value * 1.35\n",
    "                \n",
    "            elif currency == \"GBP\":\n",
    "                conversion = value * 0.56       \n",
    "                \n",
    "            elif currency == \"INR\":\n",
    "                conversion = value * 81.90  \n",
    "                \n",
    "            elif currency not in \"YEN\" or \"USD\" or \"CAD\" or \"GBP\" or \"INR\":\n",
    "                print(error_message2)\n",
    "                conversion = -1\n",
    "        \n",
    "    else:\n",
    "        print(error_message)\n",
    "        conversion = -1\n",
    "\n",
    "        if currency != \"YEN\" or \"USD\" or \"CAD\" or \"GBP\" or \"INR\":\n",
    "            print(error_message2)\n",
    "            conversion = -1\n",
    "    \n",
    "\n",
    "    return conversion"
   ]
  },
  {
   "cell_type": "code",
   "execution_count": 147,
   "metadata": {},
   "outputs": [
    {
     "name": "stdin",
     "output_type": "stream",
     "text": [
      "Enter a number 10\n",
      "Enter a currency hshs\n"
     ]
    },
    {
     "name": "stdout",
     "output_type": "stream",
     "text": [
      "Error: select one of the given currencies (YEN / USD / CAD / GBP / INR)\n",
      "Your input is equal to -1 hshs .\n"
     ]
    }
   ],
   "source": [
    "value = input(\"Enter a number\")\n",
    "currency = input(\"Enter a currency\")\n",
    "\n",
    "output = currency_converter2(value,currency) \n",
    "\n",
    "print(f\"Your input is equal to {output} {currency} .\")"
   ]
  },
  {
   "cell_type": "code",
   "execution_count": 64,
   "metadata": {},
   "outputs": [
    {
     "name": "stdout",
     "output_type": "stream",
     "text": [
      "Error: select one of the given currencies (YEN / USD / CAD / GBP / INR)\n"
     ]
    },
    {
     "data": {
      "text/plain": [
       "-1"
      ]
     },
     "execution_count": 64,
     "metadata": {},
     "output_type": "execute_result"
    }
   ],
   "source": [
    "function(value, currency)"
   ]
  },
  {
   "cell_type": "code",
   "execution_count": null,
   "metadata": {},
   "outputs": [],
   "source": []
  },
  {
   "cell_type": "code",
   "execution_count": null,
   "metadata": {},
   "outputs": [],
   "source": []
  },
  {
   "cell_type": "code",
   "execution_count": 129,
   "metadata": {},
   "outputs": [],
   "source": [
    "def currency_converter2(value, currency):\n",
    "\n",
    "    error_message = 'Error: your value should be a positive number'\n",
    "    error_message2 = 'Error: select one of the given currencies (YEN / USD / CAD / GBP / INR)'\n",
    "\n",
    "    ### your code here\n",
    "    #list of currency names\n",
    "    m_name = [\"YEN\", \"USD\", \"CAD\", \"GBP\", \"INR\"] \n",
    "    \n",
    "    #dictionary with curency and conversion values \n",
    "    conversion_money = {\"YEN\":157.58,\n",
    "                 \"USD\":0.99,\n",
    "                 \"CAD\":1.35,\n",
    "                 \"GBP\":0.86,\n",
    "                 \"INR\":81.90}\n",
    "    \n",
    "    #check if it is a number or not\n",
    "    if value.replace('.','',1).isdigit():\n",
    "        value = float(value)\n",
    "        if value > 0: \n",
    "            for m in conversion_money: #access the dictionary and use the key and values to calculate the conversion \n",
    "                if currency == m:\n",
    "                    conversion = value * conversion_money[m]\n",
    "    #error 1\n",
    "        else:\n",
    "            conversion = -1\n",
    "            print(error_message)\n",
    "    #error 2            \n",
    "    else:\n",
    "        conversion = -1\n",
    "        print(error_message)\n",
    "\n",
    "    #error 3\n",
    "    if currency not in m_name:\n",
    "        print(error_message2)\n",
    "\n",
    "    return conversion\n"
   ]
  },
  {
   "cell_type": "code",
   "execution_count": 75,
   "metadata": {},
   "outputs": [
    {
     "name": "stdin",
     "output_type": "stream",
     "text": [
      "Enter a value you would like to convert: 10\n",
      "Enter the currency you would like to convert to: USD\n"
     ]
    },
    {
     "name": "stdout",
     "output_type": "stream",
     "text": [
      "Your input is equal to 9.9 USD.\n"
     ]
    }
   ],
   "source": [
    "### your code here\n",
    "\n",
    "#how much to convert\n",
    "value = input('Enter a value you would like to convert:')\n",
    "\n",
    "#which curency to convert to\n",
    "currency = input('Enter the currency you would like to convert to:')\n",
    "\n",
    "#calling the function\n",
    "final_tot = currency_converter2(value, currency)\n",
    "\n",
    "print(f\"Your input is equal to {final_tot} {currency}.\")"
   ]
  },
  {
   "cell_type": "markdown",
   "metadata": {},
   "source": [
    "More tests:"
   ]
  },
  {
   "cell_type": "code",
   "execution_count": 142,
   "metadata": {},
   "outputs": [
    {
     "name": "stdout",
     "output_type": "stream",
     "text": [
      "10.32\n"
     ]
    },
    {
     "name": "stdin",
     "output_type": "stream",
     "text": [
      "Enter a value you would like to convert: 12\n",
      "Enter the currency you would like to convert to: GBP\n"
     ]
    },
    {
     "name": "stdout",
     "output_type": "stream",
     "text": [
      "Your input is equal to 10.32 GBP.\n"
     ]
    }
   ],
   "source": [
    "# input1 = 12\n",
    "# input2 = 'GBP'\n",
    "\n",
    "#print using direct inputs\n",
    "print(currency_converter2(\"12\", \"GBP\"))\n",
    "\n",
    "\n",
    "\n",
    "#print using user input\n",
    "value = input('Enter a value you would like to convert:')\n",
    "currency = input('Enter the currency you would like to convert to:')\n",
    "\n",
    "final_tot = currency_converter2(value, currency)\n",
    "\n",
    "print(f\"Your input is equal to {final_tot} {currency}.\")"
   ]
  },
  {
   "cell_type": "code",
   "execution_count": 146,
   "metadata": {},
   "outputs": [
    {
     "name": "stdout",
     "output_type": "stream",
     "text": [
      "2493.855\n"
     ]
    },
    {
     "name": "stdin",
     "output_type": "stream",
     "text": [
      "Enter a value you would like to convert: 30.45\n",
      "Enter the currency you would like to convert to: INR\n"
     ]
    },
    {
     "name": "stdout",
     "output_type": "stream",
     "text": [
      "Your input is equal to 2493.855 INR.\n"
     ]
    }
   ],
   "source": [
    "# input1 = 30.45\n",
    "# input2 = 'INR'\n",
    "# currency_converter2(input1, input2)\n",
    "\n",
    "#print using direct inputs\n",
    "print(currency_converter2(\"30.45\", \"INR\"))\n",
    "\n",
    "#print using user input\n",
    "value = input('Enter a value you would like to convert:')\n",
    "currency = input('Enter the currency you would like to convert to:')\n",
    "final_tot = currency_converter2(value, currency)\n",
    "\n",
    "print(f\"Your input is equal to {final_tot} {currency}.\")"
   ]
  },
  {
   "cell_type": "markdown",
   "metadata": {},
   "source": [
    "For this third test, I used stackoverflow to help me solve an error that I had not noticed before with the floats inputs that were not recognized by string.isnumeric():\n",
    "https://stackoverflow.com/questions/354038/how-do-i-check-if-a-string-represents-a-number-float-or-int"
   ]
  },
  {
   "cell_type": "markdown",
   "metadata": {},
   "source": [
    "#### Step three"
   ]
  },
  {
   "cell_type": "markdown",
   "metadata": {},
   "source": [
    "In this last step, you will extend the programme you're programming once again! \n",
    "\n",
    "**Now you will not only consider one input currency, but any input currency.**\n",
    "\n",
    "This means that the user will have to specify which currency the input is in, and he or she will also have to specify the output currency.\n",
    "\n",
    "So here is what you need to do:\n",
    "\n",
    "- Add another input from the user specifying the input or initial currency.\n",
    "\n",
    "**Take time before coding to consider all the ways of converting from one currency to another.** \n",
    "\n",
    "Concerning the conversion rates, use the ones given in step 2. "
   ]
  },
  {
   "cell_type": "code",
   "execution_count": 229,
   "metadata": {},
   "outputs": [],
   "source": [
    "def currency_converter3(value, currency_in, currency_out):\n",
    "\n",
    "    error_message = 'Error: your value should be a positive number'\n",
    "    error_message2 = 'Error: select one of the given currencies (EUR/ YEN / USD / CAD / GBP / INR)'\n",
    "\n",
    " #list of currency names\n",
    "    m_name = [\"EUR\",\"YEN\", \"USD\", \"CAD\", \"GBP\", \"INR\"] \n",
    "    \n",
    "    #dictionary with the conversion values from base EUR to others \n",
    "    conversion_money = {\"EUR\":1,\n",
    "                        \"YEN\":157.58,\n",
    "                        \"USD\":0.99,\n",
    "                        \"CAD\":1.35,\n",
    "                        \"GBP\":0.86,\n",
    "                        \"INR\":81.90}\n",
    "\n",
    "\n",
    "    #check if it is a number or not\n",
    "    if value.replace('.','',1).isdigit():\n",
    "        value = float(value)\n",
    "        if value > 0: \n",
    "            to_euro = value/conversion_money[currency_in] #convert to base euro\n",
    "            conversion = to_euro * conversion_money[currency_out] #convert to desired curency\n",
    "                     \n",
    "        #error 1 if it is not >0\n",
    "        else:\n",
    "            conversion = -1\n",
    "            print(error_message)\n",
    "   \n",
    "    #error 2: if it is not number float             \n",
    "    else:\n",
    "        conversion = -1\n",
    "        print(error_message)\n",
    "\n",
    "    #error 3: if currency1 name not in list \n",
    "    if currency_in not in m_name:\n",
    "        print(error_message2)\n",
    "        \n",
    "    #error 4: if currency2 name not in list \n",
    "    elif currency_out not in m_name:\n",
    "        print(error_message2)\n",
    "\n",
    "    \n",
    "    return conversion\n"
   ]
  },
  {
   "cell_type": "code",
   "execution_count": 231,
   "metadata": {},
   "outputs": [
    {
     "name": "stdin",
     "output_type": "stream",
     "text": [
      "Enter a value you would like to convert: 10\n",
      "Enter the currency you currently have: USD\n",
      "Enter the currency you would like to convert to: EUR\n"
     ]
    },
    {
     "name": "stdout",
     "output_type": "stream",
     "text": [
      "Your input in USD, is equal to 10.1010101010101 EUR.\n"
     ]
    }
   ],
   "source": [
    "### your code here\n",
    "\n",
    "#how much to convert\n",
    "value = input('Enter a value you would like to convert:')\n",
    "\n",
    "#which curency user has \n",
    "currency_in = input('Enter the currency you currently have:')\n",
    "\n",
    "#which curency to convert to\n",
    "currency_out = input('Enter the currency you would like to convert to:')\n",
    "\n",
    "#calling the function\n",
    "total = currency_converter3(value, currency_in, currency_out)\n",
    "\n",
    "print(f\"Your input in {currency_in}, is equal to {total} {currency_out}.\")"
   ]
  },
  {
   "cell_type": "markdown",
   "metadata": {},
   "source": [
    "The conversion rates are:\n",
    "\n",
    "- 1 EUR = 157.58 YEN\n",
    "- 1 EUR = 0.99 USD\n",
    "- 1 EUR = 1.35 CAD\n",
    "- 1 EUR = 0.86 GBP \n",
    "- 1 EUR = 81.90 INR\n",
    "\n",
    "1 EURO = 157.58 YEN = 0.99 USD = 1.35 CAD = 0.86 GBP = 81.90 INR\n",
    "\n",
    "---\n",
    "Euro for YEN:\n",
    "**x * 157.58 == y YEN**\n",
    "\n",
    "Yen for euro: \n",
    "**y/157.58 == x euro**\n",
    "\n",
    "\n",
    "---\n",
    "\n",
    "\n",
    "\n",
    "USD and BRL:\n",
    "\n",
    "dolar = real_x/5.58\n",
    "\n",
    "real = dolar*5.58\n",
    "\n",
    "---\n",
    "\n",
    "\n",
    "As the convertions are made based in exchange rates of EURO as the base (value 1), it is easier to convert the input currency and value to euro to then convert to the desired curency and final value\n"
   ]
  },
  {
   "cell_type": "markdown",
   "metadata": {},
   "source": [
    "---"
   ]
  },
  {
   "cell_type": "code",
   "execution_count": null,
   "metadata": {},
   "outputs": [],
   "source": []
  }
 ],
 "metadata": {
  "kernelspec": {
   "display_name": "Python 3 (ipykernel)",
   "language": "python",
   "name": "python3"
  },
  "language_info": {
   "codemirror_mode": {
    "name": "ipython",
    "version": 3
   },
   "file_extension": ".py",
   "mimetype": "text/x-python",
   "name": "python",
   "nbconvert_exporter": "python",
   "pygments_lexer": "ipython3",
   "version": "3.12.4"
  }
 },
 "nbformat": 4,
 "nbformat_minor": 4
}
